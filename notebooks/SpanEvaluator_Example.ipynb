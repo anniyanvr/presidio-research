{
 "cells": [
  {
   "cell_type": "markdown",
   "id": "43297142",
   "metadata": {},
   "source": [
    "# Span Evaluator Example\n",
    "This notebook demonstrates how to use the `SpanEvaluator` class to create spans from a DataFrame of tokens and evaluate predictions.  \n",
    "The evaluation is performed at the **span level** using token-level Intersection over Union (IoU), which allows for partial matches between predicted and annotated entities."
   ]
  },
  {
   "cell_type": "code",
   "execution_count": 1,
   "id": "f693ba5a",
   "metadata": {},
   "outputs": [
    {
     "name": "stdout",
     "output_type": "stream",
     "text": [
      "stanza and spacy_stanza are not installed\n",
      "Flair is not installed by default\n"
     ]
    }
   ],
   "source": [
    "# Import required libraries\n",
    "import pandas as pd\n",
    "from presidio_evaluator.evaluation.span_evaluator import SpanEvaluator\n",
    "from presidio_evaluator.data_objects import Span"
   ]
  },
  {
   "cell_type": "markdown",
   "id": "f84d7e7e",
   "metadata": {},
   "source": [
    "## Example DataFrame\n",
    "Below is a sample DataFrame representing tokenized text.  \n",
    "Each row corresponds to a token, with columns for:\n",
    "- `sentence_id`: The sentence this token belongs to.\n",
    "- `token`: The text of the token.\n",
    "- `annotation`: The ground truth entity label for the token.\n",
    "- `prediction`: The predicted entity label for the token.\n",
    "- `start`: The character start index of the token in the sentence.\n",
    "\n",
    "This data is designed so that some annotation spans and prediction spans only partially overlap, which will result in evaluation metrics (precision, recall, F1) between 0 and 1.\n",
    "\n",
    "- In sentence 1, \"John Doe\" is annotated as a PERSON, but only \"John\" is predicted as PERSON.\n",
    "- \"New York City\" is annotated as LOCATION, but only \"New\" and \"City\" are predicted as LOCATION (not \"York\").\n",
    "- In sentence 2, \"Jane Smith\" is annotated as PERSON, but only \"Smith\" is predicted as PERSON.\n",
    "- \"Paris\" is correctly annotated and predicted as LOCATION."
   ]
  },
  {
   "cell_type": "code",
   "execution_count": 2,
   "id": "8efb8eb2",
   "metadata": {},
   "outputs": [
    {
     "data": {
      "text/html": [
       "<div>\n",
       "<style scoped>\n",
       "    .dataframe tbody tr th:only-of-type {\n",
       "        vertical-align: middle;\n",
       "    }\n",
       "\n",
       "    .dataframe tbody tr th {\n",
       "        vertical-align: top;\n",
       "    }\n",
       "\n",
       "    .dataframe thead th {\n",
       "        text-align: right;\n",
       "    }\n",
       "</style>\n",
       "<table border=\"1\" class=\"dataframe\">\n",
       "  <thead>\n",
       "    <tr style=\"text-align: right;\">\n",
       "      <th></th>\n",
       "      <th>sentence_id</th>\n",
       "      <th>token</th>\n",
       "      <th>annotation</th>\n",
       "      <th>prediction</th>\n",
       "      <th>start</th>\n",
       "    </tr>\n",
       "  </thead>\n",
       "  <tbody>\n",
       "    <tr>\n",
       "      <th>0</th>\n",
       "      <td>1</td>\n",
       "      <td>John</td>\n",
       "      <td>PERSON</td>\n",
       "      <td>PERSON</td>\n",
       "      <td>0</td>\n",
       "    </tr>\n",
       "    <tr>\n",
       "      <th>1</th>\n",
       "      <td>1</td>\n",
       "      <td>Doe</td>\n",
       "      <td>PERSON</td>\n",
       "      <td>O</td>\n",
       "      <td>5</td>\n",
       "    </tr>\n",
       "    <tr>\n",
       "      <th>2</th>\n",
       "      <td>1</td>\n",
       "      <td>lives</td>\n",
       "      <td>O</td>\n",
       "      <td>O</td>\n",
       "      <td>9</td>\n",
       "    </tr>\n",
       "    <tr>\n",
       "      <th>3</th>\n",
       "      <td>1</td>\n",
       "      <td>in</td>\n",
       "      <td>O</td>\n",
       "      <td>O</td>\n",
       "      <td>15</td>\n",
       "    </tr>\n",
       "    <tr>\n",
       "      <th>4</th>\n",
       "      <td>1</td>\n",
       "      <td>New</td>\n",
       "      <td>LOCATION</td>\n",
       "      <td>LOCATION</td>\n",
       "      <td>18</td>\n",
       "    </tr>\n",
       "    <tr>\n",
       "      <th>5</th>\n",
       "      <td>1</td>\n",
       "      <td>York</td>\n",
       "      <td>LOCATION</td>\n",
       "      <td>O</td>\n",
       "      <td>22</td>\n",
       "    </tr>\n",
       "    <tr>\n",
       "      <th>6</th>\n",
       "      <td>1</td>\n",
       "      <td>City</td>\n",
       "      <td>LOCATION</td>\n",
       "      <td>LOCATION</td>\n",
       "      <td>27</td>\n",
       "    </tr>\n",
       "    <tr>\n",
       "      <th>7</th>\n",
       "      <td>1</td>\n",
       "      <td>.</td>\n",
       "      <td>O</td>\n",
       "      <td>O</td>\n",
       "      <td>31</td>\n",
       "    </tr>\n",
       "    <tr>\n",
       "      <th>8</th>\n",
       "      <td>2</td>\n",
       "      <td>Jane</td>\n",
       "      <td>PERSON</td>\n",
       "      <td>O</td>\n",
       "      <td>33</td>\n",
       "    </tr>\n",
       "    <tr>\n",
       "      <th>9</th>\n",
       "      <td>2</td>\n",
       "      <td>Smith</td>\n",
       "      <td>PERSON</td>\n",
       "      <td>PERSON</td>\n",
       "      <td>38</td>\n",
       "    </tr>\n",
       "    <tr>\n",
       "      <th>10</th>\n",
       "      <td>2</td>\n",
       "      <td>visited</td>\n",
       "      <td>O</td>\n",
       "      <td>O</td>\n",
       "      <td>44</td>\n",
       "    </tr>\n",
       "    <tr>\n",
       "      <th>11</th>\n",
       "      <td>2</td>\n",
       "      <td>Paris</td>\n",
       "      <td>LOCATION</td>\n",
       "      <td>LOCATION</td>\n",
       "      <td>52</td>\n",
       "    </tr>\n",
       "    <tr>\n",
       "      <th>12</th>\n",
       "      <td>2</td>\n",
       "      <td>last</td>\n",
       "      <td>O</td>\n",
       "      <td>O</td>\n",
       "      <td>58</td>\n",
       "    </tr>\n",
       "    <tr>\n",
       "      <th>13</th>\n",
       "      <td>2</td>\n",
       "      <td>summer</td>\n",
       "      <td>O</td>\n",
       "      <td>O</td>\n",
       "      <td>63</td>\n",
       "    </tr>\n",
       "    <tr>\n",
       "      <th>14</th>\n",
       "      <td>2</td>\n",
       "      <td>.</td>\n",
       "      <td>O</td>\n",
       "      <td>O</td>\n",
       "      <td>69</td>\n",
       "    </tr>\n",
       "  </tbody>\n",
       "</table>\n",
       "</div>"
      ],
      "text/plain": [
       "    sentence_id    token annotation prediction  start\n",
       "0             1     John     PERSON     PERSON      0\n",
       "1             1      Doe     PERSON          O      5\n",
       "2             1    lives          O          O      9\n",
       "3             1       in          O          O     15\n",
       "4             1      New   LOCATION   LOCATION     18\n",
       "5             1     York   LOCATION          O     22\n",
       "6             1     City   LOCATION   LOCATION     27\n",
       "7             1        .          O          O     31\n",
       "8             2     Jane     PERSON          O     33\n",
       "9             2    Smith     PERSON     PERSON     38\n",
       "10            2  visited          O          O     44\n",
       "11            2    Paris   LOCATION   LOCATION     52\n",
       "12            2     last          O          O     58\n",
       "13            2   summer          O          O     63\n",
       "14            2        .          O          O     69"
      ]
     },
     "execution_count": 2,
     "metadata": {},
     "output_type": "execute_result"
    }
   ],
   "source": [
    "# Create a sample DataFrame with partially matching annotations and predictions\n",
    "sample_data = [\n",
    "    {\"sentence_id\": 1, \"token\": \"John\", \"annotation\": \"PERSON\", \"prediction\": \"PERSON\", \"start\": 0},\n",
    "    {\"sentence_id\": 1, \"token\": \"Doe\", \"annotation\": \"PERSON\", \"prediction\": \"O\", \"start\": 5},\n",
    "    {\"sentence_id\": 1, \"token\": \"lives\", \"annotation\": \"O\", \"prediction\": \"O\", \"start\": 9},\n",
    "    {\"sentence_id\": 1, \"token\": \"in\", \"annotation\": \"O\", \"prediction\": \"O\", \"start\": 15},\n",
    "    {\"sentence_id\": 1, \"token\": \"New\", \"annotation\": \"LOCATION\", \"prediction\": \"LOCATION\", \"start\": 18},\n",
    "    {\"sentence_id\": 1, \"token\": \"York\", \"annotation\": \"LOCATION\", \"prediction\": \"O\", \"start\": 22},\n",
    "    {\"sentence_id\": 1, \"token\": \"City\", \"annotation\": \"LOCATION\", \"prediction\": \"LOCATION\", \"start\": 27},\n",
    "    {\"sentence_id\": 1, \"token\": \".\", \"annotation\": \"O\", \"prediction\": \"O\", \"start\": 31},\n",
    "    {\"sentence_id\": 2, \"token\": \"Jane\", \"annotation\": \"PERSON\", \"prediction\": \"O\", \"start\": 33},\n",
    "    {\"sentence_id\": 2, \"token\": \"Smith\", \"annotation\": \"PERSON\", \"prediction\": \"PERSON\", \"start\": 38},\n",
    "    {\"sentence_id\": 2, \"token\": \"visited\", \"annotation\": \"O\", \"prediction\": \"O\", \"start\": 44},\n",
    "    {\"sentence_id\": 2, \"token\": \"Paris\", \"annotation\": \"LOCATION\", \"prediction\": \"LOCATION\", \"start\": 52},\n",
    "    {\"sentence_id\": 2, \"token\": \"last\", \"annotation\": \"O\", \"prediction\": \"O\", \"start\": 58},\n",
    "    {\"sentence_id\": 2, \"token\": \"summer\", \"annotation\": \"O\", \"prediction\": \"O\", \"start\": 63},\n",
    "    {\"sentence_id\": 2, \"token\": \".\", \"annotation\": \"O\", \"prediction\": \"O\", \"start\": 69},\n",
    "]\n",
    "\n",
    "df = pd.DataFrame(sample_data)\n",
    "df"
   ]
  },
  {
   "cell_type": "markdown",
   "id": "5a2fda21",
   "metadata": {},
   "source": [
    "## Create Spans from Tokens\n",
    "The `SpanEvaluator` reconstructs entity spans from token-level labels.  \n",
    "Adjacent tokens with the same entity label are merged into a single span.  \n",
    "This is important for evaluating at the entity (span) level rather than the token level."
   ]
  },
  {
   "cell_type": "code",
   "execution_count": 3,
   "id": "0bdfb24f",
   "metadata": {},
   "outputs": [
    {
     "name": "stdout",
     "output_type": "stream",
     "text": [
      "Annotation Spans:\n",
      "Span(type: PERSON, value: ['John', 'Doe'], char_span: [0: 9])\n",
      "Span(type: LOCATION, value: ['New', 'York', 'City'], char_span: [18: 31])\n",
      "Span(type: PERSON, value: ['Jane', 'Smith'], char_span: [33: 44])\n",
      "Span(type: LOCATION, value: ['Paris'], char_span: [52: 58])\n",
      "\n",
      "Prediction Spans:\n",
      "Span(type: PERSON, value: ['John'], char_span: [0: 5])\n",
      "Span(type: LOCATION, value: ['New'], char_span: [18: 22])\n",
      "Span(type: LOCATION, value: ['City'], char_span: [27: 31])\n",
      "Span(type: PERSON, value: ['Smith'], char_span: [38: 44])\n",
      "Span(type: LOCATION, value: ['Paris'], char_span: [52: 58])\n"
     ]
    }
   ],
   "source": [
    "# Initialize the SpanEvaluator\n",
    "span_evaluator = SpanEvaluator()\n",
    "\n",
    "# Create annotation spans\n",
    "annotation_spans = span_evaluator._create_spans(df, \"annotation\")\n",
    "\n",
    "# Create prediction spans\n",
    "prediction_spans = span_evaluator._create_spans(df, \"prediction\")\n",
    "\n",
    "# Display the created spans\n",
    "print(\"Annotation Spans:\")\n",
    "for span in annotation_spans:\n",
    "    print(span)\n",
    "\n",
    "print(\"\\nPrediction Spans:\")\n",
    "for span in prediction_spans:\n",
    "    print(span)"
   ]
  },
  {
   "cell_type": "markdown",
   "id": "efee4559",
   "metadata": {},
   "source": [
    "## Evaluate Predictions\n",
    "The `evaluate` method compares the annotation spans and prediction spans using token-level IoU.  \n",
    "For each annotation span, it finds the best-matching prediction span of the same entity type.  \n",
    "If the IoU is above the threshold (default 0.5), it is counted as a true positive.  \n",
    "Otherwise, it is a false negative (missed entity), and unmatched predictions are counted as false positives.\n",
    "\n",
    "The method returns:\n",
    "- Overall precision, recall, and F1 score\n",
    "- Per-entity-type metrics"
   ]
  },
  {
   "cell_type": "code",
   "execution_count": 4,
   "id": "e915a966",
   "metadata": {},
   "outputs": [
    {
     "data": {
      "text/plain": [
       "{'precision': 1.0,\n",
       " 'recall': 0.75,\n",
       " 'f1': 0.8571428571428571,\n",
       " 'per_type': {'PERSON': {'precision': 1.0, 'recall': 1.0, 'f1': 1.0},\n",
       "  'LOCATION': {'precision': 1.0, 'recall': 0.5, 'f1': 0.6666666666666666}},\n",
       " 'error_analysis': {'low_iou_LOCATION': 1}}"
      ]
     },
     "execution_count": 4,
     "metadata": {},
     "output_type": "execute_result"
    }
   ],
   "source": [
    "# Evaluate the predictions\n",
    "results = span_evaluator.evaluate(df)\n",
    "results"
   ]
  },
  {
   "cell_type": "markdown",
   "id": "ce541c9b",
   "metadata": {},
   "source": [
    "## Pairwise Span IoU Table for Error Analysis\n",
    "You can also compute the IoU for **all pairs** of annotation and prediction spans using `span_pairwise_iou_df`.  \n",
    "This is useful for detailed analysis and debugging, as it shows how well each predicted span overlaps with each annotated span.\n",
    "You can inspect the actual span objects and their IoU values for further analysis."
   ]
  },
  {
   "cell_type": "markdown",
   "id": "6fb8fcb3",
   "metadata": {},
   "source": [
    "You have now seen how to use the SpanEvaluator to create spans and evaluate predictions from a token-level DataFrame."
   ]
  },
  {
   "cell_type": "code",
   "execution_count": 5,
   "id": "cab5c004",
   "metadata": {},
   "outputs": [],
   "source": [
    "iou_results = span_evaluator.span_pairwise_iou_df(df)"
   ]
  },
  {
   "cell_type": "code",
   "execution_count": 6,
   "id": "36e9b984",
   "metadata": {},
   "outputs": [
    {
     "data": {
      "text/html": [
       "<div>\n",
       "<style scoped>\n",
       "    .dataframe tbody tr th:only-of-type {\n",
       "        vertical-align: middle;\n",
       "    }\n",
       "\n",
       "    .dataframe tbody tr th {\n",
       "        vertical-align: top;\n",
       "    }\n",
       "\n",
       "    .dataframe thead th {\n",
       "        text-align: right;\n",
       "    }\n",
       "</style>\n",
       "<table border=\"1\" class=\"dataframe\">\n",
       "  <thead>\n",
       "    <tr style=\"text-align: right;\">\n",
       "      <th></th>\n",
       "      <th>sentence_id</th>\n",
       "      <th>annotation_span</th>\n",
       "      <th>prediction_span</th>\n",
       "      <th>ann_entity</th>\n",
       "      <th>ann_start</th>\n",
       "      <th>ann_end</th>\n",
       "      <th>pred_entity</th>\n",
       "      <th>pred_start</th>\n",
       "      <th>pred_end</th>\n",
       "      <th>iou</th>\n",
       "    </tr>\n",
       "  </thead>\n",
       "  <tbody>\n",
       "    <tr>\n",
       "      <th>0</th>\n",
       "      <td>1</td>\n",
       "      <td>Span(type: PERSON, value: ['John', 'Doe'], cha...</td>\n",
       "      <td>Span(type: PERSON, value: ['John'], char_span:...</td>\n",
       "      <td>PERSON</td>\n",
       "      <td>0</td>\n",
       "      <td>9</td>\n",
       "      <td>PERSON</td>\n",
       "      <td>0</td>\n",
       "      <td>5</td>\n",
       "      <td>0.500000</td>\n",
       "    </tr>\n",
       "    <tr>\n",
       "      <th>1</th>\n",
       "      <td>1</td>\n",
       "      <td>Span(type: PERSON, value: ['John', 'Doe'], cha...</td>\n",
       "      <td>Span(type: LOCATION, value: ['New'], char_span...</td>\n",
       "      <td>PERSON</td>\n",
       "      <td>0</td>\n",
       "      <td>9</td>\n",
       "      <td>LOCATION</td>\n",
       "      <td>18</td>\n",
       "      <td>22</td>\n",
       "      <td>0.000000</td>\n",
       "    </tr>\n",
       "    <tr>\n",
       "      <th>2</th>\n",
       "      <td>1</td>\n",
       "      <td>Span(type: PERSON, value: ['John', 'Doe'], cha...</td>\n",
       "      <td>Span(type: LOCATION, value: ['City'], char_spa...</td>\n",
       "      <td>PERSON</td>\n",
       "      <td>0</td>\n",
       "      <td>9</td>\n",
       "      <td>LOCATION</td>\n",
       "      <td>27</td>\n",
       "      <td>31</td>\n",
       "      <td>0.000000</td>\n",
       "    </tr>\n",
       "    <tr>\n",
       "      <th>3</th>\n",
       "      <td>1</td>\n",
       "      <td>Span(type: LOCATION, value: ['New', 'York', 'C...</td>\n",
       "      <td>Span(type: PERSON, value: ['John'], char_span:...</td>\n",
       "      <td>LOCATION</td>\n",
       "      <td>18</td>\n",
       "      <td>31</td>\n",
       "      <td>PERSON</td>\n",
       "      <td>0</td>\n",
       "      <td>5</td>\n",
       "      <td>0.000000</td>\n",
       "    </tr>\n",
       "    <tr>\n",
       "      <th>4</th>\n",
       "      <td>1</td>\n",
       "      <td>Span(type: LOCATION, value: ['New', 'York', 'C...</td>\n",
       "      <td>Span(type: LOCATION, value: ['New'], char_span...</td>\n",
       "      <td>LOCATION</td>\n",
       "      <td>18</td>\n",
       "      <td>31</td>\n",
       "      <td>LOCATION</td>\n",
       "      <td>18</td>\n",
       "      <td>22</td>\n",
       "      <td>0.333333</td>\n",
       "    </tr>\n",
       "    <tr>\n",
       "      <th>5</th>\n",
       "      <td>1</td>\n",
       "      <td>Span(type: LOCATION, value: ['New', 'York', 'C...</td>\n",
       "      <td>Span(type: LOCATION, value: ['City'], char_spa...</td>\n",
       "      <td>LOCATION</td>\n",
       "      <td>18</td>\n",
       "      <td>31</td>\n",
       "      <td>LOCATION</td>\n",
       "      <td>27</td>\n",
       "      <td>31</td>\n",
       "      <td>0.333333</td>\n",
       "    </tr>\n",
       "    <tr>\n",
       "      <th>6</th>\n",
       "      <td>2</td>\n",
       "      <td>Span(type: PERSON, value: ['Jane', 'Smith'], c...</td>\n",
       "      <td>Span(type: PERSON, value: ['Smith'], char_span...</td>\n",
       "      <td>PERSON</td>\n",
       "      <td>33</td>\n",
       "      <td>44</td>\n",
       "      <td>PERSON</td>\n",
       "      <td>38</td>\n",
       "      <td>44</td>\n",
       "      <td>0.500000</td>\n",
       "    </tr>\n",
       "    <tr>\n",
       "      <th>7</th>\n",
       "      <td>2</td>\n",
       "      <td>Span(type: PERSON, value: ['Jane', 'Smith'], c...</td>\n",
       "      <td>Span(type: LOCATION, value: ['Paris'], char_sp...</td>\n",
       "      <td>PERSON</td>\n",
       "      <td>33</td>\n",
       "      <td>44</td>\n",
       "      <td>LOCATION</td>\n",
       "      <td>52</td>\n",
       "      <td>58</td>\n",
       "      <td>0.000000</td>\n",
       "    </tr>\n",
       "    <tr>\n",
       "      <th>8</th>\n",
       "      <td>2</td>\n",
       "      <td>Span(type: LOCATION, value: ['Paris'], char_sp...</td>\n",
       "      <td>Span(type: PERSON, value: ['Smith'], char_span...</td>\n",
       "      <td>LOCATION</td>\n",
       "      <td>52</td>\n",
       "      <td>58</td>\n",
       "      <td>PERSON</td>\n",
       "      <td>38</td>\n",
       "      <td>44</td>\n",
       "      <td>0.000000</td>\n",
       "    </tr>\n",
       "    <tr>\n",
       "      <th>9</th>\n",
       "      <td>2</td>\n",
       "      <td>Span(type: LOCATION, value: ['Paris'], char_sp...</td>\n",
       "      <td>Span(type: LOCATION, value: ['Paris'], char_sp...</td>\n",
       "      <td>LOCATION</td>\n",
       "      <td>52</td>\n",
       "      <td>58</td>\n",
       "      <td>LOCATION</td>\n",
       "      <td>52</td>\n",
       "      <td>58</td>\n",
       "      <td>1.000000</td>\n",
       "    </tr>\n",
       "  </tbody>\n",
       "</table>\n",
       "</div>"
      ],
      "text/plain": [
       "   sentence_id                                    annotation_span  \\\n",
       "0            1  Span(type: PERSON, value: ['John', 'Doe'], cha...   \n",
       "1            1  Span(type: PERSON, value: ['John', 'Doe'], cha...   \n",
       "2            1  Span(type: PERSON, value: ['John', 'Doe'], cha...   \n",
       "3            1  Span(type: LOCATION, value: ['New', 'York', 'C...   \n",
       "4            1  Span(type: LOCATION, value: ['New', 'York', 'C...   \n",
       "5            1  Span(type: LOCATION, value: ['New', 'York', 'C...   \n",
       "6            2  Span(type: PERSON, value: ['Jane', 'Smith'], c...   \n",
       "7            2  Span(type: PERSON, value: ['Jane', 'Smith'], c...   \n",
       "8            2  Span(type: LOCATION, value: ['Paris'], char_sp...   \n",
       "9            2  Span(type: LOCATION, value: ['Paris'], char_sp...   \n",
       "\n",
       "                                     prediction_span ann_entity  ann_start  \\\n",
       "0  Span(type: PERSON, value: ['John'], char_span:...     PERSON          0   \n",
       "1  Span(type: LOCATION, value: ['New'], char_span...     PERSON          0   \n",
       "2  Span(type: LOCATION, value: ['City'], char_spa...     PERSON          0   \n",
       "3  Span(type: PERSON, value: ['John'], char_span:...   LOCATION         18   \n",
       "4  Span(type: LOCATION, value: ['New'], char_span...   LOCATION         18   \n",
       "5  Span(type: LOCATION, value: ['City'], char_spa...   LOCATION         18   \n",
       "6  Span(type: PERSON, value: ['Smith'], char_span...     PERSON         33   \n",
       "7  Span(type: LOCATION, value: ['Paris'], char_sp...     PERSON         33   \n",
       "8  Span(type: PERSON, value: ['Smith'], char_span...   LOCATION         52   \n",
       "9  Span(type: LOCATION, value: ['Paris'], char_sp...   LOCATION         52   \n",
       "\n",
       "   ann_end pred_entity  pred_start  pred_end       iou  \n",
       "0        9      PERSON           0         5  0.500000  \n",
       "1        9    LOCATION          18        22  0.000000  \n",
       "2        9    LOCATION          27        31  0.000000  \n",
       "3       31      PERSON           0         5  0.000000  \n",
       "4       31    LOCATION          18        22  0.333333  \n",
       "5       31    LOCATION          27        31  0.333333  \n",
       "6       44      PERSON          38        44  0.500000  \n",
       "7       44    LOCATION          52        58  0.000000  \n",
       "8       58      PERSON          38        44  0.000000  \n",
       "9       58    LOCATION          52        58  1.000000  "
      ]
     },
     "execution_count": 6,
     "metadata": {},
     "output_type": "execute_result"
    }
   ],
   "source": [
    "iou_results"
   ]
  },
  {
   "cell_type": "code",
   "execution_count": 8,
   "id": "0fa17bfc",
   "metadata": {},
   "outputs": [
    {
     "data": {
      "text/plain": [
       "[Span(type: PERSON, value: ['John', 'Doe'], char_span: [0: 9]),\n",
       " Span(type: PERSON, value: ['John', 'Doe'], char_span: [0: 9]),\n",
       " Span(type: PERSON, value: ['John', 'Doe'], char_span: [0: 9]),\n",
       " Span(type: LOCATION, value: ['New', 'York', 'City'], char_span: [18: 31]),\n",
       " Span(type: LOCATION, value: ['New', 'York', 'City'], char_span: [18: 31]),\n",
       " Span(type: LOCATION, value: ['New', 'York', 'City'], char_span: [18: 31]),\n",
       " Span(type: PERSON, value: ['Jane', 'Smith'], char_span: [33: 44]),\n",
       " Span(type: PERSON, value: ['Jane', 'Smith'], char_span: [33: 44]),\n",
       " Span(type: LOCATION, value: ['Paris'], char_span: [52: 58]),\n",
       " Span(type: LOCATION, value: ['Paris'], char_span: [52: 58])]"
      ]
     },
     "execution_count": 8,
     "metadata": {},
     "output_type": "execute_result"
    }
   ],
   "source": [
    "iou_results[\"annotation_span\"].tolist()"
   ]
  },
  {
   "cell_type": "code",
   "execution_count": null,
   "id": "5a7d527b",
   "metadata": {},
   "outputs": [],
   "source": [
    "iou_results[\"prediction_span\"].tolist()"
   ]
  },
  {
   "cell_type": "code",
   "execution_count": 13,
   "id": "29f6ccae",
   "metadata": {},
   "outputs": [
    {
     "data": {
      "text/plain": [
       "Span(type: LOCATION, value: ['New', 'York', 'City'], char_span: [18: 31])"
      ]
     },
     "execution_count": 13,
     "metadata": {},
     "output_type": "execute_result"
    }
   ],
   "source": [
    "i=5\n",
    "iou_results[\"annotation_span\"].iloc[i]"
   ]
  },
  {
   "cell_type": "code",
   "execution_count": 14,
   "id": "44be63ce",
   "metadata": {},
   "outputs": [
    {
     "data": {
      "text/plain": [
       "Span(type: LOCATION, value: ['City'], char_span: [27: 31])"
      ]
     },
     "execution_count": 14,
     "metadata": {},
     "output_type": "execute_result"
    }
   ],
   "source": [
    "iou_results[\"prediction_span\"].iloc[i]"
   ]
  },
  {
   "cell_type": "code",
   "execution_count": null,
   "id": "59bfc4c6",
   "metadata": {},
   "outputs": [],
   "source": [
    "iou_results[\"prediction_span\"].iloc[3]"
   ]
  },
  {
   "cell_type": "markdown",
   "id": "37ce63c5",
   "metadata": {},
   "source": []
  }
 ],
 "metadata": {
  "kernelspec": {
   "display_name": "presidio",
   "language": "python",
   "name": "python3"
  },
  "language_info": {
   "codemirror_mode": {
    "name": "ipython",
    "version": 3
   },
   "file_extension": ".py",
   "mimetype": "text/x-python",
   "name": "python",
   "nbconvert_exporter": "python",
   "pygments_lexer": "ipython3",
   "version": "3.12.9"
  }
 },
 "nbformat": 4,
 "nbformat_minor": 5
}
