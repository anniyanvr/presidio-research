{
 "cells": [
  {
   "cell_type": "markdown",
   "id": "43297142",
   "metadata": {},
   "source": [
    "# Span Evaluator Example\n",
    "This notebook demonstrates how to use the `SpanEvaluator` class to create spans from a DataFrame of tokens and evaluate predictions."
   ]
  },
  {
   "cell_type": "code",
   "execution_count": 1,
   "id": "f693ba5a",
   "metadata": {},
   "outputs": [
    {
     "name": "stdout",
     "output_type": "stream",
     "text": [
      "stanza and spacy_stanza are not installed\n",
      "Flair is not installed by default\n"
     ]
    }
   ],
   "source": [
    "# Import required libraries\n",
    "import pandas as pd\n",
    "from presidio_evaluator.evaluation.span_evaluator import SpanEvaluator\n",
    "from presidio_evaluator.data_objects import Span"
   ]
  },
  {
   "cell_type": "markdown",
   "id": "f84d7e7e",
   "metadata": {},
   "source": [
    "## Example DataFrame\n",
    "Below is a sample DataFrame representing tokenized text, with columns for input id, token, annotation, prediction, and start index."
   ]
  },
  {
   "cell_type": "code",
   "execution_count": 5,
   "id": "8efb8eb2",
   "metadata": {},
   "outputs": [
    {
     "data": {
      "text/html": [
       "<div>\n",
       "<style scoped>\n",
       "    .dataframe tbody tr th:only-of-type {\n",
       "        vertical-align: middle;\n",
       "    }\n",
       "\n",
       "    .dataframe tbody tr th {\n",
       "        vertical-align: top;\n",
       "    }\n",
       "\n",
       "    .dataframe thead th {\n",
       "        text-align: right;\n",
       "    }\n",
       "</style>\n",
       "<table border=\"1\" class=\"dataframe\">\n",
       "  <thead>\n",
       "    <tr style=\"text-align: right;\">\n",
       "      <th></th>\n",
       "      <th>sentence_id</th>\n",
       "      <th>token</th>\n",
       "      <th>annotation</th>\n",
       "      <th>prediction</th>\n",
       "      <th>start</th>\n",
       "    </tr>\n",
       "  </thead>\n",
       "  <tbody>\n",
       "    <tr>\n",
       "      <th>0</th>\n",
       "      <td>1</td>\n",
       "      <td>John</td>\n",
       "      <td>PERSON</td>\n",
       "      <td>PERSON</td>\n",
       "      <td>0</td>\n",
       "    </tr>\n",
       "    <tr>\n",
       "      <th>1</th>\n",
       "      <td>1</td>\n",
       "      <td>Doe</td>\n",
       "      <td>PERSON</td>\n",
       "      <td>O</td>\n",
       "      <td>5</td>\n",
       "    </tr>\n",
       "    <tr>\n",
       "      <th>2</th>\n",
       "      <td>1</td>\n",
       "      <td>lives</td>\n",
       "      <td>O</td>\n",
       "      <td>O</td>\n",
       "      <td>9</td>\n",
       "    </tr>\n",
       "    <tr>\n",
       "      <th>3</th>\n",
       "      <td>1</td>\n",
       "      <td>in</td>\n",
       "      <td>O</td>\n",
       "      <td>O</td>\n",
       "      <td>15</td>\n",
       "    </tr>\n",
       "    <tr>\n",
       "      <th>4</th>\n",
       "      <td>1</td>\n",
       "      <td>New</td>\n",
       "      <td>LOCATION</td>\n",
       "      <td>LOCATION</td>\n",
       "      <td>18</td>\n",
       "    </tr>\n",
       "    <tr>\n",
       "      <th>5</th>\n",
       "      <td>1</td>\n",
       "      <td>York</td>\n",
       "      <td>LOCATION</td>\n",
       "      <td>O</td>\n",
       "      <td>22</td>\n",
       "    </tr>\n",
       "    <tr>\n",
       "      <th>6</th>\n",
       "      <td>1</td>\n",
       "      <td>City</td>\n",
       "      <td>LOCATION</td>\n",
       "      <td>LOCATION</td>\n",
       "      <td>27</td>\n",
       "    </tr>\n",
       "    <tr>\n",
       "      <th>7</th>\n",
       "      <td>1</td>\n",
       "      <td>.</td>\n",
       "      <td>O</td>\n",
       "      <td>O</td>\n",
       "      <td>31</td>\n",
       "    </tr>\n",
       "    <tr>\n",
       "      <th>8</th>\n",
       "      <td>2</td>\n",
       "      <td>Jane</td>\n",
       "      <td>PERSON</td>\n",
       "      <td>O</td>\n",
       "      <td>33</td>\n",
       "    </tr>\n",
       "    <tr>\n",
       "      <th>9</th>\n",
       "      <td>2</td>\n",
       "      <td>Smith</td>\n",
       "      <td>PERSON</td>\n",
       "      <td>PERSON</td>\n",
       "      <td>38</td>\n",
       "    </tr>\n",
       "    <tr>\n",
       "      <th>10</th>\n",
       "      <td>2</td>\n",
       "      <td>visited</td>\n",
       "      <td>O</td>\n",
       "      <td>O</td>\n",
       "      <td>44</td>\n",
       "    </tr>\n",
       "    <tr>\n",
       "      <th>11</th>\n",
       "      <td>2</td>\n",
       "      <td>Paris</td>\n",
       "      <td>LOCATION</td>\n",
       "      <td>LOCATION</td>\n",
       "      <td>52</td>\n",
       "    </tr>\n",
       "    <tr>\n",
       "      <th>12</th>\n",
       "      <td>2</td>\n",
       "      <td>last</td>\n",
       "      <td>O</td>\n",
       "      <td>O</td>\n",
       "      <td>58</td>\n",
       "    </tr>\n",
       "    <tr>\n",
       "      <th>13</th>\n",
       "      <td>2</td>\n",
       "      <td>summer</td>\n",
       "      <td>O</td>\n",
       "      <td>O</td>\n",
       "      <td>63</td>\n",
       "    </tr>\n",
       "    <tr>\n",
       "      <th>14</th>\n",
       "      <td>2</td>\n",
       "      <td>.</td>\n",
       "      <td>O</td>\n",
       "      <td>O</td>\n",
       "      <td>69</td>\n",
       "    </tr>\n",
       "  </tbody>\n",
       "</table>\n",
       "</div>"
      ],
      "text/plain": [
       "    sentence_id    token annotation prediction  start\n",
       "0             1     John     PERSON     PERSON      0\n",
       "1             1      Doe     PERSON          O      5\n",
       "2             1    lives          O          O      9\n",
       "3             1       in          O          O     15\n",
       "4             1      New   LOCATION   LOCATION     18\n",
       "5             1     York   LOCATION          O     22\n",
       "6             1     City   LOCATION   LOCATION     27\n",
       "7             1        .          O          O     31\n",
       "8             2     Jane     PERSON          O     33\n",
       "9             2    Smith     PERSON     PERSON     38\n",
       "10            2  visited          O          O     44\n",
       "11            2    Paris   LOCATION   LOCATION     52\n",
       "12            2     last          O          O     58\n",
       "13            2   summer          O          O     63\n",
       "14            2        .          O          O     69"
      ]
     },
     "execution_count": 5,
     "metadata": {},
     "output_type": "execute_result"
    }
   ],
   "source": [
    "# Create a sample DataFrame with partially matching annotations and predictions\n",
    "sample_data = [\n",
    "    {\"sentence_id\": 1, \"token\": \"John\", \"annotation\": \"PERSON\", \"prediction\": \"PERSON\", \"start\": 0},\n",
    "    {\"sentence_id\": 1, \"token\": \"Doe\", \"annotation\": \"PERSON\", \"prediction\": \"O\", \"start\": 5},\n",
    "    {\"sentence_id\": 1, \"token\": \"lives\", \"annotation\": \"O\", \"prediction\": \"O\", \"start\": 9},\n",
    "    {\"sentence_id\": 1, \"token\": \"in\", \"annotation\": \"O\", \"prediction\": \"O\", \"start\": 15},\n",
    "    {\"sentence_id\": 1, \"token\": \"New\", \"annotation\": \"LOCATION\", \"prediction\": \"LOCATION\", \"start\": 18},\n",
    "    {\"sentence_id\": 1, \"token\": \"York\", \"annotation\": \"LOCATION\", \"prediction\": \"O\", \"start\": 22},\n",
    "    {\"sentence_id\": 1, \"token\": \"City\", \"annotation\": \"LOCATION\", \"prediction\": \"LOCATION\", \"start\": 27},\n",
    "    {\"sentence_id\": 1, \"token\": \".\", \"annotation\": \"O\", \"prediction\": \"O\", \"start\": 31},\n",
    "    {\"sentence_id\": 2, \"token\": \"Jane\", \"annotation\": \"PERSON\", \"prediction\": \"O\", \"start\": 33},\n",
    "    {\"sentence_id\": 2, \"token\": \"Smith\", \"annotation\": \"PERSON\", \"prediction\": \"PERSON\", \"start\": 38},\n",
    "    {\"sentence_id\": 2, \"token\": \"visited\", \"annotation\": \"O\", \"prediction\": \"O\", \"start\": 44},\n",
    "    {\"sentence_id\": 2, \"token\": \"Paris\", \"annotation\": \"LOCATION\", \"prediction\": \"LOCATION\", \"start\": 52},\n",
    "    {\"sentence_id\": 2, \"token\": \"last\", \"annotation\": \"O\", \"prediction\": \"O\", \"start\": 58},\n",
    "    {\"sentence_id\": 2, \"token\": \"summer\", \"annotation\": \"O\", \"prediction\": \"O\", \"start\": 63},\n",
    "    {\"sentence_id\": 2, \"token\": \".\", \"annotation\": \"O\", \"prediction\": \"O\", \"start\": 69},\n",
    "]\n",
    "\n",
    "df = pd.DataFrame(sample_data)\n",
    "df"
   ]
  },
  {
   "cell_type": "markdown",
   "id": "5a2fda21",
   "metadata": {},
   "source": [
    "## Create Spans from Tokens\n",
    "Use the `create_spans_from_tokens` method to merge adjacent tokens with the same entity label into spans."
   ]
  },
  {
   "cell_type": "code",
   "execution_count": 6,
   "id": "0bdfb24f",
   "metadata": {},
   "outputs": [
    {
     "name": "stdout",
     "output_type": "stream",
     "text": [
      "Annotation Spans:\n",
      "Span(type: PERSON, value: ['John', 'Doe'], char_span: [0: 9])\n",
      "Span(type: LOCATION, value: ['New', 'York', 'City'], char_span: [18: 31])\n",
      "Span(type: PERSON, value: ['Jane', 'Smith'], char_span: [33: 44])\n",
      "Span(type: LOCATION, value: ['Paris'], char_span: [52: 58])\n",
      "\n",
      "Prediction Spans:\n",
      "Span(type: PERSON, value: ['John'], char_span: [0: 5])\n",
      "Span(type: LOCATION, value: ['New'], char_span: [18: 22])\n",
      "Span(type: LOCATION, value: ['City'], char_span: [27: 31])\n",
      "Span(type: PERSON, value: ['Smith'], char_span: [38: 44])\n",
      "Span(type: LOCATION, value: ['Paris'], char_span: [52: 58])\n"
     ]
    }
   ],
   "source": [
    "# Initialize the SpanEvaluator\n",
    "span_evaluator = SpanEvaluator()\n",
    "\n",
    "# Create annotation spans\n",
    "annotation_spans = span_evaluator._create_spans(df, \"annotation\")\n",
    "\n",
    "# Create prediction spans\n",
    "prediction_spans = span_evaluator._create_spans(df, \"prediction\")\n",
    "\n",
    "# Display the created spans\n",
    "print(\"Annotation Spans:\")\n",
    "for span in annotation_spans:\n",
    "    print(span)\n",
    "\n",
    "print(\"\\nPrediction Spans:\")\n",
    "for span in prediction_spans:\n",
    "    print(span)"
   ]
  },
  {
   "cell_type": "markdown",
   "id": "efee4559",
   "metadata": {},
   "source": [
    "## Evaluate Predictions\n",
    "Use the `evaluate` method to compute precision, recall, and F1 score for the predictions."
   ]
  },
  {
   "cell_type": "code",
   "execution_count": 8,
   "id": "e915a966",
   "metadata": {},
   "outputs": [
    {
     "data": {
      "text/plain": [
       "{'precision': 1.0,\n",
       " 'recall': 1.0,\n",
       " 'f1': 1.0,\n",
       " 'per_type': {'PERSON': {'precision': 1.0, 'recall': 1.0, 'f1': 1.0},\n",
       "  'LOCATION': {'precision': 1.0, 'recall': 1.0, 'f1': 1.0}},\n",
       " 'error_analysis': {}}"
      ]
     },
     "execution_count": 8,
     "metadata": {},
     "output_type": "execute_result"
    }
   ],
   "source": [
    "# Evaluate the predictions\n",
    "results = span_evaluator.evaluate(df)\n",
    "results"
   ]
  },
  {
   "cell_type": "markdown",
   "id": "6fb8fcb3",
   "metadata": {},
   "source": [
    "You have now seen how to use the SpanEvaluator to create spans and evaluate predictions from a token-level DataFrame."
   ]
  },
  {
   "cell_type": "markdown",
   "id": "cab5c004",
   "metadata": {},
   "source": []
  }
 ],
 "metadata": {
  "kernelspec": {
   "display_name": "presidio",
   "language": "python",
   "name": "python3"
  },
  "language_info": {
   "codemirror_mode": {
    "name": "ipython",
    "version": 3
   },
   "file_extension": ".py",
   "mimetype": "text/x-python",
   "name": "python",
   "nbconvert_exporter": "python",
   "pygments_lexer": "ipython3",
   "version": "3.12.9"
  }
 },
 "nbformat": 4,
 "nbformat_minor": 5
}
