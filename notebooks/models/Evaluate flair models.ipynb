{
 "cells": [
  {
   "cell_type": "markdown",
   "id": "097c5857",
   "metadata": {},
   "source": [
    "Evaluate Flair models for person names, orgs and locations using the Presidio Evaluator framework"
   ]
  },
  {
   "cell_type": "code",
   "execution_count": null,
   "id": "8835e626",
   "metadata": {},
   "outputs": [],
   "source": [
    "from pathlib import Path\n",
    "from copy import deepcopy\n",
    "from pprint import pprint\n",
    "from collections import Counter\n",
    "\n",
    "from presidio_evaluator import InputSample\n",
    "from presidio_evaluator.evaluation import Evaluator, ModelError\n",
    "from presidio_evaluator.experiment_tracking import get_experiment_tracker\n",
    "from presidio_evaluator.models import FlairModel\n",
    "\n",
    "import pandas as pd\n",
    "\n",
    "pd.set_option(\"display.max_columns\", None)\n",
    "pd.set_option(\"display.max_rows\", None)\n",
    "pd.set_option(\"display.max_colwidth\", None)\n",
    "\n",
    "%reload_ext autoreload\n",
    "%autoreload 2"
   ]
  },
  {
   "cell_type": "code",
   "execution_count": null,
   "id": "a0c3285c-06a2-4361-aec2-8375496f75b3",
   "metadata": {},
   "outputs": [],
   "source": [
    "#!pip install flair"
   ]
  },
  {
   "cell_type": "markdown",
   "id": "f036de59",
   "metadata": {},
   "source": [
    "Select data for evaluation:"
   ]
  },
  {
   "cell_type": "code",
   "execution_count": null,
   "id": "3d8f14ab",
   "metadata": {},
   "outputs": [],
   "source": [
    "dataset_name = \"synth_dataset_v2.json\"\n",
    "dataset = InputSample.read_dataset_json(\n",
    "    Path(Path.cwd().parent.parent, \"data\", dataset_name)\n",
    ")\n",
    "print(len(dataset))"
   ]
  },
  {
   "cell_type": "code",
   "execution_count": null,
   "id": "7605f540",
   "metadata": {},
   "outputs": [],
   "source": [
    "entity_counter = Counter()\n",
    "for sample in dataset:\n",
    "    for tag in sample.tags:\n",
    "        entity_counter[tag] += 1"
   ]
  },
  {
   "cell_type": "code",
   "execution_count": null,
   "id": "5c693b46",
   "metadata": {},
   "outputs": [],
   "source": [
    "print(\"Count per entity:\")\n",
    "pprint(entity_counter.most_common())\n",
    "\n",
    "print(\"\\nExample sentence:\")\n",
    "print(dataset[1])\n",
    "\n",
    "print(\"\\nMin and max number of tokens in dataset:\")\n",
    "print(\n",
    "    f\"Min: {min([len(sample.tokens) for sample in dataset])}, \"\n",
    "    f\"Max: {max([len(sample.tokens) for sample in dataset])}\"\n",
    ")\n",
    "\n",
    "print(\"\\nMin and max sentence length in dataset:\")\n",
    "print(\n",
    "    f\"Min: {min([len(sample.full_text) for sample in dataset])}, \"\n",
    "    f\"Max: {max([len(sample.full_text) for sample in dataset])}\"\n",
    ")"
   ]
  },
  {
   "cell_type": "markdown",
   "id": "19920db4",
   "metadata": {},
   "source": [
    "Select models for evaluation:"
   ]
  },
  {
   "cell_type": "code",
   "execution_count": null,
   "id": "89cf0e43",
   "metadata": {},
   "outputs": [],
   "source": [
    "flair_ner = \"flair/ner-english\"\n",
    "flair_ner_fast = \"flair/ner-english-fast\"\n",
    "flair_ontonotes_fast = \"flair/ner-english-ontonotes-fast\"\n",
    "flair_ontonotes_large = \"flair/ner-english-ontonotes-large\"\n",
    "models = [\n",
    "    flair_ner,\n",
    "    flair_ner_fast,\n",
    "    flair_ontonotes_fast,\n",
    "    flair_ontonotes_large,\n",
    "]"
   ]
  },
  {
   "cell_type": "markdown",
   "id": "266b59ca",
   "metadata": {},
   "source": [
    "Run evaluation on all models:"
   ]
  },
  {
   "cell_type": "code",
   "execution_count": null,
   "id": "21d1e3dd",
   "metadata": {},
   "outputs": [],
   "source": [
    "for model_name in models:\n",
    "    print(\"-----------------------------------\")\n",
    "    print(f\"Evaluating model {model_name}\")\n",
    "    experiment = get_experiment_tracker()\n",
    "\n",
    "    model = FlairModel(model_path=model_name)\n",
    "    evaluator = Evaluator(model=model)\n",
    "    evaluation_results = evaluator.evaluate_all(deepcopy(dataset))\n",
    "    results = evaluator.calculate_score(evaluation_results)\n",
    "\n",
    "    # update params tracking\n",
    "    params = {\"dataset_name\": dataset_name, \"model_name\": model_name}\n",
    "    params.update(model.to_log())\n",
    "    experiment.log_parameters(params)\n",
    "    experiment.log_dataset_hash(dataset)\n",
    "    experiment.log_metrics(results.to_log())\n",
    "    entities, confmatrix = results.to_confusion_matrix()\n",
    "    experiment.log_confusion_matrix(matrix=confmatrix, labels=entities)\n",
    "\n",
    "    print(\"Confusion matrix:\")\n",
    "    print(pd.DataFrame(confmatrix, columns=entities, index=entities))\n",
    "\n",
    "    print(\"Precision and recall\")\n",
    "    print(results)\n",
    "\n",
    "    # end experiment\n",
    "    experiment.end()"
   ]
  },
  {
   "cell_type": "markdown",
   "id": "0fd5e41b",
   "metadata": {},
   "source": [
    "### Results analysis"
   ]
  },
  {
   "cell_type": "code",
   "execution_count": null,
   "id": "3ebe0c5e",
   "metadata": {},
   "outputs": [],
   "source": [
    "sent = \"I am taiwanese but I live in Cambodia.\"\n",
    "# sent = input(\"Enter sentence: \")\n",
    "model.predict(InputSample(full_text=sent))"
   ]
  },
  {
   "cell_type": "markdown",
   "id": "aa0a5160",
   "metadata": {},
   "source": [
    "### Error Analysis"
   ]
  },
  {
   "cell_type": "code",
   "execution_count": null,
   "id": "77556203",
   "metadata": {},
   "outputs": [],
   "source": [
    "errors = results.model_errors"
   ]
  },
  {
   "cell_type": "markdown",
   "id": "0d895d3c",
   "metadata": {},
   "source": [
    "#### False positives"
   ]
  },
  {
   "cell_type": "markdown",
   "id": "fdd63274",
   "metadata": {},
   "source": [
    "1. Most false positive tokens:"
   ]
  },
  {
   "cell_type": "code",
   "execution_count": null,
   "id": "5616bf20",
   "metadata": {},
   "outputs": [],
   "source": [
    "ModelError.most_common_fp_tokens(errors)"
   ]
  },
  {
   "cell_type": "code",
   "execution_count": null,
   "id": "fcd4918a",
   "metadata": {},
   "outputs": [],
   "source": [
    "fps_df = ModelError.get_fps_dataframe(errors, entity=[\"GPE\"])\n",
    "fps_df[[\"full_text\", \"token\", \"prediction\"]]"
   ]
  },
  {
   "cell_type": "markdown",
   "id": "f8e875a2",
   "metadata": {},
   "source": [
    "2. False negative examples"
   ]
  },
  {
   "cell_type": "code",
   "execution_count": null,
   "id": "f2826099",
   "metadata": {},
   "outputs": [],
   "source": [
    "errors = scores.model_errors\n",
    "ModelError.most_common_fn_tokens(errors, n=50, entity=[\"PERSON\"])"
   ]
  },
  {
   "cell_type": "markdown",
   "id": "e37fd0cf",
   "metadata": {},
   "source": [
    "More FN analysis"
   ]
  },
  {
   "cell_type": "code",
   "execution_count": null,
   "id": "266fb7d1",
   "metadata": {},
   "outputs": [],
   "source": [
    "fns_df = ModelError.get_fns_dataframe(errors, entity=[\"GPE\"])"
   ]
  },
  {
   "cell_type": "code",
   "execution_count": null,
   "id": "35a11568",
   "metadata": {},
   "outputs": [],
   "source": [
    "fns_df[[\"full_text\", \"token\", \"annotation\", \"prediction\"]]"
   ]
  },
  {
   "cell_type": "code",
   "execution_count": null,
   "id": "70a5c832",
   "metadata": {},
   "outputs": [],
   "source": [
    "print(\"All errors:\\n\")\n",
    "[print(error, \"\\n\") for error in errors]"
   ]
  },
  {
   "cell_type": "code",
   "execution_count": null,
   "id": "fda55c14",
   "metadata": {},
   "outputs": [],
   "source": []
  }
 ],
 "metadata": {
  "kernelspec": {
   "display_name": "presidio-evaluator",
   "language": "python",
   "name": "presidio-evaluator"
  },
  "language_info": {
   "codemirror_mode": {
    "name": "ipython",
    "version": 3
   },
   "file_extension": ".py",
   "mimetype": "text/x-python",
   "name": "python",
   "nbconvert_exporter": "python",
   "pygments_lexer": "ipython3",
   "version": "3.9.18"
  }
 },
 "nbformat": 4,
 "nbformat_minor": 5
}
