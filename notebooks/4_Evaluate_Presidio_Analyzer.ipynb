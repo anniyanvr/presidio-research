{
 "cells": [
  {
   "cell_type": "markdown",
   "id": "847acd88",
   "metadata": {},
   "source": [
    "## Evaluate Presidio Analyzer using the Presidio Evaluator framework\n",
    "\n",
    "This notebook demonstrates how to evaluate a Presidio instance using the presidio-evaluator framework\n",
    "Steps:\n",
    "1. Load dataset from file\n",
    "2. Simple dataset statistics\n",
    "3. Define the AnalyzerEngine object (and its parameters)\n",
    "4. Align the dataset's entities to Presidio's entities\n",
    "5. Set up the Evaluator object\n",
    "6. Run experiment\n",
    "7. Evaluate results\n",
    "8. Error analysis\n",
    "\n",
    "For an example with a custom Presidio instance, see [notebook 5](5_Evaluate_Custom_Presidio_Analyzer.ipynb)."
   ]
  },
  {
   "cell_type": "code",
   "execution_count": 4,
   "id": "b946feda",
   "metadata": {
    "ExecuteTime": {
     "end_time": "2024-10-07T08:51:55.393735Z",
     "start_time": "2024-10-07T08:51:55.390376Z"
    }
   },
   "outputs": [],
   "source": [
    "# install presidio evaluator via pip if not yet installed\n",
    "\n",
    "#!pip install presidio-evaluator"
   ]
  },
  {
   "cell_type": "code",
   "execution_count": 5,
   "id": "ae85cae9",
   "metadata": {
    "ExecuteTime": {
     "start_time": "2024-10-07T08:51:55.407621Z"
    },
    "jupyter": {
     "is_executing": true
    }
   },
   "outputs": [],
   "source": [
    "from pathlib import Path\n",
    "from pprint import pprint\n",
    "from collections import Counter\n",
    "from typing import Dict, List\n",
    "import json\n",
    "\n",
    "from presidio_evaluator import InputSample\n",
    "from presidio_evaluator.evaluation import Evaluator, ModelError, Plotter\n",
    "from presidio_evaluator.experiment_tracking import get_experiment_tracker\n",
    "\n",
    "import pandas as pd\n",
    "\n",
    "pd.set_option(\"display.max_columns\", None)\n",
    "pd.set_option(\"display.max_rows\", None)\n",
    "pd.set_option(\"display.max_colwidth\", None)\n",
    "\n",
    "%reload_ext autoreload\n",
    "%autoreload 2\n",
    "%matplotlib inline"
   ]
  },
  {
   "cell_type": "markdown",
   "id": "736fdd23",
   "metadata": {},
   "source": [
    "## 1. Load dataset from file"
   ]
  },
  {
   "cell_type": "code",
   "execution_count": 6,
   "id": "f4cbd55c",
   "metadata": {
    "ExecuteTime": {
     "end_time": "2024-09-19T19:00:06.630016Z",
     "start_time": "2024-09-19T18:59:59.587398Z"
    }
   },
   "outputs": [
    {
     "name": "stderr",
     "output_type": "stream",
     "text": [
      "tokenizing input:   0%|          | 0/1500 [00:00<?, ?it/s]"
     ]
    },
    {
     "name": "stdout",
     "output_type": "stream",
     "text": [
      "loading model en_core_web_sm\n"
     ]
    },
    {
     "name": "stderr",
     "output_type": "stream",
     "text": [
      "tokenizing input: 100%|██████████| 1500/1500 [00:07<00:00, 210.24it/s]"
     ]
    },
    {
     "name": "stdout",
     "output_type": "stream",
     "text": [
      "1500\n"
     ]
    },
    {
     "name": "stderr",
     "output_type": "stream",
     "text": [
      "\n"
     ]
    }
   ],
   "source": [
    "dataset_name = \"synth_dataset_v2.json\"\n",
    "dataset = InputSample.read_dataset_json(Path(Path.cwd().parent, \"data\", dataset_name))\n",
    "print(len(dataset))"
   ]
  },
  {
   "cell_type": "markdown",
   "id": "53077517d947cfa",
   "metadata": {},
   "source": [
    "This dataset was auto generated. See more info here [Synthetic data generation](1_Generate_data.ipynb)."
   ]
  },
  {
   "cell_type": "code",
   "execution_count": 7,
   "id": "c164ea07",
   "metadata": {
    "ExecuteTime": {
     "end_time": "2024-09-19T19:00:06.700573Z",
     "start_time": "2024-09-19T19:00:06.642617Z"
    }
   },
   "outputs": [],
   "source": [
    "def get_entity_counts(dataset: List[InputSample]) -> Dict:\n",
    "    \"\"\"Return a dictionary with counter per entity type.\"\"\"\n",
    "    entity_counter = Counter()\n",
    "    for sample in dataset:\n",
    "        for tag in sample.tags:\n",
    "            entity_counter[tag] += 1\n",
    "    return entity_counter\n"
   ]
  },
  {
   "cell_type": "markdown",
   "id": "d127b576-b19f-4ba9-b434-16332d9f5f2a",
   "metadata": {},
   "source": [
    "## 2. Simple dataset statistics"
   ]
  },
  {
   "cell_type": "code",
   "execution_count": 8,
   "id": "77aedae6",
   "metadata": {
    "ExecuteTime": {
     "end_time": "2024-09-19T19:00:06.780286Z",
     "start_time": "2024-09-19T19:00:06.720020Z"
    }
   },
   "outputs": [
    {
     "name": "stdout",
     "output_type": "stream",
     "text": [
      "Count per entity:\n",
      "[('O', 19626), ('STREET_ADDRESS', 3071), ('PERSON', 1369), ('GPE', 521),\n",
      " ('ORGANIZATION', 504), ('PHONE_NUMBER', 350), ('DATE_TIME', 219),\n",
      " ('TITLE', 142), ('CREDIT_CARD', 136), ('US_SSN', 80), ('AGE', 74), ('NRP', 55),\n",
      " ('ZIP_CODE', 50), ('EMAIL_ADDRESS', 49), ('DOMAIN_NAME', 37),\n",
      " ('IP_ADDRESS', 22), ('IBAN_CODE', 21), ('US_DRIVER_LICENSE', 9)]\n",
      "\n",
      "Min and max number of tokens in dataset: Min: 3, Max: 78\n",
      "Min and max sentence length in dataset: Min: 9, Max: 407\n",
      "\n",
      "Example InputSample:\n",
      "Full text: The address of Persint is 6750 Koskikatu 25 Apt. 864\n",
      "Artilleros\n",
      ", CO\n",
      " Uruguay 64677\n",
      "Spans: [Span(type: STREET_ADDRESS, value: 6750 Koskikatu 25 Apt. 864\n",
      "Artilleros\n",
      ", CO\n",
      " Uruguay 64677, char_span: [26: 83]), Span(type: ORGANIZATION, value: Persint, char_span: [15: 22])]\n",
      "\n"
     ]
    }
   ],
   "source": [
    "entity_counts = get_entity_counts(dataset)\n",
    "print(\"Count per entity:\")\n",
    "pprint(entity_counts.most_common(), compact=True)\n",
    "\n",
    "print(\"\\nMin and max number of tokens in dataset: \"\\\n",
    "f\"Min: {min([len(sample.tokens) for sample in dataset])}, \"\\\n",
    "f\"Max: {max([len(sample.tokens) for sample in dataset])}\")\n",
    "\n",
    "print(f\"Min and max sentence length in dataset: \" \\\n",
    "f\"Min: {min([len(sample.full_text) for sample in dataset])}, \"\\\n",
    "f\"Max: {max([len(sample.full_text) for sample in dataset])}\")\n",
    "\n",
    "print(\"\\nExample InputSample:\")\n",
    "print(dataset[0])"
   ]
  },
  {
   "cell_type": "code",
   "execution_count": 9,
   "id": "d6b6b4f3895023d1",
   "metadata": {
    "ExecuteTime": {
     "end_time": "2024-09-19T19:00:06.847334Z",
     "start_time": "2024-09-19T19:00:06.791658Z"
    }
   },
   "outputs": [
    {
     "name": "stdout",
     "output_type": "stream",
     "text": [
      "A few examples sentences containing each entity:\n",
      "\n",
      "Entity: <ORGANIZATION> two example sentences:\n",
      "\n",
      "1) The address of Persint is 6750 Koskikatu 25 Apt. 864\n",
      "Artilleros\n",
      ", CO\n",
      " Uruguay 64677\n",
      "2) The Exversion Orchestra was founded in 1977. Since then, it has grown from a volunteer community orchestra to a fully professional orchestra serving Southern Tunisia\n",
      "------------------------------------\n",
      "\n",
      "Entity: <STREET_ADDRESS> two example sentences:\n",
      "\n",
      "1) The address of Persint is 6750 Koskikatu 25 Apt. 864\n",
      "Artilleros\n",
      ", CO\n",
      " Uruguay 64677\n",
      "2) Billing address: Sara Schwarz\n",
      "    28245 Puruntie 82 Apt. 595\n",
      "   LAPPEENRANTA\n",
      "    SK\n",
      "    53650\n",
      "------------------------------------\n",
      "\n",
      "Entity: <PERSON> two example sentences:\n",
      "\n",
      "1) Krisztián Szöllösy listed his top 20 songs for Entertainment Weekly and had the balls to list this song at #15. (What did he put at #1 you ask? Answer:\"Tube Snake Boogie\" by Szabina J Gelencsér ג€“ go figure)\n",
      "2) My name is Rubija\n",
      "------------------------------------\n",
      "\n",
      "Entity: <DATE_TIME> two example sentences:\n",
      "\n",
      "1) The Exversion Orchestra was founded in 1977. Since then, it has grown from a volunteer community orchestra to a fully professional orchestra serving Southern Tunisia\n",
      "2) When: 2000-04-16 11:34:35\n",
      "Where: UPTON SCUDAMORE Country Club.\n",
      "------------------------------------\n",
      "\n",
      "Entity: <GPE> two example sentences:\n",
      "\n",
      "1) The Exversion Orchestra was founded in 1977. Since then, it has grown from a volunteer community orchestra to a fully professional orchestra serving Southern Tunisia\n",
      "2) I will be travelling to Canada next week, so I need my passport to be ready by then\n",
      "------------------------------------\n",
      "\n",
      "Entity: <CREDIT_CARD> two example sentences:\n",
      "\n",
      "1) What is the limit for card 4454794511390933?\n",
      "2) My card 4131034282458809939 is expiring this month. Please let me know process to it's extend validity.\n",
      "------------------------------------\n",
      "\n",
      "Entity: <US_SSN> two example sentences:\n",
      "\n",
      "1) Here's my SSN: 460-89-9847\n",
      "2) Here's my SSN: 514-69-0360\n",
      "------------------------------------\n",
      "\n",
      "Entity: <US_DRIVER_LICENSE> two example sentences:\n",
      "\n",
      "1) my driver's license number is 2270-66-1551\n",
      "2) My driver's license number is 6940579\n",
      "------------------------------------\n",
      "\n",
      "Entity: <AGE> two example sentences:\n",
      "\n",
      "1) This 79 year old female complaining of stomach pain.\n",
      "2) This 74 year old female complaining of stomach pain.\n",
      "------------------------------------\n",
      "\n",
      "Entity: <ZIP_CODE> two example sentences:\n",
      "\n",
      "1) Billing address: Sara Schwarz\n",
      "    28245 Puruntie 82 Apt. 595\n",
      "   LAPPEENRANTA\n",
      "    SK\n",
      "    53650\n",
      "2) ZIP: 3520\n",
      "------------------------------------\n",
      "\n",
      "Entity: <TITLE> two example sentences:\n",
      "\n",
      "1) My name appears incorrectly on credit card statement could you please correct it to Dr. Cettina Fanucci?\n",
      "2) My name appears incorrectly on credit card statement could you please correct it to Dr. Berta Szöllössy?\n",
      "------------------------------------\n",
      "\n",
      "Entity: <DOMAIN_NAME> two example sentences:\n",
      "\n",
      "1) My website is http://www.ScrapbookInsider.com.pt/\n",
      "2) I've shared files with you https://ClickPhobia.com.br/\n",
      "------------------------------------\n",
      "\n",
      "Entity: <EMAIL_ADDRESS> two example sentences:\n",
      "\n",
      "1) Could you please send me the last billed amount for cc 4007070753690781 on my e-mail UtaKortig@jourrapide.com?\n",
      "2) You said your email is UshurmaDratchev@rhyta.com. Is that correct?\n",
      "------------------------------------\n",
      "\n",
      "Entity: <PHONE_NUMBER> two example sentences:\n",
      "\n",
      "1) I have done an online order but didn't get any message on my registered 905-674-3793. Could you please look into it ?\n",
      "2) Janka M. Szász\n",
      "\n",
      "Network and computer systems administrator\n",
      "\n",
      "Personal Info:\n",
      "Phone:\n",
      "60-56-85-91\n",
      "\n",
      "E-mail:\n",
      "SzaszJanka@cuvox.de\n",
      "\n",
      "Website:\n",
      "https://www.UEarly.se/\n",
      "\n",
      "Address:\n",
      "Brucker Bundesstrasse 31 Zezig Streets\n",
      " Suite 245\n",
      " FÜRLING\n",
      " Austria 25173.\n",
      "------------------------------------\n",
      "\n",
      "Entity: <IBAN_CODE> two example sentences:\n",
      "\n",
      "1) Are there any charges applied for money transfer from GB56HXDO88167774656119 to other bank accounts\n",
      "2) My IBAN is GB59IFUE40226315499137\n",
      "------------------------------------\n",
      "\n",
      "Entity: <IP_ADDRESS> two example sentences:\n",
      "\n",
      "1) Inject SELECT * FROM Users WHERE client_ip = ?%//!%20\\|106.31.73.20|%20/\n",
      "2) Inject SELECT * FROM Users WHERE client_ip = ?%//!%20\\|86.121.97.248|%20/\n",
      "------------------------------------\n",
      "\n",
      "Entity: <NRP> two example sentences:\n",
      "\n",
      "1) From the film English graffiti (also features Kate M Begum. What's not to love?\n",
      "2) The restaurant is located at 704 1436 Redbud Drive\n",
      "Cite Essanaouber\n",
      ", 32\n",
      " 60810. It serves great Slovenian food.\n",
      "------------------------------------\n",
      "\n"
     ]
    }
   ],
   "source": [
    "print(\"A few examples sentences containing each entity:\\n\")\n",
    "for entity in entity_counts.keys():\n",
    "    samples = [sample for sample in dataset if entity in set(sample.tags)]\n",
    "    if len(samples) > 1 and entity != \"O\":\n",
    "        print(f\"Entity: <{entity}> two example sentences:\\n\"\n",
    "              f\"\\n1) {samples[0].full_text}\"\n",
    "              f\"\\n2) {samples[1].full_text}\"\n",
    "              f\"\\n------------------------------------\\n\")"
   ]
  },
  {
   "cell_type": "markdown",
   "id": "9c5e16cb-bee8-4f0a-a543-4879daa35b9e",
   "metadata": {},
   "source": [
    "## 3. Define the AnalyzerEngine object \n",
    "Using Presidio with default parameters (not recommended, it's used here for simplicity). For an example on customization, see [notebook 5](5_Evaluate_Custom_Presidio_Analyzer.ipynb)"
   ]
  },
  {
   "cell_type": "code",
   "execution_count": 10,
   "id": "313b508f-e901-40b9-b575-c7fb8a794652",
   "metadata": {
    "ExecuteTime": {
     "end_time": "2024-09-19T19:00:08.062842Z",
     "start_time": "2024-09-19T19:00:06.853338Z"
    }
   },
   "outputs": [
    {
     "name": "stdout",
     "output_type": "stream",
     "text": [
      "'Supported entities for English:'\n",
      "['UK_NHS', 'CRYPTO', 'US_ITIN', 'URL', 'EMAIL_ADDRESS', 'AU_TFN', 'IN_VOTER',\n",
      " 'US_SSN', 'SG_NRIC_FIN', 'ORGANIZATION', 'IN_VEHICLE_REGISTRATION',\n",
      " 'MEDICAL_LICENSE', 'US_DRIVER_LICENSE', 'PERSON', 'IN_AADHAAR', 'AU_ACN',\n",
      " 'IN_PASSPORT', 'CREDIT_CARD', 'US_PASSPORT', 'NRP', 'AU_MEDICARE',\n",
      " 'US_BANK_NUMBER', 'PHONE_NUMBER', 'DATE_TIME', 'AU_ABN', 'LOCATION',\n",
      " 'IBAN_CODE', 'IP_ADDRESS', 'IN_PAN']\n",
      "\n",
      "Loaded recognizers for English:\n",
      "['CreditCardRecognizer', 'UsBankRecognizer', 'UsLicenseRecognizer',\n",
      " 'UsItinRecognizer', 'UsPassportRecognizer', 'UsSsnRecognizer', 'NhsRecognizer',\n",
      " 'SgFinRecognizer', 'AuAbnRecognizer', 'AuAcnRecognizer', 'AuTfnRecognizer',\n",
      " 'AuMedicareRecognizer', 'InPanRecognizer', 'InAadhaarRecognizer',\n",
      " 'InVehicleRegistrationRecognizer', 'InPassportRecognizer', 'CryptoRecognizer',\n",
      " 'DateRecognizer', 'EmailRecognizer', 'IbanRecognizer', 'IpRecognizer',\n",
      " 'MedicalLicenseRecognizer', 'PhoneRecognizer', 'UrlRecognizer',\n",
      " 'InVoterRecognizer', 'SpacyRecognizer']\n",
      "\n",
      "Loaded NER models:\n",
      "[{'lang_code': 'en', 'model_name': 'en_core_web_lg'}]\n"
     ]
    }
   ],
   "source": [
    "from presidio_analyzer import AnalyzerEngine\n",
    "# Loading the vanilla Analyzer Engine, with the default NER model.\n",
    "analyzer_engine = AnalyzerEngine(default_score_threshold=0.4)\n",
    "\n",
    "pprint(f\"Supported entities for English:\")\n",
    "pprint(analyzer_engine.get_supported_entities(\"en\"), compact=True)\n",
    "\n",
    "print(f\"\\nLoaded recognizers for English:\")\n",
    "pprint([rec.name for rec in analyzer_engine.registry.get_recognizers(\"en\", all_fields=True)], compact=True)\n",
    "\n",
    "print(f\"\\nLoaded NER models:\")\n",
    "pprint(analyzer_engine.nlp_engine.models)"
   ]
  },
  {
   "cell_type": "markdown",
   "id": "aa44f70a7c7aa3f0",
   "metadata": {},
   "source": [
    "## 4. Align the dataset's entities to Presidio's entities\n",
    "\n",
    "There is possibly a difference between the names of entities in the dataset, and the names of entities Presidio can detect.\n",
    "For example, it could be that a dataset labels a name as PER while Presidio returns PERSON. To be able to compare the predicted value to the actual and gather metrics, an alignment between the entity names is necessary. Consider changing the mapping if your dataset and/or Presidio instance supports difference entity types."
   ]
  },
  {
   "cell_type": "code",
   "execution_count": 19,
   "id": "ff2e676f44f72e4e",
   "metadata": {
    "ExecuteTime": {
     "end_time": "2024-09-19T19:05:53.077036Z",
     "start_time": "2024-09-19T19:05:53.020399Z"
    }
   },
   "outputs": [
    {
     "name": "stdout",
     "output_type": "stream",
     "text": [
      "Using this mapping between the dataset and Presidio's entities:\n",
      "{'ADDRESS': 'LOCATION',\n",
      " 'AGE': 'AGE',\n",
      " 'BIRTHDAY': 'DATE_TIME',\n",
      " 'CITY': 'LOCATION',\n",
      " 'CREDIT_CARD': 'CREDIT_CARD',\n",
      " 'DATE': 'DATE_TIME',\n",
      " 'DATE_OF_BIRTH': 'DATE_TIME',\n",
      " 'DATE_TIME': 'DATE_TIME',\n",
      " 'DOB': 'DATE_TIME',\n",
      " 'DOMAIN': 'URL',\n",
      " 'DOMAIN_NAME': 'URL',\n",
      " 'EMAIL': 'EMAIL_ADDRESS',\n",
      " 'EMAIL_ADDRESS': 'EMAIL_ADDRESS',\n",
      " 'FACILITY': 'LOCATION',\n",
      " 'FIRST_NAME': 'PERSON',\n",
      " 'GPE': 'LOCATION',\n",
      " 'HCW': 'PERSON',\n",
      " 'HOSP': 'ORGANIZATION',\n",
      " 'HOSPITAL': 'ORGANIZATION',\n",
      " 'IBAN': 'IBAN_CODE',\n",
      " 'IBAN_CODE': 'IBAN_CODE',\n",
      " 'ID': 'ID',\n",
      " 'IP_ADDRESS': 'IP_ADDRESS',\n",
      " 'LAST_NAME': 'PERSON',\n",
      " 'LOC': 'LOCATION',\n",
      " 'LOCATION': 'LOCATION',\n",
      " 'NATIONALITY': 'NRP',\n",
      " 'NORP': 'NRP',\n",
      " 'NRP': 'NRP',\n",
      " 'O': 'O',\n",
      " 'ORG': 'ORGANIZATION',\n",
      " 'ORGANIZATION': 'ORGANIZATION',\n",
      " 'PATIENT': 'PERSON',\n",
      " 'PATORG': 'ORGANIZATION',\n",
      " 'PER': 'PERSON',\n",
      " 'PERSON': 'PERSON',\n",
      " 'PHONE': 'PHONE_NUMBER',\n",
      " 'PHONE_NUMBER': 'PHONE_NUMBER',\n",
      " 'PREFIX': 'TITLE',\n",
      " 'SSN': 'US_SSN',\n",
      " 'STAFF': 'PERSON',\n",
      " 'STREET_ADDRESS': 'LOCATION',\n",
      " 'TIME': 'DATE_TIME',\n",
      " 'TITLE': 'TITLE',\n",
      " 'URL': 'URL',\n",
      " 'US_DRIVER_LICENSE': 'US_DRIVER_LICENSE',\n",
      " 'US_SSN': 'US_SSN',\n",
      " 'VENDOR': 'ORGANIZATION',\n",
      " 'ZIP': 'ZIP_CODE',\n",
      " 'ZIP_CODE': 'ZIP_CODE'}\n",
      "\n",
      "Count per entity after alignment:\n",
      "[('O', 19626), ('LOCATION', 3592), ('PERSON', 1369), ('ORGANIZATION', 504),\n",
      " ('PHONE_NUMBER', 350), ('DATE_TIME', 219), ('TITLE', 142),\n",
      " ('CREDIT_CARD', 136), ('US_SSN', 80), ('AGE', 74), ('NRP', 55),\n",
      " ('ZIP_CODE', 50), ('EMAIL_ADDRESS', 49), ('URL', 37), ('IP_ADDRESS', 22),\n",
      " ('IBAN_CODE', 21), ('US_DRIVER_LICENSE', 9)]\n"
     ]
    }
   ],
   "source": [
    "from presidio_evaluator.models import  PresidioAnalyzerWrapper\n",
    "\n",
    "entities_mapping=PresidioAnalyzerWrapper.presidio_entities_map # default mapping\n",
    "\n",
    "print(\"Using this mapping between the dataset and Presidio's entities:\")\n",
    "pprint(entities_mapping, compact=True)\n",
    "\n",
    "\n",
    "dataset = Evaluator.align_entity_types(\n",
    "    dataset, \n",
    "    entities_mapping=entities_mapping, \n",
    "    allow_missing_mappings=True\n",
    ")\n",
    "new_entity_counts = get_entity_counts(dataset)\n",
    "print(\"\\nCount per entity after alignment:\")\n",
    "pprint(new_entity_counts.most_common(), compact=True)\n",
    "\n",
    "dataset_entities = list(new_entity_counts.values())\n"
   ]
  },
  {
   "cell_type": "markdown",
   "id": "16dbf6d6-a554-4602-8907-589786d47a12",
   "metadata": {},
   "source": [
    "## 5. Set up the Evaluator object"
   ]
  },
  {
   "cell_type": "code",
   "execution_count": 32,
   "id": "29d39ff1-4f14-4e32-ae84-ecc6c739f829",
   "metadata": {
    "ExecuteTime": {
     "end_time": "2024-09-19T19:05:53.900080Z",
     "start_time": "2024-09-19T19:05:53.838844Z"
    },
    "scrolled": true
   },
   "outputs": [
    {
     "name": "stdout",
     "output_type": "stream",
     "text": [
      "--------\n",
      "Entities supported by this Presidio Analyzer instance:\n",
      "UK_NHS, CRYPTO, US_ITIN, URL, EMAIL_ADDRESS, AU_TFN, IN_VOTER, US_SSN, SG_NRIC_FIN, ORGANIZATION, IN_VEHICLE_REGISTRATION, MEDICAL_LICENSE, US_DRIVER_LICENSE, PERSON, IN_AADHAAR, AU_ACN, IN_PASSPORT, CREDIT_CARD, US_PASSPORT, NRP, AU_MEDICARE, US_BANK_NUMBER, PHONE_NUMBER, DATE_TIME, AU_ABN, LOCATION, IBAN_CODE, IP_ADDRESS, IN_PAN\n"
     ]
    }
   ],
   "source": [
    "# Set up the experiment tracker to log the experiment for reproducibility\n",
    "experiment = get_experiment_tracker()\n",
    "\n",
    "# Create the evaluator object\n",
    "evaluator = Evaluator(model=analyzer_engine)\n",
    "\n",
    "\n",
    "# Track model and dataset params\n",
    "params = {\"dataset_name\": dataset_name, \n",
    "          \"model_name\": evaluator.model.name}\n",
    "params.update(evaluator.model.to_log())\n",
    "experiment.log_parameters(params)\n",
    "experiment.log_dataset_hash(dataset)\n",
    "experiment.log_parameter(\"entity_mappings\", json.dumps(entities_mapping))"
   ]
  },
  {
   "cell_type": "markdown",
   "id": "2a7d6626-d094-4dfd-8f37-c0443edf00dc",
   "metadata": {},
   "source": [
    "## 6. Run experiment"
   ]
  },
  {
   "cell_type": "code",
   "execution_count": 33,
   "id": "cf65af8f",
   "metadata": {
    "ExecuteTime": {
     "end_time": "2024-09-19T19:06:04.563192Z",
     "start_time": "2024-09-19T19:05:59.219544Z"
    }
   },
   "outputs": [
    {
     "name": "stdout",
     "output_type": "stream",
     "text": [
      "Running model PresidioAnalyzerWrapper on dataset...\n",
      "Finished running model on dataset\n",
      "saving experiment data to experiment_20241126-101625.json\n",
      "CPU times: user 4.96 s, sys: 143 ms, total: 5.11 s\n",
      "Wall time: 5.21 s\n"
     ]
    }
   ],
   "source": [
    "%%time\n",
    "\n",
    "## Run experiment\n",
    "\n",
    "evaluation_results = evaluator.evaluate_all(dataset)\n",
    "results = evaluator.calculate_score(evaluation_results)\n",
    "\n",
    "# Track experiment results\n",
    "experiment.log_metrics(results.to_log())\n",
    "entities, confmatrix = results.to_confusion_matrix()\n",
    "experiment.log_confusion_matrix(matrix=confmatrix, \n",
    "                                labels=entities)\n",
    "\n",
    "# end experiment\n",
    "experiment.end()"
   ]
  },
  {
   "cell_type": "markdown",
   "id": "69c7518b-132c-4bc4-8155-1634ac4173bc",
   "metadata": {},
   "source": [
    "## 7. Evaluate results"
   ]
  },
  {
   "cell_type": "code",
   "execution_count": 34,
   "id": "5b4d662d-596c-4a69-b3c9-1edcda20cc5b",
   "metadata": {
    "ExecuteTime": {
     "end_time": "2024-09-19T19:06:07.152556Z",
     "start_time": "2024-09-19T19:06:04.567921Z"
    }
   },
   "outputs": [
    {
     "data": {
      "application/vnd.plotly.v1+json": {
       "config": {
        "plotlyServerURL": "https://plot.ly"
       },
       "data": [
        {
         "alignmentgroup": "True",
         "cliponaxis": false,
         "hovertemplate": "f2_score=%{x}<br>entity=%{y}<br>count=%{marker.color}<extra></extra>",
         "legendgroup": "",
         "marker": {
          "color": [
           37,
           49,
           136,
           55,
           322,
           219,
           2648,
           80,
           423,
           21,
           21,
           7,
           1365,
           0,
           5383
          ],
          "coloraxis": "coloraxis",
          "pattern": {
           "shape": ""
          }
         },
         "name": "",
         "offsetgroup": "",
         "orientation": "h",
         "showlegend": false,
         "textangle": 0,
         "textfont": {
          "size": 12
         },
         "textposition": "outside",
         "texttemplate": "%{x:.2}",
         "type": "bar",
         "x": [
          0.9782608695652174,
          1,
          0.8089368258859784,
          0.6440677966101696,
          0.6296296296296298,
          0.7865168539325842,
          0.2543507362784472,
          1,
          null,
          1,
          0.9223300970873786,
          0.48387096774193544,
          0.8306073104821504,
          null,
          0.6004782749675746
         ],
         "xaxis": "x",
         "y": [
          "URL",
          "EMAIL_ADDRESS",
          "CREDIT_CARD",
          "NRP",
          "PHONE_NUMBER",
          "DATE_TIME",
          "LOCATION",
          "US_SSN",
          "ORGANIZATION",
          "IBAN_CODE",
          "IP_ADDRESS",
          "US_DRIVER_LICENSE",
          "PERSON",
          "IN_AADHAAR",
          "PII"
         ],
         "yaxis": "y"
        }
       ],
       "layout": {
        "annotations": [
         {
          "font": {
           "color": "gray",
           "size": 12
          },
          "showarrow": false,
          "text": "",
          "x": 0.5,
          "xref": "paper",
          "y": 1.1,
          "yref": "paper"
         }
        ],
        "barmode": "group",
        "coloraxis": {
         "colorbar": {
          "title": {
           "text": "count"
          }
         },
         "colorscale": [
          [
           0,
           "#0d0887"
          ],
          [
           0.1111111111111111,
           "#46039f"
          ],
          [
           0.2222222222222222,
           "#7201a8"
          ],
          [
           0.3333333333333333,
           "#9c179e"
          ],
          [
           0.4444444444444444,
           "#bd3786"
          ],
          [
           0.5555555555555556,
           "#d8576b"
          ],
          [
           0.6666666666666666,
           "#ed7953"
          ],
          [
           0.7777777777777778,
           "#fb9f3a"
          ],
          [
           0.8888888888888888,
           "#fdca26"
          ],
          [
           1,
           "#f0f921"
          ]
         ]
        },
        "height": 500,
        "legend": {
         "tracegroupgap": 0
        },
        "plot_bgcolor": "#FFF",
        "template": {
         "data": {
          "bar": [
           {
            "error_x": {
             "color": "#2a3f5f"
            },
            "error_y": {
             "color": "#2a3f5f"
            },
            "marker": {
             "line": {
              "color": "#E5ECF6",
              "width": 0.5
             },
             "pattern": {
              "fillmode": "overlay",
              "size": 10,
              "solidity": 0.2
             }
            },
            "type": "bar"
           }
          ],
          "barpolar": [
           {
            "marker": {
             "line": {
              "color": "#E5ECF6",
              "width": 0.5
             },
             "pattern": {
              "fillmode": "overlay",
              "size": 10,
              "solidity": 0.2
             }
            },
            "type": "barpolar"
           }
          ],
          "carpet": [
           {
            "aaxis": {
             "endlinecolor": "#2a3f5f",
             "gridcolor": "white",
             "linecolor": "white",
             "minorgridcolor": "white",
             "startlinecolor": "#2a3f5f"
            },
            "baxis": {
             "endlinecolor": "#2a3f5f",
             "gridcolor": "white",
             "linecolor": "white",
             "minorgridcolor": "white",
             "startlinecolor": "#2a3f5f"
            },
            "type": "carpet"
           }
          ],
          "choropleth": [
           {
            "colorbar": {
             "outlinewidth": 0,
             "ticks": ""
            },
            "type": "choropleth"
           }
          ],
          "contour": [
           {
            "colorbar": {
             "outlinewidth": 0,
             "ticks": ""
            },
            "colorscale": [
             [
              0,
              "#0d0887"
             ],
             [
              0.1111111111111111,
              "#46039f"
             ],
             [
              0.2222222222222222,
              "#7201a8"
             ],
             [
              0.3333333333333333,
              "#9c179e"
             ],
             [
              0.4444444444444444,
              "#bd3786"
             ],
             [
              0.5555555555555556,
              "#d8576b"
             ],
             [
              0.6666666666666666,
              "#ed7953"
             ],
             [
              0.7777777777777778,
              "#fb9f3a"
             ],
             [
              0.8888888888888888,
              "#fdca26"
             ],
             [
              1,
              "#f0f921"
             ]
            ],
            "type": "contour"
           }
          ],
          "contourcarpet": [
           {
            "colorbar": {
             "outlinewidth": 0,
             "ticks": ""
            },
            "type": "contourcarpet"
           }
          ],
          "heatmap": [
           {
            "colorbar": {
             "outlinewidth": 0,
             "ticks": ""
            },
            "colorscale": [
             [
              0,
              "#0d0887"
             ],
             [
              0.1111111111111111,
              "#46039f"
             ],
             [
              0.2222222222222222,
              "#7201a8"
             ],
             [
              0.3333333333333333,
              "#9c179e"
             ],
             [
              0.4444444444444444,
              "#bd3786"
             ],
             [
              0.5555555555555556,
              "#d8576b"
             ],
             [
              0.6666666666666666,
              "#ed7953"
             ],
             [
              0.7777777777777778,
              "#fb9f3a"
             ],
             [
              0.8888888888888888,
              "#fdca26"
             ],
             [
              1,
              "#f0f921"
             ]
            ],
            "type": "heatmap"
           }
          ],
          "heatmapgl": [
           {
            "colorbar": {
             "outlinewidth": 0,
             "ticks": ""
            },
            "colorscale": [
             [
              0,
              "#0d0887"
             ],
             [
              0.1111111111111111,
              "#46039f"
             ],
             [
              0.2222222222222222,
              "#7201a8"
             ],
             [
              0.3333333333333333,
              "#9c179e"
             ],
             [
              0.4444444444444444,
              "#bd3786"
             ],
             [
              0.5555555555555556,
              "#d8576b"
             ],
             [
              0.6666666666666666,
              "#ed7953"
             ],
             [
              0.7777777777777778,
              "#fb9f3a"
             ],
             [
              0.8888888888888888,
              "#fdca26"
             ],
             [
              1,
              "#f0f921"
             ]
            ],
            "type": "heatmapgl"
           }
          ],
          "histogram": [
           {
            "marker": {
             "pattern": {
              "fillmode": "overlay",
              "size": 10,
              "solidity": 0.2
             }
            },
            "type": "histogram"
           }
          ],
          "histogram2d": [
           {
            "colorbar": {
             "outlinewidth": 0,
             "ticks": ""
            },
            "colorscale": [
             [
              0,
              "#0d0887"
             ],
             [
              0.1111111111111111,
              "#46039f"
             ],
             [
              0.2222222222222222,
              "#7201a8"
             ],
             [
              0.3333333333333333,
              "#9c179e"
             ],
             [
              0.4444444444444444,
              "#bd3786"
             ],
             [
              0.5555555555555556,
              "#d8576b"
             ],
             [
              0.6666666666666666,
              "#ed7953"
             ],
             [
              0.7777777777777778,
              "#fb9f3a"
             ],
             [
              0.8888888888888888,
              "#fdca26"
             ],
             [
              1,
              "#f0f921"
             ]
            ],
            "type": "histogram2d"
           }
          ],
          "histogram2dcontour": [
           {
            "colorbar": {
             "outlinewidth": 0,
             "ticks": ""
            },
            "colorscale": [
             [
              0,
              "#0d0887"
             ],
             [
              0.1111111111111111,
              "#46039f"
             ],
             [
              0.2222222222222222,
              "#7201a8"
             ],
             [
              0.3333333333333333,
              "#9c179e"
             ],
             [
              0.4444444444444444,
              "#bd3786"
             ],
             [
              0.5555555555555556,
              "#d8576b"
             ],
             [
              0.6666666666666666,
              "#ed7953"
             ],
             [
              0.7777777777777778,
              "#fb9f3a"
             ],
             [
              0.8888888888888888,
              "#fdca26"
             ],
             [
              1,
              "#f0f921"
             ]
            ],
            "type": "histogram2dcontour"
           }
          ],
          "mesh3d": [
           {
            "colorbar": {
             "outlinewidth": 0,
             "ticks": ""
            },
            "type": "mesh3d"
           }
          ],
          "parcoords": [
           {
            "line": {
             "colorbar": {
              "outlinewidth": 0,
              "ticks": ""
             }
            },
            "type": "parcoords"
           }
          ],
          "pie": [
           {
            "automargin": true,
            "type": "pie"
           }
          ],
          "scatter": [
           {
            "fillpattern": {
             "fillmode": "overlay",
             "size": 10,
             "solidity": 0.2
            },
            "type": "scatter"
           }
          ],
          "scatter3d": [
           {
            "line": {
             "colorbar": {
              "outlinewidth": 0,
              "ticks": ""
             }
            },
            "marker": {
             "colorbar": {
              "outlinewidth": 0,
              "ticks": ""
             }
            },
            "type": "scatter3d"
           }
          ],
          "scattercarpet": [
           {
            "marker": {
             "colorbar": {
              "outlinewidth": 0,
              "ticks": ""
             }
            },
            "type": "scattercarpet"
           }
          ],
          "scattergeo": [
           {
            "marker": {
             "colorbar": {
              "outlinewidth": 0,
              "ticks": ""
             }
            },
            "type": "scattergeo"
           }
          ],
          "scattergl": [
           {
            "marker": {
             "colorbar": {
              "outlinewidth": 0,
              "ticks": ""
             }
            },
            "type": "scattergl"
           }
          ],
          "scattermapbox": [
           {
            "marker": {
             "colorbar": {
              "outlinewidth": 0,
              "ticks": ""
             }
            },
            "type": "scattermapbox"
           }
          ],
          "scatterpolar": [
           {
            "marker": {
             "colorbar": {
              "outlinewidth": 0,
              "ticks": ""
             }
            },
            "type": "scatterpolar"
           }
          ],
          "scatterpolargl": [
           {
            "marker": {
             "colorbar": {
              "outlinewidth": 0,
              "ticks": ""
             }
            },
            "type": "scatterpolargl"
           }
          ],
          "scatterternary": [
           {
            "marker": {
             "colorbar": {
              "outlinewidth": 0,
              "ticks": ""
             }
            },
            "type": "scatterternary"
           }
          ],
          "surface": [
           {
            "colorbar": {
             "outlinewidth": 0,
             "ticks": ""
            },
            "colorscale": [
             [
              0,
              "#0d0887"
             ],
             [
              0.1111111111111111,
              "#46039f"
             ],
             [
              0.2222222222222222,
              "#7201a8"
             ],
             [
              0.3333333333333333,
              "#9c179e"
             ],
             [
              0.4444444444444444,
              "#bd3786"
             ],
             [
              0.5555555555555556,
              "#d8576b"
             ],
             [
              0.6666666666666666,
              "#ed7953"
             ],
             [
              0.7777777777777778,
              "#fb9f3a"
             ],
             [
              0.8888888888888888,
              "#fdca26"
             ],
             [
              1,
              "#f0f921"
             ]
            ],
            "type": "surface"
           }
          ],
          "table": [
           {
            "cells": {
             "fill": {
              "color": "#EBF0F8"
             },
             "line": {
              "color": "white"
             }
            },
            "header": {
             "fill": {
              "color": "#C8D4E3"
             },
             "line": {
              "color": "white"
             }
            },
            "type": "table"
           }
          ]
         },
         "layout": {
          "annotationdefaults": {
           "arrowcolor": "#2a3f5f",
           "arrowhead": 0,
           "arrowwidth": 1
          },
          "autotypenumbers": "strict",
          "coloraxis": {
           "colorbar": {
            "outlinewidth": 0,
            "ticks": ""
           }
          },
          "colorscale": {
           "diverging": [
            [
             0,
             "#8e0152"
            ],
            [
             0.1,
             "#c51b7d"
            ],
            [
             0.2,
             "#de77ae"
            ],
            [
             0.3,
             "#f1b6da"
            ],
            [
             0.4,
             "#fde0ef"
            ],
            [
             0.5,
             "#f7f7f7"
            ],
            [
             0.6,
             "#e6f5d0"
            ],
            [
             0.7,
             "#b8e186"
            ],
            [
             0.8,
             "#7fbc41"
            ],
            [
             0.9,
             "#4d9221"
            ],
            [
             1,
             "#276419"
            ]
           ],
           "sequential": [
            [
             0,
             "#0d0887"
            ],
            [
             0.1111111111111111,
             "#46039f"
            ],
            [
             0.2222222222222222,
             "#7201a8"
            ],
            [
             0.3333333333333333,
             "#9c179e"
            ],
            [
             0.4444444444444444,
             "#bd3786"
            ],
            [
             0.5555555555555556,
             "#d8576b"
            ],
            [
             0.6666666666666666,
             "#ed7953"
            ],
            [
             0.7777777777777778,
             "#fb9f3a"
            ],
            [
             0.8888888888888888,
             "#fdca26"
            ],
            [
             1,
             "#f0f921"
            ]
           ],
           "sequentialminus": [
            [
             0,
             "#0d0887"
            ],
            [
             0.1111111111111111,
             "#46039f"
            ],
            [
             0.2222222222222222,
             "#7201a8"
            ],
            [
             0.3333333333333333,
             "#9c179e"
            ],
            [
             0.4444444444444444,
             "#bd3786"
            ],
            [
             0.5555555555555556,
             "#d8576b"
            ],
            [
             0.6666666666666666,
             "#ed7953"
            ],
            [
             0.7777777777777778,
             "#fb9f3a"
            ],
            [
             0.8888888888888888,
             "#fdca26"
            ],
            [
             1,
             "#f0f921"
            ]
           ]
          },
          "colorway": [
           "#636efa",
           "#EF553B",
           "#00cc96",
           "#ab63fa",
           "#FFA15A",
           "#19d3f3",
           "#FF6692",
           "#B6E880",
           "#FF97FF",
           "#FECB52"
          ],
          "font": {
           "color": "#2a3f5f"
          },
          "geo": {
           "bgcolor": "white",
           "lakecolor": "white",
           "landcolor": "#E5ECF6",
           "showlakes": true,
           "showland": true,
           "subunitcolor": "white"
          },
          "hoverlabel": {
           "align": "left"
          },
          "hovermode": "closest",
          "mapbox": {
           "style": "light"
          },
          "paper_bgcolor": "white",
          "plot_bgcolor": "#E5ECF6",
          "polar": {
           "angularaxis": {
            "gridcolor": "white",
            "linecolor": "white",
            "ticks": ""
           },
           "bgcolor": "#E5ECF6",
           "radialaxis": {
            "gridcolor": "white",
            "linecolor": "white",
            "ticks": ""
           }
          },
          "scene": {
           "xaxis": {
            "backgroundcolor": "#E5ECF6",
            "gridcolor": "white",
            "gridwidth": 2,
            "linecolor": "white",
            "showbackground": true,
            "ticks": "",
            "zerolinecolor": "white"
           },
           "yaxis": {
            "backgroundcolor": "#E5ECF6",
            "gridcolor": "white",
            "gridwidth": 2,
            "linecolor": "white",
            "showbackground": true,
            "ticks": "",
            "zerolinecolor": "white"
           },
           "zaxis": {
            "backgroundcolor": "#E5ECF6",
            "gridcolor": "white",
            "gridwidth": 2,
            "linecolor": "white",
            "showbackground": true,
            "ticks": "",
            "zerolinecolor": "white"
           }
          },
          "shapedefaults": {
           "line": {
            "color": "#2a3f5f"
           }
          },
          "ternary": {
           "aaxis": {
            "gridcolor": "white",
            "linecolor": "white",
            "ticks": ""
           },
           "baxis": {
            "gridcolor": "white",
            "linecolor": "white",
            "ticks": ""
           },
           "bgcolor": "#E5ECF6",
           "caxis": {
            "gridcolor": "white",
            "linecolor": "white",
            "ticks": ""
           }
          },
          "title": {
           "x": 0.05
          },
          "xaxis": {
           "automargin": true,
           "gridcolor": "white",
           "linecolor": "white",
           "ticks": "",
           "title": {
            "standoff": 15
           },
           "zerolinecolor": "white",
           "zerolinewidth": 2
          },
          "yaxis": {
           "automargin": true,
           "gridcolor": "white",
           "linecolor": "white",
           "ticks": "",
           "title": {
            "standoff": 15
           },
           "zerolinecolor": "white",
           "zerolinewidth": 2
          }
         }
        },
        "title": {
         "text": "Per-entity f2_score for Presidio Analyzer"
        },
        "xaxis": {
         "anchor": "y",
         "domain": [
          0,
          1
         ],
         "linecolor": "#BCCCDC",
         "showgrid": false,
         "title": {
          "text": "PII entity"
         }
        },
        "yaxis": {
         "anchor": "x",
         "categoryorder": "total ascending",
         "domain": [
          0,
          1
         ],
         "linecolor": "#BCCCDC",
         "showgrid": false,
         "title": {
          "text": "f2_score"
         }
        }
       }
      }
     },
     "metadata": {},
     "output_type": "display_data"
    },
    {
     "data": {
      "application/vnd.plotly.v1+json": {
       "config": {
        "plotlyServerURL": "https://plot.ly"
       },
       "data": [
        {
         "alignmentgroup": "True",
         "cliponaxis": false,
         "hovertemplate": "recall=%{x}<br>entity=%{y}<br>count=%{marker.color}<extra></extra>",
         "legendgroup": "",
         "marker": {
          "color": [
           37,
           49,
           136,
           55,
           322,
           219,
           2648,
           80,
           423,
           21,
           21,
           7,
           1365,
           0,
           5383
          ],
          "coloraxis": "coloraxis",
          "pattern": {
           "shape": ""
          }
         },
         "name": "",
         "offsetgroup": "",
         "orientation": "h",
         "showlegend": false,
         "textangle": 0,
         "textfont": {
          "size": 12
         },
         "textposition": "outside",
         "texttemplate": "%{x:.2}",
         "type": "bar",
         "x": [
          0.972972972972973,
          1,
          0.7720588235294118,
          0.6909090909090909,
          0.5807453416149069,
          0.8949771689497716,
          0.21525679758308158,
          1,
          0,
          1,
          0.9047619047619048,
          0.42857142857142855,
          0.8556776556776556,
          null,
          0.5504365595392904
         ],
         "xaxis": "x",
         "y": [
          "URL",
          "EMAIL_ADDRESS",
          "CREDIT_CARD",
          "NRP",
          "PHONE_NUMBER",
          "DATE_TIME",
          "LOCATION",
          "US_SSN",
          "ORGANIZATION",
          "IBAN_CODE",
          "IP_ADDRESS",
          "US_DRIVER_LICENSE",
          "PERSON",
          "IN_AADHAAR",
          "PII"
         ],
         "yaxis": "y"
        }
       ],
       "layout": {
        "annotations": [
         {
          "font": {
           "color": "gray",
           "size": 12
          },
          "showarrow": false,
          "text": "",
          "x": 0.5,
          "xref": "paper",
          "y": 1.1,
          "yref": "paper"
         }
        ],
        "barmode": "group",
        "coloraxis": {
         "colorbar": {
          "title": {
           "text": "count"
          }
         },
         "colorscale": [
          [
           0,
           "#0d0887"
          ],
          [
           0.1111111111111111,
           "#46039f"
          ],
          [
           0.2222222222222222,
           "#7201a8"
          ],
          [
           0.3333333333333333,
           "#9c179e"
          ],
          [
           0.4444444444444444,
           "#bd3786"
          ],
          [
           0.5555555555555556,
           "#d8576b"
          ],
          [
           0.6666666666666666,
           "#ed7953"
          ],
          [
           0.7777777777777778,
           "#fb9f3a"
          ],
          [
           0.8888888888888888,
           "#fdca26"
          ],
          [
           1,
           "#f0f921"
          ]
         ]
        },
        "height": 500,
        "legend": {
         "tracegroupgap": 0
        },
        "plot_bgcolor": "#FFF",
        "template": {
         "data": {
          "bar": [
           {
            "error_x": {
             "color": "#2a3f5f"
            },
            "error_y": {
             "color": "#2a3f5f"
            },
            "marker": {
             "line": {
              "color": "#E5ECF6",
              "width": 0.5
             },
             "pattern": {
              "fillmode": "overlay",
              "size": 10,
              "solidity": 0.2
             }
            },
            "type": "bar"
           }
          ],
          "barpolar": [
           {
            "marker": {
             "line": {
              "color": "#E5ECF6",
              "width": 0.5
             },
             "pattern": {
              "fillmode": "overlay",
              "size": 10,
              "solidity": 0.2
             }
            },
            "type": "barpolar"
           }
          ],
          "carpet": [
           {
            "aaxis": {
             "endlinecolor": "#2a3f5f",
             "gridcolor": "white",
             "linecolor": "white",
             "minorgridcolor": "white",
             "startlinecolor": "#2a3f5f"
            },
            "baxis": {
             "endlinecolor": "#2a3f5f",
             "gridcolor": "white",
             "linecolor": "white",
             "minorgridcolor": "white",
             "startlinecolor": "#2a3f5f"
            },
            "type": "carpet"
           }
          ],
          "choropleth": [
           {
            "colorbar": {
             "outlinewidth": 0,
             "ticks": ""
            },
            "type": "choropleth"
           }
          ],
          "contour": [
           {
            "colorbar": {
             "outlinewidth": 0,
             "ticks": ""
            },
            "colorscale": [
             [
              0,
              "#0d0887"
             ],
             [
              0.1111111111111111,
              "#46039f"
             ],
             [
              0.2222222222222222,
              "#7201a8"
             ],
             [
              0.3333333333333333,
              "#9c179e"
             ],
             [
              0.4444444444444444,
              "#bd3786"
             ],
             [
              0.5555555555555556,
              "#d8576b"
             ],
             [
              0.6666666666666666,
              "#ed7953"
             ],
             [
              0.7777777777777778,
              "#fb9f3a"
             ],
             [
              0.8888888888888888,
              "#fdca26"
             ],
             [
              1,
              "#f0f921"
             ]
            ],
            "type": "contour"
           }
          ],
          "contourcarpet": [
           {
            "colorbar": {
             "outlinewidth": 0,
             "ticks": ""
            },
            "type": "contourcarpet"
           }
          ],
          "heatmap": [
           {
            "colorbar": {
             "outlinewidth": 0,
             "ticks": ""
            },
            "colorscale": [
             [
              0,
              "#0d0887"
             ],
             [
              0.1111111111111111,
              "#46039f"
             ],
             [
              0.2222222222222222,
              "#7201a8"
             ],
             [
              0.3333333333333333,
              "#9c179e"
             ],
             [
              0.4444444444444444,
              "#bd3786"
             ],
             [
              0.5555555555555556,
              "#d8576b"
             ],
             [
              0.6666666666666666,
              "#ed7953"
             ],
             [
              0.7777777777777778,
              "#fb9f3a"
             ],
             [
              0.8888888888888888,
              "#fdca26"
             ],
             [
              1,
              "#f0f921"
             ]
            ],
            "type": "heatmap"
           }
          ],
          "heatmapgl": [
           {
            "colorbar": {
             "outlinewidth": 0,
             "ticks": ""
            },
            "colorscale": [
             [
              0,
              "#0d0887"
             ],
             [
              0.1111111111111111,
              "#46039f"
             ],
             [
              0.2222222222222222,
              "#7201a8"
             ],
             [
              0.3333333333333333,
              "#9c179e"
             ],
             [
              0.4444444444444444,
              "#bd3786"
             ],
             [
              0.5555555555555556,
              "#d8576b"
             ],
             [
              0.6666666666666666,
              "#ed7953"
             ],
             [
              0.7777777777777778,
              "#fb9f3a"
             ],
             [
              0.8888888888888888,
              "#fdca26"
             ],
             [
              1,
              "#f0f921"
             ]
            ],
            "type": "heatmapgl"
           }
          ],
          "histogram": [
           {
            "marker": {
             "pattern": {
              "fillmode": "overlay",
              "size": 10,
              "solidity": 0.2
             }
            },
            "type": "histogram"
           }
          ],
          "histogram2d": [
           {
            "colorbar": {
             "outlinewidth": 0,
             "ticks": ""
            },
            "colorscale": [
             [
              0,
              "#0d0887"
             ],
             [
              0.1111111111111111,
              "#46039f"
             ],
             [
              0.2222222222222222,
              "#7201a8"
             ],
             [
              0.3333333333333333,
              "#9c179e"
             ],
             [
              0.4444444444444444,
              "#bd3786"
             ],
             [
              0.5555555555555556,
              "#d8576b"
             ],
             [
              0.6666666666666666,
              "#ed7953"
             ],
             [
              0.7777777777777778,
              "#fb9f3a"
             ],
             [
              0.8888888888888888,
              "#fdca26"
             ],
             [
              1,
              "#f0f921"
             ]
            ],
            "type": "histogram2d"
           }
          ],
          "histogram2dcontour": [
           {
            "colorbar": {
             "outlinewidth": 0,
             "ticks": ""
            },
            "colorscale": [
             [
              0,
              "#0d0887"
             ],
             [
              0.1111111111111111,
              "#46039f"
             ],
             [
              0.2222222222222222,
              "#7201a8"
             ],
             [
              0.3333333333333333,
              "#9c179e"
             ],
             [
              0.4444444444444444,
              "#bd3786"
             ],
             [
              0.5555555555555556,
              "#d8576b"
             ],
             [
              0.6666666666666666,
              "#ed7953"
             ],
             [
              0.7777777777777778,
              "#fb9f3a"
             ],
             [
              0.8888888888888888,
              "#fdca26"
             ],
             [
              1,
              "#f0f921"
             ]
            ],
            "type": "histogram2dcontour"
           }
          ],
          "mesh3d": [
           {
            "colorbar": {
             "outlinewidth": 0,
             "ticks": ""
            },
            "type": "mesh3d"
           }
          ],
          "parcoords": [
           {
            "line": {
             "colorbar": {
              "outlinewidth": 0,
              "ticks": ""
             }
            },
            "type": "parcoords"
           }
          ],
          "pie": [
           {
            "automargin": true,
            "type": "pie"
           }
          ],
          "scatter": [
           {
            "fillpattern": {
             "fillmode": "overlay",
             "size": 10,
             "solidity": 0.2
            },
            "type": "scatter"
           }
          ],
          "scatter3d": [
           {
            "line": {
             "colorbar": {
              "outlinewidth": 0,
              "ticks": ""
             }
            },
            "marker": {
             "colorbar": {
              "outlinewidth": 0,
              "ticks": ""
             }
            },
            "type": "scatter3d"
           }
          ],
          "scattercarpet": [
           {
            "marker": {
             "colorbar": {
              "outlinewidth": 0,
              "ticks": ""
             }
            },
            "type": "scattercarpet"
           }
          ],
          "scattergeo": [
           {
            "marker": {
             "colorbar": {
              "outlinewidth": 0,
              "ticks": ""
             }
            },
            "type": "scattergeo"
           }
          ],
          "scattergl": [
           {
            "marker": {
             "colorbar": {
              "outlinewidth": 0,
              "ticks": ""
             }
            },
            "type": "scattergl"
           }
          ],
          "scattermapbox": [
           {
            "marker": {
             "colorbar": {
              "outlinewidth": 0,
              "ticks": ""
             }
            },
            "type": "scattermapbox"
           }
          ],
          "scatterpolar": [
           {
            "marker": {
             "colorbar": {
              "outlinewidth": 0,
              "ticks": ""
             }
            },
            "type": "scatterpolar"
           }
          ],
          "scatterpolargl": [
           {
            "marker": {
             "colorbar": {
              "outlinewidth": 0,
              "ticks": ""
             }
            },
            "type": "scatterpolargl"
           }
          ],
          "scatterternary": [
           {
            "marker": {
             "colorbar": {
              "outlinewidth": 0,
              "ticks": ""
             }
            },
            "type": "scatterternary"
           }
          ],
          "surface": [
           {
            "colorbar": {
             "outlinewidth": 0,
             "ticks": ""
            },
            "colorscale": [
             [
              0,
              "#0d0887"
             ],
             [
              0.1111111111111111,
              "#46039f"
             ],
             [
              0.2222222222222222,
              "#7201a8"
             ],
             [
              0.3333333333333333,
              "#9c179e"
             ],
             [
              0.4444444444444444,
              "#bd3786"
             ],
             [
              0.5555555555555556,
              "#d8576b"
             ],
             [
              0.6666666666666666,
              "#ed7953"
             ],
             [
              0.7777777777777778,
              "#fb9f3a"
             ],
             [
              0.8888888888888888,
              "#fdca26"
             ],
             [
              1,
              "#f0f921"
             ]
            ],
            "type": "surface"
           }
          ],
          "table": [
           {
            "cells": {
             "fill": {
              "color": "#EBF0F8"
             },
             "line": {
              "color": "white"
             }
            },
            "header": {
             "fill": {
              "color": "#C8D4E3"
             },
             "line": {
              "color": "white"
             }
            },
            "type": "table"
           }
          ]
         },
         "layout": {
          "annotationdefaults": {
           "arrowcolor": "#2a3f5f",
           "arrowhead": 0,
           "arrowwidth": 1
          },
          "autotypenumbers": "strict",
          "coloraxis": {
           "colorbar": {
            "outlinewidth": 0,
            "ticks": ""
           }
          },
          "colorscale": {
           "diverging": [
            [
             0,
             "#8e0152"
            ],
            [
             0.1,
             "#c51b7d"
            ],
            [
             0.2,
             "#de77ae"
            ],
            [
             0.3,
             "#f1b6da"
            ],
            [
             0.4,
             "#fde0ef"
            ],
            [
             0.5,
             "#f7f7f7"
            ],
            [
             0.6,
             "#e6f5d0"
            ],
            [
             0.7,
             "#b8e186"
            ],
            [
             0.8,
             "#7fbc41"
            ],
            [
             0.9,
             "#4d9221"
            ],
            [
             1,
             "#276419"
            ]
           ],
           "sequential": [
            [
             0,
             "#0d0887"
            ],
            [
             0.1111111111111111,
             "#46039f"
            ],
            [
             0.2222222222222222,
             "#7201a8"
            ],
            [
             0.3333333333333333,
             "#9c179e"
            ],
            [
             0.4444444444444444,
             "#bd3786"
            ],
            [
             0.5555555555555556,
             "#d8576b"
            ],
            [
             0.6666666666666666,
             "#ed7953"
            ],
            [
             0.7777777777777778,
             "#fb9f3a"
            ],
            [
             0.8888888888888888,
             "#fdca26"
            ],
            [
             1,
             "#f0f921"
            ]
           ],
           "sequentialminus": [
            [
             0,
             "#0d0887"
            ],
            [
             0.1111111111111111,
             "#46039f"
            ],
            [
             0.2222222222222222,
             "#7201a8"
            ],
            [
             0.3333333333333333,
             "#9c179e"
            ],
            [
             0.4444444444444444,
             "#bd3786"
            ],
            [
             0.5555555555555556,
             "#d8576b"
            ],
            [
             0.6666666666666666,
             "#ed7953"
            ],
            [
             0.7777777777777778,
             "#fb9f3a"
            ],
            [
             0.8888888888888888,
             "#fdca26"
            ],
            [
             1,
             "#f0f921"
            ]
           ]
          },
          "colorway": [
           "#636efa",
           "#EF553B",
           "#00cc96",
           "#ab63fa",
           "#FFA15A",
           "#19d3f3",
           "#FF6692",
           "#B6E880",
           "#FF97FF",
           "#FECB52"
          ],
          "font": {
           "color": "#2a3f5f"
          },
          "geo": {
           "bgcolor": "white",
           "lakecolor": "white",
           "landcolor": "#E5ECF6",
           "showlakes": true,
           "showland": true,
           "subunitcolor": "white"
          },
          "hoverlabel": {
           "align": "left"
          },
          "hovermode": "closest",
          "mapbox": {
           "style": "light"
          },
          "paper_bgcolor": "white",
          "plot_bgcolor": "#E5ECF6",
          "polar": {
           "angularaxis": {
            "gridcolor": "white",
            "linecolor": "white",
            "ticks": ""
           },
           "bgcolor": "#E5ECF6",
           "radialaxis": {
            "gridcolor": "white",
            "linecolor": "white",
            "ticks": ""
           }
          },
          "scene": {
           "xaxis": {
            "backgroundcolor": "#E5ECF6",
            "gridcolor": "white",
            "gridwidth": 2,
            "linecolor": "white",
            "showbackground": true,
            "ticks": "",
            "zerolinecolor": "white"
           },
           "yaxis": {
            "backgroundcolor": "#E5ECF6",
            "gridcolor": "white",
            "gridwidth": 2,
            "linecolor": "white",
            "showbackground": true,
            "ticks": "",
            "zerolinecolor": "white"
           },
           "zaxis": {
            "backgroundcolor": "#E5ECF6",
            "gridcolor": "white",
            "gridwidth": 2,
            "linecolor": "white",
            "showbackground": true,
            "ticks": "",
            "zerolinecolor": "white"
           }
          },
          "shapedefaults": {
           "line": {
            "color": "#2a3f5f"
           }
          },
          "ternary": {
           "aaxis": {
            "gridcolor": "white",
            "linecolor": "white",
            "ticks": ""
           },
           "baxis": {
            "gridcolor": "white",
            "linecolor": "white",
            "ticks": ""
           },
           "bgcolor": "#E5ECF6",
           "caxis": {
            "gridcolor": "white",
            "linecolor": "white",
            "ticks": ""
           }
          },
          "title": {
           "x": 0.05
          },
          "xaxis": {
           "automargin": true,
           "gridcolor": "white",
           "linecolor": "white",
           "ticks": "",
           "title": {
            "standoff": 15
           },
           "zerolinecolor": "white",
           "zerolinewidth": 2
          },
          "yaxis": {
           "automargin": true,
           "gridcolor": "white",
           "linecolor": "white",
           "ticks": "",
           "title": {
            "standoff": 15
           },
           "zerolinecolor": "white",
           "zerolinewidth": 2
          }
         }
        },
        "title": {
         "text": "Per-entity recall for Presidio Analyzer"
        },
        "xaxis": {
         "anchor": "y",
         "domain": [
          0,
          1
         ],
         "linecolor": "#BCCCDC",
         "showgrid": false,
         "title": {
          "text": "PII entity"
         }
        },
        "yaxis": {
         "anchor": "x",
         "categoryorder": "total ascending",
         "domain": [
          0,
          1
         ],
         "linecolor": "#BCCCDC",
         "showgrid": false,
         "title": {
          "text": "recall"
         }
        }
       }
      }
     },
     "metadata": {},
     "output_type": "display_data"
    },
    {
     "data": {
      "application/vnd.plotly.v1+json": {
       "config": {
        "plotlyServerURL": "https://plot.ly"
       },
       "data": [
        {
         "alignmentgroup": "True",
         "cliponaxis": false,
         "hovertemplate": "precision=%{x}<br>entity=%{y}<br>count=%{marker.color}<extra></extra>",
         "legendgroup": "",
         "marker": {
          "color": [
           37,
           49,
           136,
           55,
           322,
           219,
           2648,
           80,
           423,
           21,
           21,
           7,
           1365,
           0,
           5383
          ],
          "coloraxis": "coloraxis",
          "pattern": {
           "shape": ""
          }
         },
         "name": "",
         "offsetgroup": "",
         "orientation": "h",
         "showlegend": false,
         "textangle": 0,
         "textfont": {
          "size": 12
         },
         "textposition": "outside",
         "texttemplate": "%{x:.2}",
         "type": "bar",
         "x": [
          1,
          1,
          1,
          0.5066666666666667,
          0.949238578680203,
          0.5297297297297298,
          0.9298531810766721,
          1,
          null,
          1,
          1,
          1,
          0.743475493316359,
          0,
          0.9436305732484076
         ],
         "xaxis": "x",
         "y": [
          "URL",
          "EMAIL_ADDRESS",
          "CREDIT_CARD",
          "NRP",
          "PHONE_NUMBER",
          "DATE_TIME",
          "LOCATION",
          "US_SSN",
          "ORGANIZATION",
          "IBAN_CODE",
          "IP_ADDRESS",
          "US_DRIVER_LICENSE",
          "PERSON",
          "IN_AADHAAR",
          "PII"
         ],
         "yaxis": "y"
        }
       ],
       "layout": {
        "annotations": [
         {
          "font": {
           "color": "gray",
           "size": 12
          },
          "showarrow": false,
          "text": "Entity precision values also consider mismatches between different entity types, not just misclassified PII values\n",
          "x": 0.5,
          "xref": "paper",
          "y": 1.1,
          "yref": "paper"
         }
        ],
        "barmode": "group",
        "coloraxis": {
         "colorbar": {
          "title": {
           "text": "count"
          }
         },
         "colorscale": [
          [
           0,
           "#0d0887"
          ],
          [
           0.1111111111111111,
           "#46039f"
          ],
          [
           0.2222222222222222,
           "#7201a8"
          ],
          [
           0.3333333333333333,
           "#9c179e"
          ],
          [
           0.4444444444444444,
           "#bd3786"
          ],
          [
           0.5555555555555556,
           "#d8576b"
          ],
          [
           0.6666666666666666,
           "#ed7953"
          ],
          [
           0.7777777777777778,
           "#fb9f3a"
          ],
          [
           0.8888888888888888,
           "#fdca26"
          ],
          [
           1,
           "#f0f921"
          ]
         ]
        },
        "height": 500,
        "legend": {
         "tracegroupgap": 0
        },
        "plot_bgcolor": "#FFF",
        "template": {
         "data": {
          "bar": [
           {
            "error_x": {
             "color": "#2a3f5f"
            },
            "error_y": {
             "color": "#2a3f5f"
            },
            "marker": {
             "line": {
              "color": "#E5ECF6",
              "width": 0.5
             },
             "pattern": {
              "fillmode": "overlay",
              "size": 10,
              "solidity": 0.2
             }
            },
            "type": "bar"
           }
          ],
          "barpolar": [
           {
            "marker": {
             "line": {
              "color": "#E5ECF6",
              "width": 0.5
             },
             "pattern": {
              "fillmode": "overlay",
              "size": 10,
              "solidity": 0.2
             }
            },
            "type": "barpolar"
           }
          ],
          "carpet": [
           {
            "aaxis": {
             "endlinecolor": "#2a3f5f",
             "gridcolor": "white",
             "linecolor": "white",
             "minorgridcolor": "white",
             "startlinecolor": "#2a3f5f"
            },
            "baxis": {
             "endlinecolor": "#2a3f5f",
             "gridcolor": "white",
             "linecolor": "white",
             "minorgridcolor": "white",
             "startlinecolor": "#2a3f5f"
            },
            "type": "carpet"
           }
          ],
          "choropleth": [
           {
            "colorbar": {
             "outlinewidth": 0,
             "ticks": ""
            },
            "type": "choropleth"
           }
          ],
          "contour": [
           {
            "colorbar": {
             "outlinewidth": 0,
             "ticks": ""
            },
            "colorscale": [
             [
              0,
              "#0d0887"
             ],
             [
              0.1111111111111111,
              "#46039f"
             ],
             [
              0.2222222222222222,
              "#7201a8"
             ],
             [
              0.3333333333333333,
              "#9c179e"
             ],
             [
              0.4444444444444444,
              "#bd3786"
             ],
             [
              0.5555555555555556,
              "#d8576b"
             ],
             [
              0.6666666666666666,
              "#ed7953"
             ],
             [
              0.7777777777777778,
              "#fb9f3a"
             ],
             [
              0.8888888888888888,
              "#fdca26"
             ],
             [
              1,
              "#f0f921"
             ]
            ],
            "type": "contour"
           }
          ],
          "contourcarpet": [
           {
            "colorbar": {
             "outlinewidth": 0,
             "ticks": ""
            },
            "type": "contourcarpet"
           }
          ],
          "heatmap": [
           {
            "colorbar": {
             "outlinewidth": 0,
             "ticks": ""
            },
            "colorscale": [
             [
              0,
              "#0d0887"
             ],
             [
              0.1111111111111111,
              "#46039f"
             ],
             [
              0.2222222222222222,
              "#7201a8"
             ],
             [
              0.3333333333333333,
              "#9c179e"
             ],
             [
              0.4444444444444444,
              "#bd3786"
             ],
             [
              0.5555555555555556,
              "#d8576b"
             ],
             [
              0.6666666666666666,
              "#ed7953"
             ],
             [
              0.7777777777777778,
              "#fb9f3a"
             ],
             [
              0.8888888888888888,
              "#fdca26"
             ],
             [
              1,
              "#f0f921"
             ]
            ],
            "type": "heatmap"
           }
          ],
          "heatmapgl": [
           {
            "colorbar": {
             "outlinewidth": 0,
             "ticks": ""
            },
            "colorscale": [
             [
              0,
              "#0d0887"
             ],
             [
              0.1111111111111111,
              "#46039f"
             ],
             [
              0.2222222222222222,
              "#7201a8"
             ],
             [
              0.3333333333333333,
              "#9c179e"
             ],
             [
              0.4444444444444444,
              "#bd3786"
             ],
             [
              0.5555555555555556,
              "#d8576b"
             ],
             [
              0.6666666666666666,
              "#ed7953"
             ],
             [
              0.7777777777777778,
              "#fb9f3a"
             ],
             [
              0.8888888888888888,
              "#fdca26"
             ],
             [
              1,
              "#f0f921"
             ]
            ],
            "type": "heatmapgl"
           }
          ],
          "histogram": [
           {
            "marker": {
             "pattern": {
              "fillmode": "overlay",
              "size": 10,
              "solidity": 0.2
             }
            },
            "type": "histogram"
           }
          ],
          "histogram2d": [
           {
            "colorbar": {
             "outlinewidth": 0,
             "ticks": ""
            },
            "colorscale": [
             [
              0,
              "#0d0887"
             ],
             [
              0.1111111111111111,
              "#46039f"
             ],
             [
              0.2222222222222222,
              "#7201a8"
             ],
             [
              0.3333333333333333,
              "#9c179e"
             ],
             [
              0.4444444444444444,
              "#bd3786"
             ],
             [
              0.5555555555555556,
              "#d8576b"
             ],
             [
              0.6666666666666666,
              "#ed7953"
             ],
             [
              0.7777777777777778,
              "#fb9f3a"
             ],
             [
              0.8888888888888888,
              "#fdca26"
             ],
             [
              1,
              "#f0f921"
             ]
            ],
            "type": "histogram2d"
           }
          ],
          "histogram2dcontour": [
           {
            "colorbar": {
             "outlinewidth": 0,
             "ticks": ""
            },
            "colorscale": [
             [
              0,
              "#0d0887"
             ],
             [
              0.1111111111111111,
              "#46039f"
             ],
             [
              0.2222222222222222,
              "#7201a8"
             ],
             [
              0.3333333333333333,
              "#9c179e"
             ],
             [
              0.4444444444444444,
              "#bd3786"
             ],
             [
              0.5555555555555556,
              "#d8576b"
             ],
             [
              0.6666666666666666,
              "#ed7953"
             ],
             [
              0.7777777777777778,
              "#fb9f3a"
             ],
             [
              0.8888888888888888,
              "#fdca26"
             ],
             [
              1,
              "#f0f921"
             ]
            ],
            "type": "histogram2dcontour"
           }
          ],
          "mesh3d": [
           {
            "colorbar": {
             "outlinewidth": 0,
             "ticks": ""
            },
            "type": "mesh3d"
           }
          ],
          "parcoords": [
           {
            "line": {
             "colorbar": {
              "outlinewidth": 0,
              "ticks": ""
             }
            },
            "type": "parcoords"
           }
          ],
          "pie": [
           {
            "automargin": true,
            "type": "pie"
           }
          ],
          "scatter": [
           {
            "fillpattern": {
             "fillmode": "overlay",
             "size": 10,
             "solidity": 0.2
            },
            "type": "scatter"
           }
          ],
          "scatter3d": [
           {
            "line": {
             "colorbar": {
              "outlinewidth": 0,
              "ticks": ""
             }
            },
            "marker": {
             "colorbar": {
              "outlinewidth": 0,
              "ticks": ""
             }
            },
            "type": "scatter3d"
           }
          ],
          "scattercarpet": [
           {
            "marker": {
             "colorbar": {
              "outlinewidth": 0,
              "ticks": ""
             }
            },
            "type": "scattercarpet"
           }
          ],
          "scattergeo": [
           {
            "marker": {
             "colorbar": {
              "outlinewidth": 0,
              "ticks": ""
             }
            },
            "type": "scattergeo"
           }
          ],
          "scattergl": [
           {
            "marker": {
             "colorbar": {
              "outlinewidth": 0,
              "ticks": ""
             }
            },
            "type": "scattergl"
           }
          ],
          "scattermapbox": [
           {
            "marker": {
             "colorbar": {
              "outlinewidth": 0,
              "ticks": ""
             }
            },
            "type": "scattermapbox"
           }
          ],
          "scatterpolar": [
           {
            "marker": {
             "colorbar": {
              "outlinewidth": 0,
              "ticks": ""
             }
            },
            "type": "scatterpolar"
           }
          ],
          "scatterpolargl": [
           {
            "marker": {
             "colorbar": {
              "outlinewidth": 0,
              "ticks": ""
             }
            },
            "type": "scatterpolargl"
           }
          ],
          "scatterternary": [
           {
            "marker": {
             "colorbar": {
              "outlinewidth": 0,
              "ticks": ""
             }
            },
            "type": "scatterternary"
           }
          ],
          "surface": [
           {
            "colorbar": {
             "outlinewidth": 0,
             "ticks": ""
            },
            "colorscale": [
             [
              0,
              "#0d0887"
             ],
             [
              0.1111111111111111,
              "#46039f"
             ],
             [
              0.2222222222222222,
              "#7201a8"
             ],
             [
              0.3333333333333333,
              "#9c179e"
             ],
             [
              0.4444444444444444,
              "#bd3786"
             ],
             [
              0.5555555555555556,
              "#d8576b"
             ],
             [
              0.6666666666666666,
              "#ed7953"
             ],
             [
              0.7777777777777778,
              "#fb9f3a"
             ],
             [
              0.8888888888888888,
              "#fdca26"
             ],
             [
              1,
              "#f0f921"
             ]
            ],
            "type": "surface"
           }
          ],
          "table": [
           {
            "cells": {
             "fill": {
              "color": "#EBF0F8"
             },
             "line": {
              "color": "white"
             }
            },
            "header": {
             "fill": {
              "color": "#C8D4E3"
             },
             "line": {
              "color": "white"
             }
            },
            "type": "table"
           }
          ]
         },
         "layout": {
          "annotationdefaults": {
           "arrowcolor": "#2a3f5f",
           "arrowhead": 0,
           "arrowwidth": 1
          },
          "autotypenumbers": "strict",
          "coloraxis": {
           "colorbar": {
            "outlinewidth": 0,
            "ticks": ""
           }
          },
          "colorscale": {
           "diverging": [
            [
             0,
             "#8e0152"
            ],
            [
             0.1,
             "#c51b7d"
            ],
            [
             0.2,
             "#de77ae"
            ],
            [
             0.3,
             "#f1b6da"
            ],
            [
             0.4,
             "#fde0ef"
            ],
            [
             0.5,
             "#f7f7f7"
            ],
            [
             0.6,
             "#e6f5d0"
            ],
            [
             0.7,
             "#b8e186"
            ],
            [
             0.8,
             "#7fbc41"
            ],
            [
             0.9,
             "#4d9221"
            ],
            [
             1,
             "#276419"
            ]
           ],
           "sequential": [
            [
             0,
             "#0d0887"
            ],
            [
             0.1111111111111111,
             "#46039f"
            ],
            [
             0.2222222222222222,
             "#7201a8"
            ],
            [
             0.3333333333333333,
             "#9c179e"
            ],
            [
             0.4444444444444444,
             "#bd3786"
            ],
            [
             0.5555555555555556,
             "#d8576b"
            ],
            [
             0.6666666666666666,
             "#ed7953"
            ],
            [
             0.7777777777777778,
             "#fb9f3a"
            ],
            [
             0.8888888888888888,
             "#fdca26"
            ],
            [
             1,
             "#f0f921"
            ]
           ],
           "sequentialminus": [
            [
             0,
             "#0d0887"
            ],
            [
             0.1111111111111111,
             "#46039f"
            ],
            [
             0.2222222222222222,
             "#7201a8"
            ],
            [
             0.3333333333333333,
             "#9c179e"
            ],
            [
             0.4444444444444444,
             "#bd3786"
            ],
            [
             0.5555555555555556,
             "#d8576b"
            ],
            [
             0.6666666666666666,
             "#ed7953"
            ],
            [
             0.7777777777777778,
             "#fb9f3a"
            ],
            [
             0.8888888888888888,
             "#fdca26"
            ],
            [
             1,
             "#f0f921"
            ]
           ]
          },
          "colorway": [
           "#636efa",
           "#EF553B",
           "#00cc96",
           "#ab63fa",
           "#FFA15A",
           "#19d3f3",
           "#FF6692",
           "#B6E880",
           "#FF97FF",
           "#FECB52"
          ],
          "font": {
           "color": "#2a3f5f"
          },
          "geo": {
           "bgcolor": "white",
           "lakecolor": "white",
           "landcolor": "#E5ECF6",
           "showlakes": true,
           "showland": true,
           "subunitcolor": "white"
          },
          "hoverlabel": {
           "align": "left"
          },
          "hovermode": "closest",
          "mapbox": {
           "style": "light"
          },
          "paper_bgcolor": "white",
          "plot_bgcolor": "#E5ECF6",
          "polar": {
           "angularaxis": {
            "gridcolor": "white",
            "linecolor": "white",
            "ticks": ""
           },
           "bgcolor": "#E5ECF6",
           "radialaxis": {
            "gridcolor": "white",
            "linecolor": "white",
            "ticks": ""
           }
          },
          "scene": {
           "xaxis": {
            "backgroundcolor": "#E5ECF6",
            "gridcolor": "white",
            "gridwidth": 2,
            "linecolor": "white",
            "showbackground": true,
            "ticks": "",
            "zerolinecolor": "white"
           },
           "yaxis": {
            "backgroundcolor": "#E5ECF6",
            "gridcolor": "white",
            "gridwidth": 2,
            "linecolor": "white",
            "showbackground": true,
            "ticks": "",
            "zerolinecolor": "white"
           },
           "zaxis": {
            "backgroundcolor": "#E5ECF6",
            "gridcolor": "white",
            "gridwidth": 2,
            "linecolor": "white",
            "showbackground": true,
            "ticks": "",
            "zerolinecolor": "white"
           }
          },
          "shapedefaults": {
           "line": {
            "color": "#2a3f5f"
           }
          },
          "ternary": {
           "aaxis": {
            "gridcolor": "white",
            "linecolor": "white",
            "ticks": ""
           },
           "baxis": {
            "gridcolor": "white",
            "linecolor": "white",
            "ticks": ""
           },
           "bgcolor": "#E5ECF6",
           "caxis": {
            "gridcolor": "white",
            "linecolor": "white",
            "ticks": ""
           }
          },
          "title": {
           "x": 0.05
          },
          "xaxis": {
           "automargin": true,
           "gridcolor": "white",
           "linecolor": "white",
           "ticks": "",
           "title": {
            "standoff": 15
           },
           "zerolinecolor": "white",
           "zerolinewidth": 2
          },
          "yaxis": {
           "automargin": true,
           "gridcolor": "white",
           "linecolor": "white",
           "ticks": "",
           "title": {
            "standoff": 15
           },
           "zerolinecolor": "white",
           "zerolinewidth": 2
          }
         }
        },
        "title": {
         "text": "Per-entity precision for Presidio Analyzer"
        },
        "xaxis": {
         "anchor": "y",
         "domain": [
          0,
          1
         ],
         "linecolor": "#BCCCDC",
         "showgrid": false,
         "title": {
          "text": "PII entity"
         }
        },
        "yaxis": {
         "anchor": "x",
         "categoryorder": "total ascending",
         "domain": [
          0,
          1
         ],
         "linecolor": "#BCCCDC",
         "showgrid": false,
         "title": {
          "text": "precision"
         }
        }
       }
      }
     },
     "metadata": {},
     "output_type": "display_data"
    }
   ],
   "source": [
    "# Plot output\n",
    "plotter = Plotter(results=results, \n",
    "                  output_folder = \"plots\",\n",
    "                  model_name = evaluator.model.name, \n",
    "                  #save_as=\"png\",\n",
    "                  beta = 2) \n",
    "\n",
    "\n",
    "plotter.plot_scores()"
   ]
  },
  {
   "cell_type": "code",
   "execution_count": 35,
   "id": "84c79050-c4aa-487d-b4e3-ade06f0a6340",
   "metadata": {},
   "outputs": [
    {
     "name": "stdout",
     "output_type": "stream",
     "text": [
      "{'PII F': 0.6004782749675746,\n",
      " 'PII precision': 0.9436305732484076,\n",
      " 'PII recall': 0.5504365595392904}\n"
     ]
    }
   ],
   "source": [
    "pprint({\"PII F\":results.pii_f, \"PII recall\": results.pii_recall, \"PII precision\": results.pii_precision})"
   ]
  },
  {
   "cell_type": "markdown",
   "id": "070f8287",
   "metadata": {},
   "source": [
    "## 8. Error analysis\n",
    "\n",
    "Now let's look into results to understand what's behind the metrics we're getting.\n",
    "Note that evaluation is never perfect. Some things to consider:\n",
    "1. There's often a mismatch between the annotated span and the predicted span, which isn't necessarily a mistake. For example: `<Southern France>` compared with `Southern <France>`. In the second text, the word `Southern` was not annotated/predicted as part of the entity, but that's not necessarily an error.\n",
    "2. Token based evaluation (which is used here) counts the number of true positive / false positive / false negative tokens. Some entities might be broken into more tokens than others. For example, the phone number `222-444-1234` could be broken into five different tokens, whereas `Krishna` would be broken into one token, resulting in phone numbers having more influence on metrics than names.\n",
    "3. The synthetic dataset used here isn't representative of a real dataset. Consider using more realistic datasets for evaluation"
   ]
  },
  {
   "cell_type": "code",
   "execution_count": 36,
   "id": "cfe3b38d440148cf",
   "metadata": {
    "ExecuteTime": {
     "end_time": "2024-09-19T18:34:25.363401Z",
     "start_time": "2024-09-19T18:34:24.800792Z"
    }
   },
   "outputs": [
    {
     "data": {
      "application/vnd.plotly.v1+json": {
       "config": {
        "plotlyServerURL": "https://plot.ly"
       },
       "data": [
        {
         "coloraxis": "coloraxis",
         "hovertemplate": "Predicted: %{x}<br>Actual: %{y}<br>Count: %{z}<extra></extra>",
         "name": "0",
         "textfont": {
          "size": 10
         },
         "texttemplate": "%{z}",
         "type": "heatmap",
         "x": [
          "CREDIT_CARD",
          "DATE_TIME",
          "EMAIL_ADDRESS",
          "IBAN_CODE",
          "IN_AADHAAR",
          "IP_ADDRESS",
          "LOCATION",
          "NRP",
          "ORGANIZATION",
          "PERSON",
          "PHONE_NUMBER",
          "URL",
          "US_DRIVER_LICENSE",
          "US_SSN",
          "O",
          "Total"
         ],
         "xaxis": "x",
         "y": [
          "CREDIT_CARD",
          "DATE_TIME",
          "EMAIL_ADDRESS",
          "IBAN_CODE",
          "IN_AADHAAR",
          "IP_ADDRESS",
          "LOCATION",
          "NRP",
          "ORGANIZATION",
          "PERSON",
          "PHONE_NUMBER",
          "URL",
          "US_DRIVER_LICENSE",
          "US_SSN",
          "O",
          "Total"
         ],
         "yaxis": "y",
         "z": [
          [
           105,
           0,
           0,
           0,
           1,
           0,
           0,
           0,
           0,
           1,
           1,
           0,
           0,
           0,
           28,
           136
          ],
          [
           0,
           196,
           0,
           0,
           0,
           0,
           0,
           0,
           0,
           4,
           0,
           0,
           0,
           0,
           19,
           219
          ],
          [
           0,
           0,
           49,
           0,
           0,
           0,
           0,
           0,
           0,
           0,
           0,
           0,
           0,
           0,
           0,
           49
          ],
          [
           0,
           0,
           0,
           21,
           0,
           0,
           0,
           0,
           0,
           0,
           0,
           0,
           0,
           0,
           0,
           21
          ],
          [
           0,
           0,
           0,
           0,
           0,
           0,
           0,
           0,
           0,
           0,
           0,
           0,
           0,
           0,
           0,
           0
          ],
          [
           0,
           1,
           0,
           0,
           0,
           19,
           0,
           1,
           0,
           0,
           0,
           0,
           0,
           0,
           0,
           21
          ],
          [
           0,
           55,
           0,
           0,
           0,
           0,
           570,
           19,
           0,
           285,
           6,
           0,
           0,
           0,
           1713,
           2648
          ],
          [
           0,
           0,
           0,
           0,
           0,
           0,
           1,
           38,
           0,
           4,
           0,
           0,
           0,
           0,
           12,
           55
          ],
          [
           0,
           0,
           0,
           0,
           0,
           0,
           18,
           5,
           0,
           59,
           0,
           0,
           0,
           0,
           341,
           423
          ],
          [
           0,
           0,
           0,
           0,
           0,
           0,
           11,
           2,
           0,
           1168,
           0,
           0,
           0,
           0,
           184,
           1365
          ],
          [
           0,
           11,
           0,
           0,
           0,
           0,
           1,
           0,
           0,
           0,
           187,
           0,
           0,
           0,
           123,
           322
          ],
          [
           0,
           0,
           0,
           0,
           0,
           0,
           0,
           0,
           0,
           1,
           0,
           36,
           0,
           0,
           0,
           37
          ],
          [
           0,
           1,
           0,
           0,
           0,
           0,
           0,
           0,
           0,
           0,
           3,
           0,
           3,
           0,
           0,
           7
          ],
          [
           0,
           0,
           0,
           0,
           0,
           0,
           0,
           0,
           0,
           0,
           0,
           0,
           0,
           80,
           0,
           80
          ],
          [
           0,
           106,
           0,
           0,
           0,
           0,
           12,
           10,
           0,
           49,
           0,
           0,
           0,
           0,
           19197,
           19374
          ],
          [
           105,
           370,
           49,
           21,
           1,
           19,
           613,
           75,
           0,
           1571,
           197,
           36,
           3,
           80,
           21617,
           24757
          ]
         ]
        }
       ],
       "layout": {
        "coloraxis": {
         "colorbar": {
          "title": {
           "text": "Count"
          }
         },
         "colorscale": [
          [
           0,
           "rgb(247,251,255)"
          ],
          [
           0.125,
           "rgb(222,235,247)"
          ],
          [
           0.25,
           "rgb(198,219,239)"
          ],
          [
           0.375,
           "rgb(158,202,225)"
          ],
          [
           0.5,
           "rgb(107,174,214)"
          ],
          [
           0.625,
           "rgb(66,146,198)"
          ],
          [
           0.75,
           "rgb(33,113,181)"
          ],
          [
           0.875,
           "rgb(8,81,156)"
          ],
          [
           1,
           "rgb(8,48,107)"
          ]
         ]
        },
        "height": 800,
        "template": {
         "data": {
          "bar": [
           {
            "error_x": {
             "color": "#2a3f5f"
            },
            "error_y": {
             "color": "#2a3f5f"
            },
            "marker": {
             "line": {
              "color": "#E5ECF6",
              "width": 0.5
             },
             "pattern": {
              "fillmode": "overlay",
              "size": 10,
              "solidity": 0.2
             }
            },
            "type": "bar"
           }
          ],
          "barpolar": [
           {
            "marker": {
             "line": {
              "color": "#E5ECF6",
              "width": 0.5
             },
             "pattern": {
              "fillmode": "overlay",
              "size": 10,
              "solidity": 0.2
             }
            },
            "type": "barpolar"
           }
          ],
          "carpet": [
           {
            "aaxis": {
             "endlinecolor": "#2a3f5f",
             "gridcolor": "white",
             "linecolor": "white",
             "minorgridcolor": "white",
             "startlinecolor": "#2a3f5f"
            },
            "baxis": {
             "endlinecolor": "#2a3f5f",
             "gridcolor": "white",
             "linecolor": "white",
             "minorgridcolor": "white",
             "startlinecolor": "#2a3f5f"
            },
            "type": "carpet"
           }
          ],
          "choropleth": [
           {
            "colorbar": {
             "outlinewidth": 0,
             "ticks": ""
            },
            "type": "choropleth"
           }
          ],
          "contour": [
           {
            "colorbar": {
             "outlinewidth": 0,
             "ticks": ""
            },
            "colorscale": [
             [
              0,
              "#0d0887"
             ],
             [
              0.1111111111111111,
              "#46039f"
             ],
             [
              0.2222222222222222,
              "#7201a8"
             ],
             [
              0.3333333333333333,
              "#9c179e"
             ],
             [
              0.4444444444444444,
              "#bd3786"
             ],
             [
              0.5555555555555556,
              "#d8576b"
             ],
             [
              0.6666666666666666,
              "#ed7953"
             ],
             [
              0.7777777777777778,
              "#fb9f3a"
             ],
             [
              0.8888888888888888,
              "#fdca26"
             ],
             [
              1,
              "#f0f921"
             ]
            ],
            "type": "contour"
           }
          ],
          "contourcarpet": [
           {
            "colorbar": {
             "outlinewidth": 0,
             "ticks": ""
            },
            "type": "contourcarpet"
           }
          ],
          "heatmap": [
           {
            "colorbar": {
             "outlinewidth": 0,
             "ticks": ""
            },
            "colorscale": [
             [
              0,
              "#0d0887"
             ],
             [
              0.1111111111111111,
              "#46039f"
             ],
             [
              0.2222222222222222,
              "#7201a8"
             ],
             [
              0.3333333333333333,
              "#9c179e"
             ],
             [
              0.4444444444444444,
              "#bd3786"
             ],
             [
              0.5555555555555556,
              "#d8576b"
             ],
             [
              0.6666666666666666,
              "#ed7953"
             ],
             [
              0.7777777777777778,
              "#fb9f3a"
             ],
             [
              0.8888888888888888,
              "#fdca26"
             ],
             [
              1,
              "#f0f921"
             ]
            ],
            "type": "heatmap"
           }
          ],
          "heatmapgl": [
           {
            "colorbar": {
             "outlinewidth": 0,
             "ticks": ""
            },
            "colorscale": [
             [
              0,
              "#0d0887"
             ],
             [
              0.1111111111111111,
              "#46039f"
             ],
             [
              0.2222222222222222,
              "#7201a8"
             ],
             [
              0.3333333333333333,
              "#9c179e"
             ],
             [
              0.4444444444444444,
              "#bd3786"
             ],
             [
              0.5555555555555556,
              "#d8576b"
             ],
             [
              0.6666666666666666,
              "#ed7953"
             ],
             [
              0.7777777777777778,
              "#fb9f3a"
             ],
             [
              0.8888888888888888,
              "#fdca26"
             ],
             [
              1,
              "#f0f921"
             ]
            ],
            "type": "heatmapgl"
           }
          ],
          "histogram": [
           {
            "marker": {
             "pattern": {
              "fillmode": "overlay",
              "size": 10,
              "solidity": 0.2
             }
            },
            "type": "histogram"
           }
          ],
          "histogram2d": [
           {
            "colorbar": {
             "outlinewidth": 0,
             "ticks": ""
            },
            "colorscale": [
             [
              0,
              "#0d0887"
             ],
             [
              0.1111111111111111,
              "#46039f"
             ],
             [
              0.2222222222222222,
              "#7201a8"
             ],
             [
              0.3333333333333333,
              "#9c179e"
             ],
             [
              0.4444444444444444,
              "#bd3786"
             ],
             [
              0.5555555555555556,
              "#d8576b"
             ],
             [
              0.6666666666666666,
              "#ed7953"
             ],
             [
              0.7777777777777778,
              "#fb9f3a"
             ],
             [
              0.8888888888888888,
              "#fdca26"
             ],
             [
              1,
              "#f0f921"
             ]
            ],
            "type": "histogram2d"
           }
          ],
          "histogram2dcontour": [
           {
            "colorbar": {
             "outlinewidth": 0,
             "ticks": ""
            },
            "colorscale": [
             [
              0,
              "#0d0887"
             ],
             [
              0.1111111111111111,
              "#46039f"
             ],
             [
              0.2222222222222222,
              "#7201a8"
             ],
             [
              0.3333333333333333,
              "#9c179e"
             ],
             [
              0.4444444444444444,
              "#bd3786"
             ],
             [
              0.5555555555555556,
              "#d8576b"
             ],
             [
              0.6666666666666666,
              "#ed7953"
             ],
             [
              0.7777777777777778,
              "#fb9f3a"
             ],
             [
              0.8888888888888888,
              "#fdca26"
             ],
             [
              1,
              "#f0f921"
             ]
            ],
            "type": "histogram2dcontour"
           }
          ],
          "mesh3d": [
           {
            "colorbar": {
             "outlinewidth": 0,
             "ticks": ""
            },
            "type": "mesh3d"
           }
          ],
          "parcoords": [
           {
            "line": {
             "colorbar": {
              "outlinewidth": 0,
              "ticks": ""
             }
            },
            "type": "parcoords"
           }
          ],
          "pie": [
           {
            "automargin": true,
            "type": "pie"
           }
          ],
          "scatter": [
           {
            "fillpattern": {
             "fillmode": "overlay",
             "size": 10,
             "solidity": 0.2
            },
            "type": "scatter"
           }
          ],
          "scatter3d": [
           {
            "line": {
             "colorbar": {
              "outlinewidth": 0,
              "ticks": ""
             }
            },
            "marker": {
             "colorbar": {
              "outlinewidth": 0,
              "ticks": ""
             }
            },
            "type": "scatter3d"
           }
          ],
          "scattercarpet": [
           {
            "marker": {
             "colorbar": {
              "outlinewidth": 0,
              "ticks": ""
             }
            },
            "type": "scattercarpet"
           }
          ],
          "scattergeo": [
           {
            "marker": {
             "colorbar": {
              "outlinewidth": 0,
              "ticks": ""
             }
            },
            "type": "scattergeo"
           }
          ],
          "scattergl": [
           {
            "marker": {
             "colorbar": {
              "outlinewidth": 0,
              "ticks": ""
             }
            },
            "type": "scattergl"
           }
          ],
          "scattermapbox": [
           {
            "marker": {
             "colorbar": {
              "outlinewidth": 0,
              "ticks": ""
             }
            },
            "type": "scattermapbox"
           }
          ],
          "scatterpolar": [
           {
            "marker": {
             "colorbar": {
              "outlinewidth": 0,
              "ticks": ""
             }
            },
            "type": "scatterpolar"
           }
          ],
          "scatterpolargl": [
           {
            "marker": {
             "colorbar": {
              "outlinewidth": 0,
              "ticks": ""
             }
            },
            "type": "scatterpolargl"
           }
          ],
          "scatterternary": [
           {
            "marker": {
             "colorbar": {
              "outlinewidth": 0,
              "ticks": ""
             }
            },
            "type": "scatterternary"
           }
          ],
          "surface": [
           {
            "colorbar": {
             "outlinewidth": 0,
             "ticks": ""
            },
            "colorscale": [
             [
              0,
              "#0d0887"
             ],
             [
              0.1111111111111111,
              "#46039f"
             ],
             [
              0.2222222222222222,
              "#7201a8"
             ],
             [
              0.3333333333333333,
              "#9c179e"
             ],
             [
              0.4444444444444444,
              "#bd3786"
             ],
             [
              0.5555555555555556,
              "#d8576b"
             ],
             [
              0.6666666666666666,
              "#ed7953"
             ],
             [
              0.7777777777777778,
              "#fb9f3a"
             ],
             [
              0.8888888888888888,
              "#fdca26"
             ],
             [
              1,
              "#f0f921"
             ]
            ],
            "type": "surface"
           }
          ],
          "table": [
           {
            "cells": {
             "fill": {
              "color": "#EBF0F8"
             },
             "line": {
              "color": "white"
             }
            },
            "header": {
             "fill": {
              "color": "#C8D4E3"
             },
             "line": {
              "color": "white"
             }
            },
            "type": "table"
           }
          ]
         },
         "layout": {
          "annotationdefaults": {
           "arrowcolor": "#2a3f5f",
           "arrowhead": 0,
           "arrowwidth": 1
          },
          "autotypenumbers": "strict",
          "coloraxis": {
           "colorbar": {
            "outlinewidth": 0,
            "ticks": ""
           }
          },
          "colorscale": {
           "diverging": [
            [
             0,
             "#8e0152"
            ],
            [
             0.1,
             "#c51b7d"
            ],
            [
             0.2,
             "#de77ae"
            ],
            [
             0.3,
             "#f1b6da"
            ],
            [
             0.4,
             "#fde0ef"
            ],
            [
             0.5,
             "#f7f7f7"
            ],
            [
             0.6,
             "#e6f5d0"
            ],
            [
             0.7,
             "#b8e186"
            ],
            [
             0.8,
             "#7fbc41"
            ],
            [
             0.9,
             "#4d9221"
            ],
            [
             1,
             "#276419"
            ]
           ],
           "sequential": [
            [
             0,
             "#0d0887"
            ],
            [
             0.1111111111111111,
             "#46039f"
            ],
            [
             0.2222222222222222,
             "#7201a8"
            ],
            [
             0.3333333333333333,
             "#9c179e"
            ],
            [
             0.4444444444444444,
             "#bd3786"
            ],
            [
             0.5555555555555556,
             "#d8576b"
            ],
            [
             0.6666666666666666,
             "#ed7953"
            ],
            [
             0.7777777777777778,
             "#fb9f3a"
            ],
            [
             0.8888888888888888,
             "#fdca26"
            ],
            [
             1,
             "#f0f921"
            ]
           ],
           "sequentialminus": [
            [
             0,
             "#0d0887"
            ],
            [
             0.1111111111111111,
             "#46039f"
            ],
            [
             0.2222222222222222,
             "#7201a8"
            ],
            [
             0.3333333333333333,
             "#9c179e"
            ],
            [
             0.4444444444444444,
             "#bd3786"
            ],
            [
             0.5555555555555556,
             "#d8576b"
            ],
            [
             0.6666666666666666,
             "#ed7953"
            ],
            [
             0.7777777777777778,
             "#fb9f3a"
            ],
            [
             0.8888888888888888,
             "#fdca26"
            ],
            [
             1,
             "#f0f921"
            ]
           ]
          },
          "colorway": [
           "#636efa",
           "#EF553B",
           "#00cc96",
           "#ab63fa",
           "#FFA15A",
           "#19d3f3",
           "#FF6692",
           "#B6E880",
           "#FF97FF",
           "#FECB52"
          ],
          "font": {
           "color": "#2a3f5f"
          },
          "geo": {
           "bgcolor": "white",
           "lakecolor": "white",
           "landcolor": "#E5ECF6",
           "showlakes": true,
           "showland": true,
           "subunitcolor": "white"
          },
          "hoverlabel": {
           "align": "left"
          },
          "hovermode": "closest",
          "mapbox": {
           "style": "light"
          },
          "paper_bgcolor": "white",
          "plot_bgcolor": "#E5ECF6",
          "polar": {
           "angularaxis": {
            "gridcolor": "white",
            "linecolor": "white",
            "ticks": ""
           },
           "bgcolor": "#E5ECF6",
           "radialaxis": {
            "gridcolor": "white",
            "linecolor": "white",
            "ticks": ""
           }
          },
          "scene": {
           "xaxis": {
            "backgroundcolor": "#E5ECF6",
            "gridcolor": "white",
            "gridwidth": 2,
            "linecolor": "white",
            "showbackground": true,
            "ticks": "",
            "zerolinecolor": "white"
           },
           "yaxis": {
            "backgroundcolor": "#E5ECF6",
            "gridcolor": "white",
            "gridwidth": 2,
            "linecolor": "white",
            "showbackground": true,
            "ticks": "",
            "zerolinecolor": "white"
           },
           "zaxis": {
            "backgroundcolor": "#E5ECF6",
            "gridcolor": "white",
            "gridwidth": 2,
            "linecolor": "white",
            "showbackground": true,
            "ticks": "",
            "zerolinecolor": "white"
           }
          },
          "shapedefaults": {
           "line": {
            "color": "#2a3f5f"
           }
          },
          "ternary": {
           "aaxis": {
            "gridcolor": "white",
            "linecolor": "white",
            "ticks": ""
           },
           "baxis": {
            "gridcolor": "white",
            "linecolor": "white",
            "ticks": ""
           },
           "bgcolor": "#E5ECF6",
           "caxis": {
            "gridcolor": "white",
            "linecolor": "white",
            "ticks": ""
           }
          },
          "title": {
           "x": 0.05
          },
          "xaxis": {
           "automargin": true,
           "gridcolor": "white",
           "linecolor": "white",
           "ticks": "",
           "title": {
            "standoff": 15
           },
           "zerolinecolor": "white",
           "zerolinewidth": 2
          },
          "yaxis": {
           "automargin": true,
           "gridcolor": "white",
           "linecolor": "white",
           "ticks": "",
           "title": {
            "standoff": 15
           },
           "zerolinecolor": "white",
           "zerolinewidth": 2
          }
         }
        },
        "title": {
         "text": "Confusion Matrix for model Presidio Analyzer"
        },
        "width": 800,
        "xaxis": {
         "anchor": "y",
         "constrain": "domain",
         "domain": [
          0,
          1
         ],
         "scaleanchor": "y",
         "side": "top",
         "tickangle": 90,
         "title": {
          "standoff": 10,
          "text": "Predicted"
         }
        },
        "yaxis": {
         "anchor": "x",
         "autorange": "reversed",
         "constrain": "domain",
         "domain": [
          0,
          1
         ],
         "title": {
          "text": "Actual"
         }
        }
       }
      }
     },
     "metadata": {},
     "output_type": "display_data"
    }
   ],
   "source": [
    "plotter.plot_confusion_matrix(entities=entities, confmatrix=confmatrix)"
   ]
  },
  {
   "cell_type": "code",
   "execution_count": 37,
   "id": "a408f03e-a014-4631-923f-00cc9d6e08e7",
   "metadata": {},
   "outputs": [
    {
     "data": {
      "application/vnd.plotly.v1+json": {
       "config": {
        "plotlyServerURL": "https://plot.ly"
       },
       "data": [
        {
         "alignmentgroup": "True",
         "bingroup": "y",
         "cliponaxis": true,
         "histfunc": "sum",
         "hovertemplate": "annotation=URL<br>sum of 0=%{x}<br>token=%{y}<extra></extra>",
         "legendgroup": "URL",
         "marker": {
          "color": "#EF553B",
          "pattern": {
           "shape": ""
          }
         },
         "name": "URL",
         "offsetgroup": "URL",
         "orientation": "h",
         "showlegend": true,
         "textangle": 0,
         "textfont": {
          "size": 8
         },
         "textposition": "outside",
         "texttemplate": "%{value}",
         "type": "histogram",
         "x": [
          2
         ],
         "xaxis": "x",
         "y": [
          "http://www.TaxAids.ca/"
         ],
         "yaxis": "y"
        },
        {
         "alignmentgroup": "True",
         "bingroup": "y",
         "cliponaxis": true,
         "histfunc": "sum",
         "hovertemplate": "annotation=CREDIT_CARD<br>sum of 0=%{x}<br>token=%{y}<extra></extra>",
         "legendgroup": "CREDIT_CARD",
         "marker": {
          "color": "#00cc96",
          "pattern": {
           "shape": ""
          }
         },
         "name": "CREDIT_CARD",
         "offsetgroup": "CREDIT_CARD",
         "orientation": "h",
         "showlegend": true,
         "textangle": 0,
         "textfont": {
          "size": 8
         },
         "textposition": "outside",
         "texttemplate": "%{value}",
         "type": "histogram",
         "x": [
          2,
          2,
          2,
          1,
          1
         ],
         "xaxis": "x",
         "y": [
          "060426070011",
          "4652943034623769885",
          "676222165679",
          "213173282369527",
          "213175197796454"
         ],
         "yaxis": "y"
        },
        {
         "alignmentgroup": "True",
         "bingroup": "y",
         "cliponaxis": true,
         "histfunc": "sum",
         "hovertemplate": "annotation=NRP<br>sum of 0=%{x}<br>token=%{y}<extra></extra>",
         "legendgroup": "NRP",
         "marker": {
          "color": "#ab63fa",
          "pattern": {
           "shape": ""
          }
         },
         "name": "NRP",
         "offsetgroup": "NRP",
         "orientation": "h",
         "showlegend": true,
         "textangle": 0,
         "textfont": {
          "size": 8
         },
         "textposition": "outside",
         "texttemplate": "%{value}",
         "type": "histogram",
         "x": [
          4,
          3,
          2,
          2,
          2
         ],
         "xaxis": "x",
         "y": [
          "Greenlander",
          "English",
          "Brazil",
          "belizian",
          "bruneian"
         ],
         "yaxis": "y"
        },
        {
         "alignmentgroup": "True",
         "bingroup": "y",
         "cliponaxis": true,
         "histfunc": "sum",
         "hovertemplate": "annotation=PHONE_NUMBER<br>sum of 0=%{x}<br>token=%{y}<extra></extra>",
         "legendgroup": "PHONE_NUMBER",
         "marker": {
          "color": "#FFA15A",
          "pattern": {
           "shape": ""
          }
         },
         "name": "PHONE_NUMBER",
         "offsetgroup": "PHONE_NUMBER",
         "orientation": "h",
         "showlegend": true,
         "textangle": 0,
         "textfont": {
          "size": 8
         },
         "textposition": "outside",
         "texttemplate": "%{value}",
         "type": "histogram",
         "x": [
          4,
          3,
          3,
          3,
          2
         ],
         "xaxis": "x",
         "y": [
          "07",
          "99",
          "33",
          "+41",
          "+1"
         ],
         "yaxis": "y"
        },
        {
         "alignmentgroup": "True",
         "bingroup": "y",
         "cliponaxis": true,
         "histfunc": "sum",
         "hovertemplate": "annotation=DATE_TIME<br>sum of 0=%{x}<br>token=%{y}<extra></extra>",
         "legendgroup": "DATE_TIME",
         "marker": {
          "color": "#19d3f3",
          "pattern": {
           "shape": ""
          }
         },
         "name": "DATE_TIME",
         "offsetgroup": "DATE_TIME",
         "orientation": "h",
         "showlegend": true,
         "textangle": 0,
         "textfont": {
          "size": 8
         },
         "textposition": "outside",
         "texttemplate": "%{value}",
         "type": "histogram",
         "x": [
          2,
          2,
          2,
          2,
          1
         ],
         "xaxis": "x",
         "y": [
          "8/14/1996",
          "7/30/1964",
          "4/14/1962",
          "12/1/1981",
          "15:25:53"
         ],
         "yaxis": "y"
        },
        {
         "alignmentgroup": "True",
         "bingroup": "y",
         "cliponaxis": true,
         "histfunc": "sum",
         "hovertemplate": "annotation=LOCATION<br>sum of 0=%{x}<br>token=%{y}<extra></extra>",
         "legendgroup": "LOCATION",
         "marker": {
          "color": "#FF6692",
          "pattern": {
           "shape": ""
          }
         },
         "name": "LOCATION",
         "offsetgroup": "LOCATION",
         "orientation": "h",
         "showlegend": true,
         "textangle": 0,
         "textfont": {
          "size": 8
         },
         "textposition": "outside",
         "texttemplate": "%{value}",
         "type": "histogram",
         "x": [
          32,
          24,
          19,
          19,
          18
         ],
         "xaxis": "x",
         "y": [
          "nan",
          "Greenlander",
          "PSC",
          "APO",
          "Greek"
         ],
         "yaxis": "y"
        },
        {
         "alignmentgroup": "True",
         "bingroup": "y",
         "cliponaxis": true,
         "histfunc": "sum",
         "hovertemplate": "annotation=ORGANIZATION<br>sum of 0=%{x}<br>token=%{y}<extra></extra>",
         "legendgroup": "ORGANIZATION",
         "marker": {
          "color": "#B6E880",
          "pattern": {
           "shape": ""
          }
         },
         "name": "ORGANIZATION",
         "offsetgroup": "ORGANIZATION",
         "orientation": "h",
         "showlegend": true,
         "textangle": 0,
         "textfont": {
          "size": 8
         },
         "textposition": "outside",
         "texttemplate": "%{value}",
         "type": "histogram",
         "x": [
          6,
          6,
          5,
          5,
          4
         ],
         "xaxis": "x",
         "y": [
          "Group",
          "Armstrong",
          "Technologies",
          "Garcia",
          "Opencounter"
         ],
         "yaxis": "y"
        },
        {
         "alignmentgroup": "True",
         "bingroup": "y",
         "cliponaxis": true,
         "histfunc": "sum",
         "hovertemplate": "annotation=IP_ADDRESS<br>sum of 0=%{x}<br>token=%{y}<extra></extra>",
         "legendgroup": "IP_ADDRESS",
         "marker": {
          "color": "#FF97FF",
          "pattern": {
           "shape": ""
          }
         },
         "name": "IP_ADDRESS",
         "offsetgroup": "IP_ADDRESS",
         "orientation": "h",
         "showlegend": true,
         "textangle": 0,
         "textfont": {
          "size": 8
         },
         "textposition": "outside",
         "texttemplate": "%{value}",
         "type": "histogram",
         "x": [
          2,
          2
         ],
         "xaxis": "x",
         "y": [
          "179.177.214.91",
          "c669:2eb4"
         ],
         "yaxis": "y"
        },
        {
         "alignmentgroup": "True",
         "bingroup": "y",
         "cliponaxis": true,
         "histfunc": "sum",
         "hovertemplate": "annotation=US_DRIVER_LICENSE<br>sum of 0=%{x}<br>token=%{y}<extra></extra>",
         "legendgroup": "US_DRIVER_LICENSE",
         "marker": {
          "color": "#FECB52",
          "pattern": {
           "shape": ""
          }
         },
         "name": "US_DRIVER_LICENSE",
         "offsetgroup": "US_DRIVER_LICENSE",
         "orientation": "h",
         "showlegend": true,
         "textangle": 0,
         "textfont": {
          "size": 8
         },
         "textposition": "outside",
         "texttemplate": "%{value}",
         "type": "histogram",
         "x": [
          2,
          2,
          2,
          2
         ],
         "xaxis": "x",
         "y": [
          "1551",
          "2270",
          "5130634",
          "66"
         ],
         "yaxis": "y"
        },
        {
         "alignmentgroup": "True",
         "bingroup": "y",
         "cliponaxis": true,
         "histfunc": "sum",
         "hovertemplate": "annotation=PERSON<br>sum of 0=%{x}<br>token=%{y}<extra></extra>",
         "legendgroup": "PERSON",
         "marker": {
          "color": "#636efa",
          "pattern": {
           "shape": ""
          }
         },
         "name": "PERSON",
         "offsetgroup": "PERSON",
         "orientation": "h",
         "showlegend": true,
         "textangle": 0,
         "textfont": {
          "size": 8
         },
         "textposition": "outside",
         "texttemplate": "%{value}",
         "type": "histogram",
         "x": [
          3,
          2,
          2,
          2,
          2
         ],
         "xaxis": "x",
         "y": [
          "Hakuba",
          "Živković",
          "Verda",
          "cormac",
          "chad"
         ],
         "yaxis": "y"
        }
       ],
       "layout": {
        "barmode": "relative",
        "height": 2040,
        "legend": {
         "title": {
          "text": "annotation"
         },
         "tracegroupgap": 0
        },
        "plot_bgcolor": "#FFF",
        "template": {
         "data": {
          "bar": [
           {
            "error_x": {
             "color": "#2a3f5f"
            },
            "error_y": {
             "color": "#2a3f5f"
            },
            "marker": {
             "line": {
              "color": "#E5ECF6",
              "width": 0.5
             },
             "pattern": {
              "fillmode": "overlay",
              "size": 10,
              "solidity": 0.2
             }
            },
            "type": "bar"
           }
          ],
          "barpolar": [
           {
            "marker": {
             "line": {
              "color": "#E5ECF6",
              "width": 0.5
             },
             "pattern": {
              "fillmode": "overlay",
              "size": 10,
              "solidity": 0.2
             }
            },
            "type": "barpolar"
           }
          ],
          "carpet": [
           {
            "aaxis": {
             "endlinecolor": "#2a3f5f",
             "gridcolor": "white",
             "linecolor": "white",
             "minorgridcolor": "white",
             "startlinecolor": "#2a3f5f"
            },
            "baxis": {
             "endlinecolor": "#2a3f5f",
             "gridcolor": "white",
             "linecolor": "white",
             "minorgridcolor": "white",
             "startlinecolor": "#2a3f5f"
            },
            "type": "carpet"
           }
          ],
          "choropleth": [
           {
            "colorbar": {
             "outlinewidth": 0,
             "ticks": ""
            },
            "type": "choropleth"
           }
          ],
          "contour": [
           {
            "colorbar": {
             "outlinewidth": 0,
             "ticks": ""
            },
            "colorscale": [
             [
              0,
              "#0d0887"
             ],
             [
              0.1111111111111111,
              "#46039f"
             ],
             [
              0.2222222222222222,
              "#7201a8"
             ],
             [
              0.3333333333333333,
              "#9c179e"
             ],
             [
              0.4444444444444444,
              "#bd3786"
             ],
             [
              0.5555555555555556,
              "#d8576b"
             ],
             [
              0.6666666666666666,
              "#ed7953"
             ],
             [
              0.7777777777777778,
              "#fb9f3a"
             ],
             [
              0.8888888888888888,
              "#fdca26"
             ],
             [
              1,
              "#f0f921"
             ]
            ],
            "type": "contour"
           }
          ],
          "contourcarpet": [
           {
            "colorbar": {
             "outlinewidth": 0,
             "ticks": ""
            },
            "type": "contourcarpet"
           }
          ],
          "heatmap": [
           {
            "colorbar": {
             "outlinewidth": 0,
             "ticks": ""
            },
            "colorscale": [
             [
              0,
              "#0d0887"
             ],
             [
              0.1111111111111111,
              "#46039f"
             ],
             [
              0.2222222222222222,
              "#7201a8"
             ],
             [
              0.3333333333333333,
              "#9c179e"
             ],
             [
              0.4444444444444444,
              "#bd3786"
             ],
             [
              0.5555555555555556,
              "#d8576b"
             ],
             [
              0.6666666666666666,
              "#ed7953"
             ],
             [
              0.7777777777777778,
              "#fb9f3a"
             ],
             [
              0.8888888888888888,
              "#fdca26"
             ],
             [
              1,
              "#f0f921"
             ]
            ],
            "type": "heatmap"
           }
          ],
          "heatmapgl": [
           {
            "colorbar": {
             "outlinewidth": 0,
             "ticks": ""
            },
            "colorscale": [
             [
              0,
              "#0d0887"
             ],
             [
              0.1111111111111111,
              "#46039f"
             ],
             [
              0.2222222222222222,
              "#7201a8"
             ],
             [
              0.3333333333333333,
              "#9c179e"
             ],
             [
              0.4444444444444444,
              "#bd3786"
             ],
             [
              0.5555555555555556,
              "#d8576b"
             ],
             [
              0.6666666666666666,
              "#ed7953"
             ],
             [
              0.7777777777777778,
              "#fb9f3a"
             ],
             [
              0.8888888888888888,
              "#fdca26"
             ],
             [
              1,
              "#f0f921"
             ]
            ],
            "type": "heatmapgl"
           }
          ],
          "histogram": [
           {
            "marker": {
             "pattern": {
              "fillmode": "overlay",
              "size": 10,
              "solidity": 0.2
             }
            },
            "type": "histogram"
           }
          ],
          "histogram2d": [
           {
            "colorbar": {
             "outlinewidth": 0,
             "ticks": ""
            },
            "colorscale": [
             [
              0,
              "#0d0887"
             ],
             [
              0.1111111111111111,
              "#46039f"
             ],
             [
              0.2222222222222222,
              "#7201a8"
             ],
             [
              0.3333333333333333,
              "#9c179e"
             ],
             [
              0.4444444444444444,
              "#bd3786"
             ],
             [
              0.5555555555555556,
              "#d8576b"
             ],
             [
              0.6666666666666666,
              "#ed7953"
             ],
             [
              0.7777777777777778,
              "#fb9f3a"
             ],
             [
              0.8888888888888888,
              "#fdca26"
             ],
             [
              1,
              "#f0f921"
             ]
            ],
            "type": "histogram2d"
           }
          ],
          "histogram2dcontour": [
           {
            "colorbar": {
             "outlinewidth": 0,
             "ticks": ""
            },
            "colorscale": [
             [
              0,
              "#0d0887"
             ],
             [
              0.1111111111111111,
              "#46039f"
             ],
             [
              0.2222222222222222,
              "#7201a8"
             ],
             [
              0.3333333333333333,
              "#9c179e"
             ],
             [
              0.4444444444444444,
              "#bd3786"
             ],
             [
              0.5555555555555556,
              "#d8576b"
             ],
             [
              0.6666666666666666,
              "#ed7953"
             ],
             [
              0.7777777777777778,
              "#fb9f3a"
             ],
             [
              0.8888888888888888,
              "#fdca26"
             ],
             [
              1,
              "#f0f921"
             ]
            ],
            "type": "histogram2dcontour"
           }
          ],
          "mesh3d": [
           {
            "colorbar": {
             "outlinewidth": 0,
             "ticks": ""
            },
            "type": "mesh3d"
           }
          ],
          "parcoords": [
           {
            "line": {
             "colorbar": {
              "outlinewidth": 0,
              "ticks": ""
             }
            },
            "type": "parcoords"
           }
          ],
          "pie": [
           {
            "automargin": true,
            "type": "pie"
           }
          ],
          "scatter": [
           {
            "fillpattern": {
             "fillmode": "overlay",
             "size": 10,
             "solidity": 0.2
            },
            "type": "scatter"
           }
          ],
          "scatter3d": [
           {
            "line": {
             "colorbar": {
              "outlinewidth": 0,
              "ticks": ""
             }
            },
            "marker": {
             "colorbar": {
              "outlinewidth": 0,
              "ticks": ""
             }
            },
            "type": "scatter3d"
           }
          ],
          "scattercarpet": [
           {
            "marker": {
             "colorbar": {
              "outlinewidth": 0,
              "ticks": ""
             }
            },
            "type": "scattercarpet"
           }
          ],
          "scattergeo": [
           {
            "marker": {
             "colorbar": {
              "outlinewidth": 0,
              "ticks": ""
             }
            },
            "type": "scattergeo"
           }
          ],
          "scattergl": [
           {
            "marker": {
             "colorbar": {
              "outlinewidth": 0,
              "ticks": ""
             }
            },
            "type": "scattergl"
           }
          ],
          "scattermapbox": [
           {
            "marker": {
             "colorbar": {
              "outlinewidth": 0,
              "ticks": ""
             }
            },
            "type": "scattermapbox"
           }
          ],
          "scatterpolar": [
           {
            "marker": {
             "colorbar": {
              "outlinewidth": 0,
              "ticks": ""
             }
            },
            "type": "scatterpolar"
           }
          ],
          "scatterpolargl": [
           {
            "marker": {
             "colorbar": {
              "outlinewidth": 0,
              "ticks": ""
             }
            },
            "type": "scatterpolargl"
           }
          ],
          "scatterternary": [
           {
            "marker": {
             "colorbar": {
              "outlinewidth": 0,
              "ticks": ""
             }
            },
            "type": "scatterternary"
           }
          ],
          "surface": [
           {
            "colorbar": {
             "outlinewidth": 0,
             "ticks": ""
            },
            "colorscale": [
             [
              0,
              "#0d0887"
             ],
             [
              0.1111111111111111,
              "#46039f"
             ],
             [
              0.2222222222222222,
              "#7201a8"
             ],
             [
              0.3333333333333333,
              "#9c179e"
             ],
             [
              0.4444444444444444,
              "#bd3786"
             ],
             [
              0.5555555555555556,
              "#d8576b"
             ],
             [
              0.6666666666666666,
              "#ed7953"
             ],
             [
              0.7777777777777778,
              "#fb9f3a"
             ],
             [
              0.8888888888888888,
              "#fdca26"
             ],
             [
              1,
              "#f0f921"
             ]
            ],
            "type": "surface"
           }
          ],
          "table": [
           {
            "cells": {
             "fill": {
              "color": "#EBF0F8"
             },
             "line": {
              "color": "white"
             }
            },
            "header": {
             "fill": {
              "color": "#C8D4E3"
             },
             "line": {
              "color": "white"
             }
            },
            "type": "table"
           }
          ]
         },
         "layout": {
          "annotationdefaults": {
           "arrowcolor": "#2a3f5f",
           "arrowhead": 0,
           "arrowwidth": 1
          },
          "autotypenumbers": "strict",
          "coloraxis": {
           "colorbar": {
            "outlinewidth": 0,
            "ticks": ""
           }
          },
          "colorscale": {
           "diverging": [
            [
             0,
             "#8e0152"
            ],
            [
             0.1,
             "#c51b7d"
            ],
            [
             0.2,
             "#de77ae"
            ],
            [
             0.3,
             "#f1b6da"
            ],
            [
             0.4,
             "#fde0ef"
            ],
            [
             0.5,
             "#f7f7f7"
            ],
            [
             0.6,
             "#e6f5d0"
            ],
            [
             0.7,
             "#b8e186"
            ],
            [
             0.8,
             "#7fbc41"
            ],
            [
             0.9,
             "#4d9221"
            ],
            [
             1,
             "#276419"
            ]
           ],
           "sequential": [
            [
             0,
             "#0d0887"
            ],
            [
             0.1111111111111111,
             "#46039f"
            ],
            [
             0.2222222222222222,
             "#7201a8"
            ],
            [
             0.3333333333333333,
             "#9c179e"
            ],
            [
             0.4444444444444444,
             "#bd3786"
            ],
            [
             0.5555555555555556,
             "#d8576b"
            ],
            [
             0.6666666666666666,
             "#ed7953"
            ],
            [
             0.7777777777777778,
             "#fb9f3a"
            ],
            [
             0.8888888888888888,
             "#fdca26"
            ],
            [
             1,
             "#f0f921"
            ]
           ],
           "sequentialminus": [
            [
             0,
             "#0d0887"
            ],
            [
             0.1111111111111111,
             "#46039f"
            ],
            [
             0.2222222222222222,
             "#7201a8"
            ],
            [
             0.3333333333333333,
             "#9c179e"
            ],
            [
             0.4444444444444444,
             "#bd3786"
            ],
            [
             0.5555555555555556,
             "#d8576b"
            ],
            [
             0.6666666666666666,
             "#ed7953"
            ],
            [
             0.7777777777777778,
             "#fb9f3a"
            ],
            [
             0.8888888888888888,
             "#fdca26"
            ],
            [
             1,
             "#f0f921"
            ]
           ]
          },
          "colorway": [
           "#636efa",
           "#EF553B",
           "#00cc96",
           "#ab63fa",
           "#FFA15A",
           "#19d3f3",
           "#FF6692",
           "#B6E880",
           "#FF97FF",
           "#FECB52"
          ],
          "font": {
           "color": "#2a3f5f"
          },
          "geo": {
           "bgcolor": "white",
           "lakecolor": "white",
           "landcolor": "#E5ECF6",
           "showlakes": true,
           "showland": true,
           "subunitcolor": "white"
          },
          "hoverlabel": {
           "align": "left"
          },
          "hovermode": "closest",
          "mapbox": {
           "style": "light"
          },
          "paper_bgcolor": "white",
          "plot_bgcolor": "#E5ECF6",
          "polar": {
           "angularaxis": {
            "gridcolor": "white",
            "linecolor": "white",
            "ticks": ""
           },
           "bgcolor": "#E5ECF6",
           "radialaxis": {
            "gridcolor": "white",
            "linecolor": "white",
            "ticks": ""
           }
          },
          "scene": {
           "xaxis": {
            "backgroundcolor": "#E5ECF6",
            "gridcolor": "white",
            "gridwidth": 2,
            "linecolor": "white",
            "showbackground": true,
            "ticks": "",
            "zerolinecolor": "white"
           },
           "yaxis": {
            "backgroundcolor": "#E5ECF6",
            "gridcolor": "white",
            "gridwidth": 2,
            "linecolor": "white",
            "showbackground": true,
            "ticks": "",
            "zerolinecolor": "white"
           },
           "zaxis": {
            "backgroundcolor": "#E5ECF6",
            "gridcolor": "white",
            "gridwidth": 2,
            "linecolor": "white",
            "showbackground": true,
            "ticks": "",
            "zerolinecolor": "white"
           }
          },
          "shapedefaults": {
           "line": {
            "color": "#2a3f5f"
           }
          },
          "ternary": {
           "aaxis": {
            "gridcolor": "white",
            "linecolor": "white",
            "ticks": ""
           },
           "baxis": {
            "gridcolor": "white",
            "linecolor": "white",
            "ticks": ""
           },
           "bgcolor": "#E5ECF6",
           "caxis": {
            "gridcolor": "white",
            "linecolor": "white",
            "ticks": ""
           }
          },
          "title": {
           "x": 0.05
          },
          "xaxis": {
           "automargin": true,
           "gridcolor": "white",
           "linecolor": "white",
           "ticks": "",
           "title": {
            "standoff": 15
           },
           "zerolinecolor": "white",
           "zerolinewidth": 2
          },
          "yaxis": {
           "automargin": true,
           "gridcolor": "white",
           "linecolor": "white",
           "ticks": "",
           "title": {
            "standoff": 15
           },
           "zerolinecolor": "white",
           "zerolinewidth": 2
          }
         }
        },
        "title": {
         "text": "Most common false-negatives tokens"
        },
        "xaxis": {
         "anchor": "y",
         "domain": [
          0,
          1
         ],
         "linecolor": "#BCCCDC",
         "showgrid": false,
         "title": {
          "text": "Count"
         }
        },
        "yaxis": {
         "anchor": "x",
         "categoryorder": "total ascending",
         "domain": [
          0,
          1
         ],
         "linecolor": "#BCCCDC",
         "showgrid": false,
         "title": {
          "text": "Tokens"
         }
        }
       }
      }
     },
     "metadata": {},
     "output_type": "display_data"
    },
    {
     "data": {
      "application/vnd.plotly.v1+json": {
       "config": {
        "plotlyServerURL": "https://plot.ly"
       },
       "data": [
        {
         "alignmentgroup": "True",
         "bingroup": "y",
         "cliponaxis": true,
         "histfunc": "sum",
         "hovertemplate": "prediction=NRP<br>sum of 0=%{x}<br>token=%{y}<extra></extra>",
         "legendgroup": "NRP",
         "marker": {
          "color": "#636efa",
          "pattern": {
           "shape": ""
          }
         },
         "name": "NRP",
         "offsetgroup": "NRP",
         "orientation": "h",
         "showlegend": true,
         "textangle": 0,
         "textfont": {
          "size": 8
         },
         "textposition": "outside",
         "texttemplate": "%{value}",
         "type": "histogram",
         "x": [
          18,
          5,
          4,
          4,
          4
         ],
         "xaxis": "x",
         "y": [
          "Greek",
          "client_ip",
          "Pedestrians",
          "Czech",
          "Μεγάλη"
         ],
         "yaxis": "y"
        },
        {
         "alignmentgroup": "True",
         "bingroup": "y",
         "cliponaxis": true,
         "histfunc": "sum",
         "hovertemplate": "prediction=PHONE_NUMBER<br>sum of 0=%{x}<br>token=%{y}<extra></extra>",
         "legendgroup": "PHONE_NUMBER",
         "marker": {
          "color": "#EF553B",
          "pattern": {
           "shape": ""
          }
         },
         "name": "PHONE_NUMBER",
         "offsetgroup": "PHONE_NUMBER",
         "orientation": "h",
         "showlegend": true,
         "textangle": 0,
         "textfont": {
          "size": 8
         },
         "textposition": "outside",
         "texttemplate": "%{value}",
         "type": "histogram",
         "x": [
          2,
          2,
          2,
          2,
          2
         ],
         "xaxis": "x",
         "y": [
          "03262",
          "060426070011",
          "1551",
          "16469",
          "2270"
         ],
         "yaxis": "y"
        },
        {
         "alignmentgroup": "True",
         "bingroup": "y",
         "cliponaxis": true,
         "histfunc": "sum",
         "hovertemplate": "prediction=DATE_TIME<br>sum of 0=%{x}<br>token=%{y}<extra></extra>",
         "legendgroup": "DATE_TIME",
         "marker": {
          "color": "#00cc96",
          "pattern": {
           "shape": ""
          }
         },
         "name": "DATE_TIME",
         "offsetgroup": "DATE_TIME",
         "orientation": "h",
         "showlegend": true,
         "textangle": 0,
         "textfont": {
          "size": 8
         },
         "textposition": "outside",
         "texttemplate": "%{value}",
         "type": "histogram",
         "x": [
          9,
          8,
          8,
          8,
          7
         ],
         "xaxis": "x",
         "y": [
          "8",
          "Sunday",
          "Labor",
          "60s",
          "couple"
         ],
         "yaxis": "y"
        },
        {
         "alignmentgroup": "True",
         "bingroup": "y",
         "cliponaxis": true,
         "histfunc": "sum",
         "hovertemplate": "prediction=LOCATION<br>sum of 0=%{x}<br>token=%{y}<extra></extra>",
         "legendgroup": "LOCATION",
         "marker": {
          "color": "#ab63fa",
          "pattern": {
           "shape": ""
          }
         },
         "name": "LOCATION",
         "offsetgroup": "LOCATION",
         "orientation": "h",
         "showlegend": true,
         "textangle": 0,
         "textfont": {
          "size": 8
         },
         "textposition": "outside",
         "texttemplate": "%{value}",
         "type": "histogram",
         "x": [
          11,
          2,
          2,
          2,
          2
         ],
         "xaxis": "x",
         "y": [
          "Southern",
          "Kyruus",
          "Lima",
          "chad",
          "Verda"
         ],
         "yaxis": "y"
        },
        {
         "alignmentgroup": "True",
         "bingroup": "y",
         "cliponaxis": true,
         "histfunc": "sum",
         "hovertemplate": "prediction=PERSON<br>sum of 0=%{x}<br>token=%{y}<extra></extra>",
         "legendgroup": "PERSON",
         "marker": {
          "color": "#FFA15A",
          "pattern": {
           "shape": ""
          }
         },
         "name": "PERSON",
         "offsetgroup": "PERSON",
         "orientation": "h",
         "showlegend": true,
         "textangle": 0,
         "textfont": {
          "size": 8
         },
         "textposition": "outside",
         "texttemplate": "%{value}",
         "type": "histogram",
         "x": [
          26,
          20,
          14,
          11,
          11
         ],
         "xaxis": "x",
         "y": [
          "nan",
          "Greenlander",
          "Rua",
          "Pleasures",
          "Guilty"
         ],
         "yaxis": "y"
        },
        {
         "alignmentgroup": "True",
         "bingroup": "y",
         "cliponaxis": true,
         "histfunc": "sum",
         "hovertemplate": "prediction=IN_AADHAAR<br>sum of 0=%{x}<br>token=%{y}<extra></extra>",
         "legendgroup": "IN_AADHAAR",
         "marker": {
          "color": "#19d3f3",
          "pattern": {
           "shape": ""
          }
         },
         "name": "IN_AADHAAR",
         "offsetgroup": "IN_AADHAAR",
         "orientation": "h",
         "showlegend": true,
         "textangle": 0,
         "textfont": {
          "size": 8
         },
         "textposition": "outside",
         "texttemplate": "%{value}",
         "type": "histogram",
         "x": [
          2
         ],
         "xaxis": "x",
         "y": [
          "676222165679"
         ],
         "yaxis": "y"
        }
       ],
       "layout": {
        "barmode": "relative",
        "height": 780,
        "legend": {
         "title": {
          "text": "prediction"
         },
         "tracegroupgap": 0
        },
        "plot_bgcolor": "#FFF",
        "template": {
         "data": {
          "bar": [
           {
            "error_x": {
             "color": "#2a3f5f"
            },
            "error_y": {
             "color": "#2a3f5f"
            },
            "marker": {
             "line": {
              "color": "#E5ECF6",
              "width": 0.5
             },
             "pattern": {
              "fillmode": "overlay",
              "size": 10,
              "solidity": 0.2
             }
            },
            "type": "bar"
           }
          ],
          "barpolar": [
           {
            "marker": {
             "line": {
              "color": "#E5ECF6",
              "width": 0.5
             },
             "pattern": {
              "fillmode": "overlay",
              "size": 10,
              "solidity": 0.2
             }
            },
            "type": "barpolar"
           }
          ],
          "carpet": [
           {
            "aaxis": {
             "endlinecolor": "#2a3f5f",
             "gridcolor": "white",
             "linecolor": "white",
             "minorgridcolor": "white",
             "startlinecolor": "#2a3f5f"
            },
            "baxis": {
             "endlinecolor": "#2a3f5f",
             "gridcolor": "white",
             "linecolor": "white",
             "minorgridcolor": "white",
             "startlinecolor": "#2a3f5f"
            },
            "type": "carpet"
           }
          ],
          "choropleth": [
           {
            "colorbar": {
             "outlinewidth": 0,
             "ticks": ""
            },
            "type": "choropleth"
           }
          ],
          "contour": [
           {
            "colorbar": {
             "outlinewidth": 0,
             "ticks": ""
            },
            "colorscale": [
             [
              0,
              "#0d0887"
             ],
             [
              0.1111111111111111,
              "#46039f"
             ],
             [
              0.2222222222222222,
              "#7201a8"
             ],
             [
              0.3333333333333333,
              "#9c179e"
             ],
             [
              0.4444444444444444,
              "#bd3786"
             ],
             [
              0.5555555555555556,
              "#d8576b"
             ],
             [
              0.6666666666666666,
              "#ed7953"
             ],
             [
              0.7777777777777778,
              "#fb9f3a"
             ],
             [
              0.8888888888888888,
              "#fdca26"
             ],
             [
              1,
              "#f0f921"
             ]
            ],
            "type": "contour"
           }
          ],
          "contourcarpet": [
           {
            "colorbar": {
             "outlinewidth": 0,
             "ticks": ""
            },
            "type": "contourcarpet"
           }
          ],
          "heatmap": [
           {
            "colorbar": {
             "outlinewidth": 0,
             "ticks": ""
            },
            "colorscale": [
             [
              0,
              "#0d0887"
             ],
             [
              0.1111111111111111,
              "#46039f"
             ],
             [
              0.2222222222222222,
              "#7201a8"
             ],
             [
              0.3333333333333333,
              "#9c179e"
             ],
             [
              0.4444444444444444,
              "#bd3786"
             ],
             [
              0.5555555555555556,
              "#d8576b"
             ],
             [
              0.6666666666666666,
              "#ed7953"
             ],
             [
              0.7777777777777778,
              "#fb9f3a"
             ],
             [
              0.8888888888888888,
              "#fdca26"
             ],
             [
              1,
              "#f0f921"
             ]
            ],
            "type": "heatmap"
           }
          ],
          "heatmapgl": [
           {
            "colorbar": {
             "outlinewidth": 0,
             "ticks": ""
            },
            "colorscale": [
             [
              0,
              "#0d0887"
             ],
             [
              0.1111111111111111,
              "#46039f"
             ],
             [
              0.2222222222222222,
              "#7201a8"
             ],
             [
              0.3333333333333333,
              "#9c179e"
             ],
             [
              0.4444444444444444,
              "#bd3786"
             ],
             [
              0.5555555555555556,
              "#d8576b"
             ],
             [
              0.6666666666666666,
              "#ed7953"
             ],
             [
              0.7777777777777778,
              "#fb9f3a"
             ],
             [
              0.8888888888888888,
              "#fdca26"
             ],
             [
              1,
              "#f0f921"
             ]
            ],
            "type": "heatmapgl"
           }
          ],
          "histogram": [
           {
            "marker": {
             "pattern": {
              "fillmode": "overlay",
              "size": 10,
              "solidity": 0.2
             }
            },
            "type": "histogram"
           }
          ],
          "histogram2d": [
           {
            "colorbar": {
             "outlinewidth": 0,
             "ticks": ""
            },
            "colorscale": [
             [
              0,
              "#0d0887"
             ],
             [
              0.1111111111111111,
              "#46039f"
             ],
             [
              0.2222222222222222,
              "#7201a8"
             ],
             [
              0.3333333333333333,
              "#9c179e"
             ],
             [
              0.4444444444444444,
              "#bd3786"
             ],
             [
              0.5555555555555556,
              "#d8576b"
             ],
             [
              0.6666666666666666,
              "#ed7953"
             ],
             [
              0.7777777777777778,
              "#fb9f3a"
             ],
             [
              0.8888888888888888,
              "#fdca26"
             ],
             [
              1,
              "#f0f921"
             ]
            ],
            "type": "histogram2d"
           }
          ],
          "histogram2dcontour": [
           {
            "colorbar": {
             "outlinewidth": 0,
             "ticks": ""
            },
            "colorscale": [
             [
              0,
              "#0d0887"
             ],
             [
              0.1111111111111111,
              "#46039f"
             ],
             [
              0.2222222222222222,
              "#7201a8"
             ],
             [
              0.3333333333333333,
              "#9c179e"
             ],
             [
              0.4444444444444444,
              "#bd3786"
             ],
             [
              0.5555555555555556,
              "#d8576b"
             ],
             [
              0.6666666666666666,
              "#ed7953"
             ],
             [
              0.7777777777777778,
              "#fb9f3a"
             ],
             [
              0.8888888888888888,
              "#fdca26"
             ],
             [
              1,
              "#f0f921"
             ]
            ],
            "type": "histogram2dcontour"
           }
          ],
          "mesh3d": [
           {
            "colorbar": {
             "outlinewidth": 0,
             "ticks": ""
            },
            "type": "mesh3d"
           }
          ],
          "parcoords": [
           {
            "line": {
             "colorbar": {
              "outlinewidth": 0,
              "ticks": ""
             }
            },
            "type": "parcoords"
           }
          ],
          "pie": [
           {
            "automargin": true,
            "type": "pie"
           }
          ],
          "scatter": [
           {
            "fillpattern": {
             "fillmode": "overlay",
             "size": 10,
             "solidity": 0.2
            },
            "type": "scatter"
           }
          ],
          "scatter3d": [
           {
            "line": {
             "colorbar": {
              "outlinewidth": 0,
              "ticks": ""
             }
            },
            "marker": {
             "colorbar": {
              "outlinewidth": 0,
              "ticks": ""
             }
            },
            "type": "scatter3d"
           }
          ],
          "scattercarpet": [
           {
            "marker": {
             "colorbar": {
              "outlinewidth": 0,
              "ticks": ""
             }
            },
            "type": "scattercarpet"
           }
          ],
          "scattergeo": [
           {
            "marker": {
             "colorbar": {
              "outlinewidth": 0,
              "ticks": ""
             }
            },
            "type": "scattergeo"
           }
          ],
          "scattergl": [
           {
            "marker": {
             "colorbar": {
              "outlinewidth": 0,
              "ticks": ""
             }
            },
            "type": "scattergl"
           }
          ],
          "scattermapbox": [
           {
            "marker": {
             "colorbar": {
              "outlinewidth": 0,
              "ticks": ""
             }
            },
            "type": "scattermapbox"
           }
          ],
          "scatterpolar": [
           {
            "marker": {
             "colorbar": {
              "outlinewidth": 0,
              "ticks": ""
             }
            },
            "type": "scatterpolar"
           }
          ],
          "scatterpolargl": [
           {
            "marker": {
             "colorbar": {
              "outlinewidth": 0,
              "ticks": ""
             }
            },
            "type": "scatterpolargl"
           }
          ],
          "scatterternary": [
           {
            "marker": {
             "colorbar": {
              "outlinewidth": 0,
              "ticks": ""
             }
            },
            "type": "scatterternary"
           }
          ],
          "surface": [
           {
            "colorbar": {
             "outlinewidth": 0,
             "ticks": ""
            },
            "colorscale": [
             [
              0,
              "#0d0887"
             ],
             [
              0.1111111111111111,
              "#46039f"
             ],
             [
              0.2222222222222222,
              "#7201a8"
             ],
             [
              0.3333333333333333,
              "#9c179e"
             ],
             [
              0.4444444444444444,
              "#bd3786"
             ],
             [
              0.5555555555555556,
              "#d8576b"
             ],
             [
              0.6666666666666666,
              "#ed7953"
             ],
             [
              0.7777777777777778,
              "#fb9f3a"
             ],
             [
              0.8888888888888888,
              "#fdca26"
             ],
             [
              1,
              "#f0f921"
             ]
            ],
            "type": "surface"
           }
          ],
          "table": [
           {
            "cells": {
             "fill": {
              "color": "#EBF0F8"
             },
             "line": {
              "color": "white"
             }
            },
            "header": {
             "fill": {
              "color": "#C8D4E3"
             },
             "line": {
              "color": "white"
             }
            },
            "type": "table"
           }
          ]
         },
         "layout": {
          "annotationdefaults": {
           "arrowcolor": "#2a3f5f",
           "arrowhead": 0,
           "arrowwidth": 1
          },
          "autotypenumbers": "strict",
          "coloraxis": {
           "colorbar": {
            "outlinewidth": 0,
            "ticks": ""
           }
          },
          "colorscale": {
           "diverging": [
            [
             0,
             "#8e0152"
            ],
            [
             0.1,
             "#c51b7d"
            ],
            [
             0.2,
             "#de77ae"
            ],
            [
             0.3,
             "#f1b6da"
            ],
            [
             0.4,
             "#fde0ef"
            ],
            [
             0.5,
             "#f7f7f7"
            ],
            [
             0.6,
             "#e6f5d0"
            ],
            [
             0.7,
             "#b8e186"
            ],
            [
             0.8,
             "#7fbc41"
            ],
            [
             0.9,
             "#4d9221"
            ],
            [
             1,
             "#276419"
            ]
           ],
           "sequential": [
            [
             0,
             "#0d0887"
            ],
            [
             0.1111111111111111,
             "#46039f"
            ],
            [
             0.2222222222222222,
             "#7201a8"
            ],
            [
             0.3333333333333333,
             "#9c179e"
            ],
            [
             0.4444444444444444,
             "#bd3786"
            ],
            [
             0.5555555555555556,
             "#d8576b"
            ],
            [
             0.6666666666666666,
             "#ed7953"
            ],
            [
             0.7777777777777778,
             "#fb9f3a"
            ],
            [
             0.8888888888888888,
             "#fdca26"
            ],
            [
             1,
             "#f0f921"
            ]
           ],
           "sequentialminus": [
            [
             0,
             "#0d0887"
            ],
            [
             0.1111111111111111,
             "#46039f"
            ],
            [
             0.2222222222222222,
             "#7201a8"
            ],
            [
             0.3333333333333333,
             "#9c179e"
            ],
            [
             0.4444444444444444,
             "#bd3786"
            ],
            [
             0.5555555555555556,
             "#d8576b"
            ],
            [
             0.6666666666666666,
             "#ed7953"
            ],
            [
             0.7777777777777778,
             "#fb9f3a"
            ],
            [
             0.8888888888888888,
             "#fdca26"
            ],
            [
             1,
             "#f0f921"
            ]
           ]
          },
          "colorway": [
           "#636efa",
           "#EF553B",
           "#00cc96",
           "#ab63fa",
           "#FFA15A",
           "#19d3f3",
           "#FF6692",
           "#B6E880",
           "#FF97FF",
           "#FECB52"
          ],
          "font": {
           "color": "#2a3f5f"
          },
          "geo": {
           "bgcolor": "white",
           "lakecolor": "white",
           "landcolor": "#E5ECF6",
           "showlakes": true,
           "showland": true,
           "subunitcolor": "white"
          },
          "hoverlabel": {
           "align": "left"
          },
          "hovermode": "closest",
          "mapbox": {
           "style": "light"
          },
          "paper_bgcolor": "white",
          "plot_bgcolor": "#E5ECF6",
          "polar": {
           "angularaxis": {
            "gridcolor": "white",
            "linecolor": "white",
            "ticks": ""
           },
           "bgcolor": "#E5ECF6",
           "radialaxis": {
            "gridcolor": "white",
            "linecolor": "white",
            "ticks": ""
           }
          },
          "scene": {
           "xaxis": {
            "backgroundcolor": "#E5ECF6",
            "gridcolor": "white",
            "gridwidth": 2,
            "linecolor": "white",
            "showbackground": true,
            "ticks": "",
            "zerolinecolor": "white"
           },
           "yaxis": {
            "backgroundcolor": "#E5ECF6",
            "gridcolor": "white",
            "gridwidth": 2,
            "linecolor": "white",
            "showbackground": true,
            "ticks": "",
            "zerolinecolor": "white"
           },
           "zaxis": {
            "backgroundcolor": "#E5ECF6",
            "gridcolor": "white",
            "gridwidth": 2,
            "linecolor": "white",
            "showbackground": true,
            "ticks": "",
            "zerolinecolor": "white"
           }
          },
          "shapedefaults": {
           "line": {
            "color": "#2a3f5f"
           }
          },
          "ternary": {
           "aaxis": {
            "gridcolor": "white",
            "linecolor": "white",
            "ticks": ""
           },
           "baxis": {
            "gridcolor": "white",
            "linecolor": "white",
            "ticks": ""
           },
           "bgcolor": "#E5ECF6",
           "caxis": {
            "gridcolor": "white",
            "linecolor": "white",
            "ticks": ""
           }
          },
          "title": {
           "x": 0.05
          },
          "xaxis": {
           "automargin": true,
           "gridcolor": "white",
           "linecolor": "white",
           "ticks": "",
           "title": {
            "standoff": 15
           },
           "zerolinecolor": "white",
           "zerolinewidth": 2
          },
          "yaxis": {
           "automargin": true,
           "gridcolor": "white",
           "linecolor": "white",
           "ticks": "",
           "title": {
            "standoff": 15
           },
           "zerolinecolor": "white",
           "zerolinewidth": 2
          }
         }
        },
        "title": {
         "text": "Most common false-positives tokens"
        },
        "xaxis": {
         "anchor": "y",
         "domain": [
          0,
          1
         ],
         "linecolor": "#BCCCDC",
         "showgrid": false,
         "title": {
          "text": "Count"
         }
        },
        "yaxis": {
         "anchor": "x",
         "categoryorder": "total ascending",
         "domain": [
          0,
          1
         ],
         "linecolor": "#BCCCDC",
         "showgrid": false,
         "title": {
          "text": "Tokens"
         }
        }
       }
      }
     },
     "metadata": {},
     "output_type": "display_data"
    }
   ],
   "source": [
    "plotter.plot_most_common_tokens()"
   ]
  },
  {
   "cell_type": "markdown",
   "id": "819eb905",
   "metadata": {},
   "source": [
    "### 7a. False positives\n",
    "#### Most common false positive tokens:"
   ]
  },
  {
   "cell_type": "code",
   "execution_count": 38,
   "id": "640037af",
   "metadata": {
    "ExecuteTime": {
     "end_time": "2024-09-19T18:14:13.476011Z",
     "start_time": "2024-09-19T18:14:13.408070Z"
    }
   },
   "outputs": [
    {
     "name": "stdout",
     "output_type": "stream",
     "text": [
      "Most common false positive tokens:\n",
      "[('nan', 13),\n",
      " ('Southern', 12),\n",
      " ('Guilty', 11),\n",
      " ('Pleasures', 11),\n",
      " ('Greenlander', 10),\n",
      " ('8', 9),\n",
      " ('Greek', 9),\n",
      " ('60s', 8),\n",
      " ('Sunday', 8),\n",
      " ('Labor', 8)]\n",
      "---------------\n",
      "Example sentence with each FP token:\n",
      "\t- Please update the billing address with 27534 Þorsteinsgata 63\n",
      "MOSS\n",
      ", nan\n",
      " 51971 for this card: 4119268469462942 (`nan` pred as PERSON)\n",
      "\t- The Exversion Orchestra was founded in 1977. Since then, it has grown from a volunteer community orchestra to a fully professional orchestra serving Southern Tunisia (`Southern` pred as LOCATION)\n",
      "\t- For my take on Mrs. Labrie, see Guilty Pleasures: 5 Musicians Of The 70s You're Supposed To Hate (But Secretly Love) (`Guilty` pred as PERSON)\n",
      "\t- For my take on Mrs. Labrie, see Guilty Pleasures: 5 Musicians Of The 70s You're Supposed To Hate (But Secretly Love) (`Pleasures` pred as PERSON)\n",
      "\t- Satu Elomo\n",
      "\n",
      "45818 P.O. Box 242\n",
      " Suite 787\n",
      " Kangerlussuaq\n",
      "\n",
      " Greenlander 54005 (`Greenlander` pred as PERSON)\n",
      "\t- Energetic and driven salesperson with 8+ years of professional experience in inbound and outbound sales. Awarded Salesperson of the Month three times. Helped increase inbound sales by 16% within the first year of employment. Looking to support Factset in Bjert 6091 in its mission to become a market-leading solution. (`8` pred as DATE_TIME)\n",
      "\t- The address of Evidera is 928 Λ. Αλεξάνδρας 14\n",
      " Suite 112\n",
      " ΧΑΝ∆ΡΙΑ\n",
      " Cyprus (Greek) 51034 (`Greek` pred as NRP)\n",
      "\t- \"The big three\" of The Big Three Killed My Baby are the car manufacturers that dominate the economy of the White Stripes' home city Villafranca del Cid: White, Willis and Hoffman, Lucid and Loveland Technologies. \"Don't feed me planned obsolescence,\" says Liisa Lepistö in an uncharacteristically political song, lamenting the demise of the unions in the 60s. (`60s` pred as DATE_TIME)\n",
      "\t- At my suggestion, one morning over breakfast, she agreed, and on the last Sunday before Labor Day we returned to Mill Village by helicopter. (`Sunday` pred as DATE_TIME)\n",
      "\t- At my suggestion, one morning over breakfast, she agreed, and on the last Sunday before Labor Day we returned to Mill Village by helicopter. (`Labor` pred as DATE_TIME)\n"
     ]
    },
    {
     "data": {
      "text/plain": [
       "[('nan', 13),\n",
       " ('Southern', 12),\n",
       " ('Guilty', 11),\n",
       " ('Pleasures', 11),\n",
       " ('Greenlander', 10),\n",
       " ('8', 9),\n",
       " ('Greek', 9),\n",
       " ('60s', 8),\n",
       " ('Sunday', 8),\n",
       " ('Labor', 8)]"
      ]
     },
     "execution_count": 38,
     "metadata": {},
     "output_type": "execute_result"
    }
   ],
   "source": [
    "ModelError.most_common_fp_tokens(results.model_errors)"
   ]
  },
  {
   "cell_type": "markdown",
   "id": "cc2057bb-0af7-4c28-8fa7-9dcf68d4436a",
   "metadata": {
    "ExecuteTime": {
     "end_time": "2024-09-19T18:14:13.562787Z",
     "start_time": "2024-09-19T18:14:13.501083Z"
    }
   },
   "source": [
    "#### More FP analysis"
   ]
  },
  {
   "cell_type": "code",
   "execution_count": 39,
   "id": "f2612275-830f-47ad-aa32-61879b79c57f",
   "metadata": {},
   "outputs": [
    {
     "data": {
      "text/html": [
       "<div>\n",
       "<style scoped>\n",
       "    .dataframe tbody tr th:only-of-type {\n",
       "        vertical-align: middle;\n",
       "    }\n",
       "\n",
       "    .dataframe tbody tr th {\n",
       "        vertical-align: top;\n",
       "    }\n",
       "\n",
       "    .dataframe thead th {\n",
       "        text-align: right;\n",
       "    }\n",
       "</style>\n",
       "<table border=\"1\" class=\"dataframe\">\n",
       "  <thead>\n",
       "    <tr style=\"text-align: right;\">\n",
       "      <th></th>\n",
       "      <th>full_text</th>\n",
       "      <th>token</th>\n",
       "      <th>annotation</th>\n",
       "      <th>prediction</th>\n",
       "    </tr>\n",
       "  </thead>\n",
       "  <tbody>\n",
       "    <tr>\n",
       "      <th>0</th>\n",
       "      <td>Krisztián Szöllösy listed his top 20 songs for Entertainment Weekly and had the balls to list this song at #15. (What did he put at #1 you ask? Answer:\"Tube Snake Boogie\" by Szabina J Gelencsér ג€“ go figure)</td>\n",
       "      <td>Answer:\"Tube</td>\n",
       "      <td>O</td>\n",
       "      <td>PERSON</td>\n",
       "    </tr>\n",
       "    <tr>\n",
       "      <th>1</th>\n",
       "      <td>Janka M. Szász\\n\\nNetwork and computer systems administrator\\n\\nPersonal Info:\\nPhone:\\n60-56-85-91\\n\\nE-mail:\\nSzaszJanka@cuvox.de\\n\\nWebsite:\\nhttps://www.UEarly.se/\\n\\nAddress:\\nBrucker Bundesstrasse 31 Zezig Streets\\n Suite 245\\n FÜRLING\\n Austria 25173.</td>\n",
       "      <td>Network</td>\n",
       "      <td>O</td>\n",
       "      <td>PERSON</td>\n",
       "    </tr>\n",
       "    <tr>\n",
       "      <th>2</th>\n",
       "      <td>James Talbot listed his top 20 songs for Entertainment Weekly and had the balls to list this song at #15. (What did he put at #1 you ask? Answer:\"Tube Snake Boogie\" by Natalie Åberg ג€“ go figure)</td>\n",
       "      <td>Answer:\"Tube</td>\n",
       "      <td>O</td>\n",
       "      <td>PERSON</td>\n",
       "    </tr>\n",
       "    <tr>\n",
       "      <th>3</th>\n",
       "      <td>For my take on Mrs. Labrie, see Guilty Pleasures: 5 Musicians Of The 70s You're Supposed To Hate (But Secretly Love)</td>\n",
       "      <td>Guilty</td>\n",
       "      <td>O</td>\n",
       "      <td>PERSON</td>\n",
       "    </tr>\n",
       "    <tr>\n",
       "      <th>4</th>\n",
       "      <td>For my take on Mrs. Labrie, see Guilty Pleasures: 5 Musicians Of The 70s You're Supposed To Hate (But Secretly Love)</td>\n",
       "      <td>Pleasures</td>\n",
       "      <td>O</td>\n",
       "      <td>PERSON</td>\n",
       "    </tr>\n",
       "    <tr>\n",
       "      <th>5</th>\n",
       "      <td>For my take on Mrs. Lennox, see Guilty Pleasures: 5 Musicians Of The 70s You're Supposed To Hate (But Secretly Love)</td>\n",
       "      <td>Guilty</td>\n",
       "      <td>O</td>\n",
       "      <td>PERSON</td>\n",
       "    </tr>\n",
       "    <tr>\n",
       "      <th>6</th>\n",
       "      <td>For my take on Mrs. Lennox, see Guilty Pleasures: 5 Musicians Of The 70s You're Supposed To Hate (But Secretly Love)</td>\n",
       "      <td>Pleasures</td>\n",
       "      <td>O</td>\n",
       "      <td>PERSON</td>\n",
       "    </tr>\n",
       "    <tr>\n",
       "      <th>7</th>\n",
       "      <td>My religion does not allow speaking to bots, they are evil and hacked by the Devil</td>\n",
       "      <td>Devil</td>\n",
       "      <td>O</td>\n",
       "      <td>PERSON</td>\n",
       "    </tr>\n",
       "    <tr>\n",
       "      <th>8</th>\n",
       "      <td>For my take on Mrs. Baker, see Guilty Pleasures: 5 Musicians Of The 70s You're Supposed To Hate (But Secretly Love)</td>\n",
       "      <td>Guilty</td>\n",
       "      <td>O</td>\n",
       "      <td>PERSON</td>\n",
       "    </tr>\n",
       "    <tr>\n",
       "      <th>9</th>\n",
       "      <td>For my take on Mrs. Baker, see Guilty Pleasures: 5 Musicians Of The 70s You're Supposed To Hate (But Secretly Love)</td>\n",
       "      <td>Pleasures</td>\n",
       "      <td>O</td>\n",
       "      <td>PERSON</td>\n",
       "    </tr>\n",
       "    <tr>\n",
       "      <th>10</th>\n",
       "      <td>naomi ryan\\nsewer pipe cleaner\\nhubbard, fox and gillespie\\n3747 3911 fourth avenue suite 112 calgary alberta</td>\n",
       "      <td>sewer</td>\n",
       "      <td>O</td>\n",
       "      <td>PERSON</td>\n",
       "    </tr>\n",
       "    <tr>\n",
       "      <th>11</th>\n",
       "      <td>This song by ex-Zombie Lundberg is a perfect example of why you shouldn't concentrate on the order of this list. An argument could be made that this should be at number one, and I wouldn't argue with it.</td>\n",
       "      <td>ex</td>\n",
       "      <td>O</td>\n",
       "      <td>PERSON</td>\n",
       "    </tr>\n",
       "    <tr>\n",
       "      <th>12</th>\n",
       "      <td>This song by ex-Zombie Lundberg is a perfect example of why you shouldn't concentrate on the order of this list. An argument could be made that this should be at number one, and I wouldn't argue with it.</td>\n",
       "      <td>Zombie</td>\n",
       "      <td>O</td>\n",
       "      <td>PERSON</td>\n",
       "    </tr>\n",
       "    <tr>\n",
       "      <th>13</th>\n",
       "      <td>For my take on Dr. Wells, see Guilty Pleasures: 5 Musicians Of The 70s You're Supposed To Hate (But Secretly Love)</td>\n",
       "      <td>Guilty</td>\n",
       "      <td>O</td>\n",
       "      <td>PERSON</td>\n",
       "    </tr>\n",
       "    <tr>\n",
       "      <th>14</th>\n",
       "      <td>For my take on Dr. Wells, see Guilty Pleasures: 5 Musicians Of The 70s You're Supposed To Hate (But Secretly Love)</td>\n",
       "      <td>Pleasures</td>\n",
       "      <td>O</td>\n",
       "      <td>PERSON</td>\n",
       "    </tr>\n",
       "    <tr>\n",
       "      <th>15</th>\n",
       "      <td>For my take on Mrs. Poissonnier, see Guilty Pleasures: 5 Musicians Of The 70s You're Supposed To Hate (But Secretly Love)</td>\n",
       "      <td>Guilty</td>\n",
       "      <td>O</td>\n",
       "      <td>PERSON</td>\n",
       "    </tr>\n",
       "    <tr>\n",
       "      <th>16</th>\n",
       "      <td>For my take on Mrs. Poissonnier, see Guilty Pleasures: 5 Musicians Of The 70s You're Supposed To Hate (But Secretly Love)</td>\n",
       "      <td>Pleasures</td>\n",
       "      <td>O</td>\n",
       "      <td>PERSON</td>\n",
       "    </tr>\n",
       "    <tr>\n",
       "      <th>17</th>\n",
       "      <td>For my take on Mrs. Karataev, see Guilty Pleasures: 5 Musicians Of The 70s You're Supposed To Hate (But Secretly Love)</td>\n",
       "      <td>Guilty</td>\n",
       "      <td>O</td>\n",
       "      <td>PERSON</td>\n",
       "    </tr>\n",
       "    <tr>\n",
       "      <th>18</th>\n",
       "      <td>For my take on Mrs. Karataev, see Guilty Pleasures: 5 Musicians Of The 70s You're Supposed To Hate (But Secretly Love)</td>\n",
       "      <td>Pleasures</td>\n",
       "      <td>O</td>\n",
       "      <td>PERSON</td>\n",
       "    </tr>\n",
       "    <tr>\n",
       "      <th>19</th>\n",
       "      <td>This song by ex-Zombie Ryhänen is a perfect example of why you shouldn't concentrate on the order of this list. An argument could be made that this should be at number one, and I wouldn't argue with it.</td>\n",
       "      <td>ex</td>\n",
       "      <td>O</td>\n",
       "      <td>PERSON</td>\n",
       "    </tr>\n",
       "  </tbody>\n",
       "</table>\n",
       "</div>"
      ],
      "text/plain": [
       "                                                                                                                                                                                                                                                             full_text  \\\n",
       "0                                                     Krisztián Szöllösy listed his top 20 songs for Entertainment Weekly and had the balls to list this song at #15. (What did he put at #1 you ask? Answer:\"Tube Snake Boogie\" by Szabina J Gelencsér ג€“ go figure)   \n",
       "1   Janka M. Szász\\n\\nNetwork and computer systems administrator\\n\\nPersonal Info:\\nPhone:\\n60-56-85-91\\n\\nE-mail:\\nSzaszJanka@cuvox.de\\n\\nWebsite:\\nhttps://www.UEarly.se/\\n\\nAddress:\\nBrucker Bundesstrasse 31 Zezig Streets\\n Suite 245\\n FÜRLING\\n Austria 25173.   \n",
       "2                                                                 James Talbot listed his top 20 songs for Entertainment Weekly and had the balls to list this song at #15. (What did he put at #1 you ask? Answer:\"Tube Snake Boogie\" by Natalie Åberg ג€“ go figure)   \n",
       "3                                                                                                                                                 For my take on Mrs. Labrie, see Guilty Pleasures: 5 Musicians Of The 70s You're Supposed To Hate (But Secretly Love)   \n",
       "4                                                                                                                                                 For my take on Mrs. Labrie, see Guilty Pleasures: 5 Musicians Of The 70s You're Supposed To Hate (But Secretly Love)   \n",
       "5                                                                                                                                                 For my take on Mrs. Lennox, see Guilty Pleasures: 5 Musicians Of The 70s You're Supposed To Hate (But Secretly Love)   \n",
       "6                                                                                                                                                 For my take on Mrs. Lennox, see Guilty Pleasures: 5 Musicians Of The 70s You're Supposed To Hate (But Secretly Love)   \n",
       "7                                                                                                                                                                                   My religion does not allow speaking to bots, they are evil and hacked by the Devil   \n",
       "8                                                                                                                                                  For my take on Mrs. Baker, see Guilty Pleasures: 5 Musicians Of The 70s You're Supposed To Hate (But Secretly Love)   \n",
       "9                                                                                                                                                  For my take on Mrs. Baker, see Guilty Pleasures: 5 Musicians Of The 70s You're Supposed To Hate (But Secretly Love)   \n",
       "10                                                                                                                                                       naomi ryan\\nsewer pipe cleaner\\nhubbard, fox and gillespie\\n3747 3911 fourth avenue suite 112 calgary alberta   \n",
       "11                                                         This song by ex-Zombie Lundberg is a perfect example of why you shouldn't concentrate on the order of this list. An argument could be made that this should be at number one, and I wouldn't argue with it.   \n",
       "12                                                         This song by ex-Zombie Lundberg is a perfect example of why you shouldn't concentrate on the order of this list. An argument could be made that this should be at number one, and I wouldn't argue with it.   \n",
       "13                                                                                                                                                  For my take on Dr. Wells, see Guilty Pleasures: 5 Musicians Of The 70s You're Supposed To Hate (But Secretly Love)   \n",
       "14                                                                                                                                                  For my take on Dr. Wells, see Guilty Pleasures: 5 Musicians Of The 70s You're Supposed To Hate (But Secretly Love)   \n",
       "15                                                                                                                                           For my take on Mrs. Poissonnier, see Guilty Pleasures: 5 Musicians Of The 70s You're Supposed To Hate (But Secretly Love)   \n",
       "16                                                                                                                                           For my take on Mrs. Poissonnier, see Guilty Pleasures: 5 Musicians Of The 70s You're Supposed To Hate (But Secretly Love)   \n",
       "17                                                                                                                                              For my take on Mrs. Karataev, see Guilty Pleasures: 5 Musicians Of The 70s You're Supposed To Hate (But Secretly Love)   \n",
       "18                                                                                                                                              For my take on Mrs. Karataev, see Guilty Pleasures: 5 Musicians Of The 70s You're Supposed To Hate (But Secretly Love)   \n",
       "19                                                          This song by ex-Zombie Ryhänen is a perfect example of why you shouldn't concentrate on the order of this list. An argument could be made that this should be at number one, and I wouldn't argue with it.   \n",
       "\n",
       "           token annotation prediction  \n",
       "0   Answer:\"Tube          O     PERSON  \n",
       "1        Network          O     PERSON  \n",
       "2   Answer:\"Tube          O     PERSON  \n",
       "3         Guilty          O     PERSON  \n",
       "4      Pleasures          O     PERSON  \n",
       "5         Guilty          O     PERSON  \n",
       "6      Pleasures          O     PERSON  \n",
       "7          Devil          O     PERSON  \n",
       "8         Guilty          O     PERSON  \n",
       "9      Pleasures          O     PERSON  \n",
       "10         sewer          O     PERSON  \n",
       "11            ex          O     PERSON  \n",
       "12        Zombie          O     PERSON  \n",
       "13        Guilty          O     PERSON  \n",
       "14     Pleasures          O     PERSON  \n",
       "15        Guilty          O     PERSON  \n",
       "16     Pleasures          O     PERSON  \n",
       "17        Guilty          O     PERSON  \n",
       "18     Pleasures          O     PERSON  \n",
       "19            ex          O     PERSON  "
      ]
     },
     "execution_count": 39,
     "metadata": {},
     "output_type": "execute_result"
    }
   ],
   "source": [
    "fps_df = ModelError.get_fps_dataframe(results.model_errors, entity=[\"PERSON\"])\n",
    "fps_df[[\"full_text\", \"token\", \"annotation\", \"prediction\"]].head(20)"
   ]
  },
  {
   "cell_type": "markdown",
   "id": "d0852513",
   "metadata": {},
   "source": [
    "### 7b. False negatives (FN)\n",
    "\n",
    "#### Most common false negative examples + a few samples with FN"
   ]
  },
  {
   "cell_type": "code",
   "execution_count": 40,
   "id": "afae40fc",
   "metadata": {
    "ExecuteTime": {
     "end_time": "2024-09-19T18:14:13.661044Z",
     "start_time": "2024-09-19T18:14:13.595728Z"
    }
   },
   "outputs": [
    {
     "name": "stdout",
     "output_type": "stream",
     "text": [
      "Most common false negative tokens:\n",
      "[('PSC', 19),\n",
      " ('APO', 19),\n",
      " ('nan', 19),\n",
      " ('Greenlander', 18),\n",
      " ('AA', 15),\n",
      " ('ul', 14),\n",
      " ('AP', 11),\n",
      " ('AE', 11),\n",
      " ('Rua', 10),\n",
      " ('DPO', 10),\n",
      " ('Greek', 9),\n",
      " ('Cite', 8),\n",
      " ('33', 8),\n",
      " ('FPO', 8),\n",
      " ('74', 6)]\n",
      "---------------\n",
      "Example sentence with each FN token:\n",
      "\t- The Avalara office is at PSC 0413, Box 8144\n",
      "APO AA 42323 (`PSC` annotated as LOCATION)\n",
      "\t- The Avalara office is at PSC 0413, Box 8144\n",
      "APO AA 42323 (`APO` annotated as LOCATION)\n",
      "\t- Billing address: Sophie Lang\n",
      "    3482 Via Franscini 71 Suite 838\n",
      "   Tujetsch\n",
      "    nan\n",
      "    7188 (`nan` annotated as LOCATION)\n",
      "\t- Marisa Bisliev\n",
      "\n",
      "583 Magrethevej 298\n",
      " Apt. 123\n",
      " Qasigiannguit\n",
      " Greenlander 07609 (`Greenlander` annotated as LOCATION)\n",
      "\t- The Avalara office is at PSC 0413, Box 8144\n",
      "APO AA 42323 (`AA` annotated as LOCATION)\n",
      "\t- Karin M. Beike\n",
      "Leasing consultant\n",
      "Fritz-Armstrong\n",
      "Đoko and ul. Miła 53 (`ul` annotated as LOCATION)\n",
      "\t- Hello I moved, please update my new address is PSC 6293, Box 8158\n",
      "APO AP 04336 (`AP` annotated as LOCATION)\n",
      "\t- The address of Civic Impulse LLC is PSC 4095, Box 8316\n",
      "APO AE 85103 (`AE` annotated as LOCATION)\n",
      "\t- Tomomi Nishiyama lives at 86036 Rua do Arenque 1634, Goiânia (`Rua` annotated as LOCATION)\n",
      "\t- Please return to Unit 4719 Box 7394\n",
      "DPO AP 70942 in case of an issue. (`DPO` annotated as LOCATION)\n",
      "\t- The address of Evidera is 928 Λ. Αλεξάνδρας 14\n",
      " Suite 112\n",
      " ΧΑΝ∆ΡΙΑ\n",
      " Cyprus (Greek) 51034 (`Greek` annotated as LOCATION)\n",
      "\t- Caitlin Lennox lives at 846 31 Rue Al Imam Al Bakri, Cite Merzgui (`Cite` annotated as LOCATION)\n",
      "\t- The letter arrived at 760 Passauer Strasse 33, Cite Guedouala, Tunisia last night. (`33` annotated as LOCATION)\n",
      "\t- I need to add my addresses, here they are: 638 2229 Wolmarans St\n",
      "Caxias do Sul, RS 24893, and USNV Botolen\n",
      "FPO AE 12382 (`FPO` annotated as LOCATION)\n",
      "\t- card number 630427373398 is lost, can you please send a new one to 1987 74 Diakou Street\n",
      " Suite 680\n",
      " Kissousa\n",
      " Cyprus 36903? I am in ΛΕΥΚΩΣΙΑ for a business trip (`74` annotated as LOCATION)\n"
     ]
    },
    {
     "data": {
      "text/plain": [
       "[('PSC', 19),\n",
       " ('APO', 19),\n",
       " ('nan', 19),\n",
       " ('Greenlander', 18),\n",
       " ('AA', 15),\n",
       " ('ul', 14),\n",
       " ('AP', 11),\n",
       " ('AE', 11),\n",
       " ('Rua', 10),\n",
       " ('DPO', 10),\n",
       " ('Greek', 9),\n",
       " ('Cite', 8),\n",
       " ('33', 8),\n",
       " ('FPO', 8),\n",
       " ('74', 6)]"
      ]
     },
     "execution_count": 40,
     "metadata": {},
     "output_type": "execute_result"
    }
   ],
   "source": [
    "ModelError.most_common_fn_tokens(results.model_errors, n=15)"
   ]
  },
  {
   "cell_type": "markdown",
   "id": "44ed6416",
   "metadata": {},
   "source": [
    "#### More FN analysis"
   ]
  },
  {
   "cell_type": "code",
   "execution_count": 41,
   "id": "7abfcbe9",
   "metadata": {
    "ExecuteTime": {
     "end_time": "2024-09-19T18:14:13.745681Z",
     "start_time": "2024-09-19T18:14:13.682894Z"
    }
   },
   "outputs": [],
   "source": [
    "fns_df = ModelError.get_fns_dataframe(results.model_errors, entity=[\"PHONE_NUMBER\"])"
   ]
  },
  {
   "cell_type": "code",
   "execution_count": 42,
   "id": "9ae73b2e",
   "metadata": {
    "ExecuteTime": {
     "end_time": "2024-09-19T18:14:13.815256Z",
     "start_time": "2024-09-19T18:14:13.750819Z"
    }
   },
   "outputs": [
    {
     "data": {
      "text/html": [
       "<div>\n",
       "<style scoped>\n",
       "    .dataframe tbody tr th:only-of-type {\n",
       "        vertical-align: middle;\n",
       "    }\n",
       "\n",
       "    .dataframe tbody tr th {\n",
       "        vertical-align: top;\n",
       "    }\n",
       "\n",
       "    .dataframe thead th {\n",
       "        text-align: right;\n",
       "    }\n",
       "</style>\n",
       "<table border=\"1\" class=\"dataframe\">\n",
       "  <thead>\n",
       "    <tr style=\"text-align: right;\">\n",
       "      <th></th>\n",
       "      <th>full_text</th>\n",
       "      <th>token</th>\n",
       "      <th>annotation</th>\n",
       "      <th>prediction</th>\n",
       "    </tr>\n",
       "  </thead>\n",
       "  <tbody>\n",
       "    <tr>\n",
       "      <th>0</th>\n",
       "      <td>Janka M. Szász\\n\\nNetwork and computer systems administrator\\n\\nPersonal Info:\\nPhone:\\n60-56-85-91\\n\\nE-mail:\\nSzaszJanka@cuvox.de\\n\\nWebsite:\\nhttps://www.UEarly.se/\\n\\nAddress:\\nBrucker Bundesstrasse 31 Zezig Streets\\n Suite 245\\n FÜRLING\\n Austria 25173.</td>\n",
       "      <td>60</td>\n",
       "      <td>PHONE_NUMBER</td>\n",
       "      <td>O</td>\n",
       "    </tr>\n",
       "    <tr>\n",
       "      <th>1</th>\n",
       "      <td>Janka M. Szász\\n\\nNetwork and computer systems administrator\\n\\nPersonal Info:\\nPhone:\\n60-56-85-91\\n\\nE-mail:\\nSzaszJanka@cuvox.de\\n\\nWebsite:\\nhttps://www.UEarly.se/\\n\\nAddress:\\nBrucker Bundesstrasse 31 Zezig Streets\\n Suite 245\\n FÜRLING\\n Austria 25173.</td>\n",
       "      <td>56</td>\n",
       "      <td>PHONE_NUMBER</td>\n",
       "      <td>O</td>\n",
       "    </tr>\n",
       "    <tr>\n",
       "      <th>2</th>\n",
       "      <td>Janka M. Szász\\n\\nNetwork and computer systems administrator\\n\\nPersonal Info:\\nPhone:\\n60-56-85-91\\n\\nE-mail:\\nSzaszJanka@cuvox.de\\n\\nWebsite:\\nhttps://www.UEarly.se/\\n\\nAddress:\\nBrucker Bundesstrasse 31 Zezig Streets\\n Suite 245\\n FÜRLING\\n Austria 25173.</td>\n",
       "      <td>85</td>\n",
       "      <td>PHONE_NUMBER</td>\n",
       "      <td>O</td>\n",
       "    </tr>\n",
       "    <tr>\n",
       "      <th>3</th>\n",
       "      <td>Janka M. Szász\\n\\nNetwork and computer systems administrator\\n\\nPersonal Info:\\nPhone:\\n60-56-85-91\\n\\nE-mail:\\nSzaszJanka@cuvox.de\\n\\nWebsite:\\nhttps://www.UEarly.se/\\n\\nAddress:\\nBrucker Bundesstrasse 31 Zezig Streets\\n Suite 245\\n FÜRLING\\n Austria 25173.</td>\n",
       "      <td>91</td>\n",
       "      <td>PHONE_NUMBER</td>\n",
       "      <td>O</td>\n",
       "    </tr>\n",
       "    <tr>\n",
       "      <th>4</th>\n",
       "      <td>Gregory Kudryashov\\n\\n233 Erzsébet tér 19.\\n Suite 282\\n Domoszló\\n Hungary 34796\\n(37) 788-063-Office\\,07700 063 966-Fax</td>\n",
       "      <td>37</td>\n",
       "      <td>PHONE_NUMBER</td>\n",
       "      <td>O</td>\n",
       "    </tr>\n",
       "    <tr>\n",
       "      <th>5</th>\n",
       "      <td>Gregory Kudryashov\\n\\n233 Erzsébet tér 19.\\n Suite 282\\n Domoszló\\n Hungary 34796\\n(37) 788-063-Office\\,07700 063 966-Fax</td>\n",
       "      <td>788</td>\n",
       "      <td>PHONE_NUMBER</td>\n",
       "      <td>O</td>\n",
       "    </tr>\n",
       "    <tr>\n",
       "      <th>6</th>\n",
       "      <td>Gregory Kudryashov\\n\\n233 Erzsébet tér 19.\\n Suite 282\\n Domoszló\\n Hungary 34796\\n(37) 788-063-Office\\,07700 063 966-Fax</td>\n",
       "      <td>063</td>\n",
       "      <td>PHONE_NUMBER</td>\n",
       "      <td>O</td>\n",
       "    </tr>\n",
       "    <tr>\n",
       "      <th>7</th>\n",
       "      <td>Please have the manager call me at 0494 92 82 32 I'd like to join accounts with ms. Marcela</td>\n",
       "      <td>0494</td>\n",
       "      <td>PHONE_NUMBER</td>\n",
       "      <td>O</td>\n",
       "    </tr>\n",
       "    <tr>\n",
       "      <th>8</th>\n",
       "      <td>Please have the manager call me at 0494 92 82 32 I'd like to join accounts with ms. Marcela</td>\n",
       "      <td>92</td>\n",
       "      <td>PHONE_NUMBER</td>\n",
       "      <td>O</td>\n",
       "    </tr>\n",
       "    <tr>\n",
       "      <th>9</th>\n",
       "      <td>Please have the manager call me at 0494 92 82 32 I'd like to join accounts with ms. Marcela</td>\n",
       "      <td>82</td>\n",
       "      <td>PHONE_NUMBER</td>\n",
       "      <td>O</td>\n",
       "    </tr>\n",
       "    <tr>\n",
       "      <th>10</th>\n",
       "      <td>Please have the manager call me at 0494 92 82 32 I'd like to join accounts with ms. Marcela</td>\n",
       "      <td>32</td>\n",
       "      <td>PHONE_NUMBER</td>\n",
       "      <td>O</td>\n",
       "    </tr>\n",
       "    <tr>\n",
       "      <th>11</th>\n",
       "      <td>I would like to stop receiving messages to 699 956 915</td>\n",
       "      <td>699</td>\n",
       "      <td>PHONE_NUMBER</td>\n",
       "      <td>O</td>\n",
       "    </tr>\n",
       "    <tr>\n",
       "      <th>12</th>\n",
       "      <td>I would like to stop receiving messages to 699 956 915</td>\n",
       "      <td>956</td>\n",
       "      <td>PHONE_NUMBER</td>\n",
       "      <td>O</td>\n",
       "    </tr>\n",
       "    <tr>\n",
       "      <th>13</th>\n",
       "      <td>I would like to stop receiving messages to 699 956 915</td>\n",
       "      <td>915</td>\n",
       "      <td>PHONE_NUMBER</td>\n",
       "      <td>O</td>\n",
       "    </tr>\n",
       "    <tr>\n",
       "      <th>14</th>\n",
       "      <td>Date: 2003-08-28 12:13:52\\nName: Sieda Batukayev\\nPhone: (99) 645-791</td>\n",
       "      <td>99</td>\n",
       "      <td>PHONE_NUMBER</td>\n",
       "      <td>O</td>\n",
       "    </tr>\n",
       "    <tr>\n",
       "      <th>15</th>\n",
       "      <td>Date: 2003-08-28 12:13:52\\nName: Sieda Batukayev\\nPhone: (99) 645-791</td>\n",
       "      <td>645</td>\n",
       "      <td>PHONE_NUMBER</td>\n",
       "      <td>O</td>\n",
       "    </tr>\n",
       "    <tr>\n",
       "      <th>16</th>\n",
       "      <td>Date: 2003-08-28 12:13:52\\nName: Sieda Batukayev\\nPhone: (99) 645-791</td>\n",
       "      <td>791</td>\n",
       "      <td>PHONE_NUMBER</td>\n",
       "      <td>O</td>\n",
       "    </tr>\n",
       "    <tr>\n",
       "      <th>17</th>\n",
       "      <td>Julieta S Almeida\\n\\nStaff development specialist\\n\\nPersonal Info:\\nPhone:\\n467 3395\\n\\nE-mail:\\nJulietaSouzaAlmeida@cuvox.de\\n\\nWebsite:\\nhttps://www.InvestmentInstructor.be/\\n\\nAddress:\\n230 107 Igias Street Suite 503 Armenomonastiro Cyprus.</td>\n",
       "      <td>467</td>\n",
       "      <td>PHONE_NUMBER</td>\n",
       "      <td>O</td>\n",
       "    </tr>\n",
       "    <tr>\n",
       "      <th>18</th>\n",
       "      <td>Julieta S Almeida\\n\\nStaff development specialist\\n\\nPersonal Info:\\nPhone:\\n467 3395\\n\\nE-mail:\\nJulietaSouzaAlmeida@cuvox.de\\n\\nWebsite:\\nhttps://www.InvestmentInstructor.be/\\n\\nAddress:\\n230 107 Igias Street Suite 503 Armenomonastiro Cyprus.</td>\n",
       "      <td>3395</td>\n",
       "      <td>PHONE_NUMBER</td>\n",
       "      <td>O</td>\n",
       "    </tr>\n",
       "    <tr>\n",
       "      <th>19</th>\n",
       "      <td>They're not answering at 78 651 450</td>\n",
       "      <td>78</td>\n",
       "      <td>PHONE_NUMBER</td>\n",
       "      <td>O</td>\n",
       "    </tr>\n",
       "  </tbody>\n",
       "</table>\n",
       "</div>"
      ],
      "text/plain": [
       "                                                                                                                                                                                                                                                             full_text  \\\n",
       "0   Janka M. Szász\\n\\nNetwork and computer systems administrator\\n\\nPersonal Info:\\nPhone:\\n60-56-85-91\\n\\nE-mail:\\nSzaszJanka@cuvox.de\\n\\nWebsite:\\nhttps://www.UEarly.se/\\n\\nAddress:\\nBrucker Bundesstrasse 31 Zezig Streets\\n Suite 245\\n FÜRLING\\n Austria 25173.   \n",
       "1   Janka M. Szász\\n\\nNetwork and computer systems administrator\\n\\nPersonal Info:\\nPhone:\\n60-56-85-91\\n\\nE-mail:\\nSzaszJanka@cuvox.de\\n\\nWebsite:\\nhttps://www.UEarly.se/\\n\\nAddress:\\nBrucker Bundesstrasse 31 Zezig Streets\\n Suite 245\\n FÜRLING\\n Austria 25173.   \n",
       "2   Janka M. Szász\\n\\nNetwork and computer systems administrator\\n\\nPersonal Info:\\nPhone:\\n60-56-85-91\\n\\nE-mail:\\nSzaszJanka@cuvox.de\\n\\nWebsite:\\nhttps://www.UEarly.se/\\n\\nAddress:\\nBrucker Bundesstrasse 31 Zezig Streets\\n Suite 245\\n FÜRLING\\n Austria 25173.   \n",
       "3   Janka M. Szász\\n\\nNetwork and computer systems administrator\\n\\nPersonal Info:\\nPhone:\\n60-56-85-91\\n\\nE-mail:\\nSzaszJanka@cuvox.de\\n\\nWebsite:\\nhttps://www.UEarly.se/\\n\\nAddress:\\nBrucker Bundesstrasse 31 Zezig Streets\\n Suite 245\\n FÜRLING\\n Austria 25173.   \n",
       "4                                                                                                                                            Gregory Kudryashov\\n\\n233 Erzsébet tér 19.\\n Suite 282\\n Domoszló\\n Hungary 34796\\n(37) 788-063-Office\\,07700 063 966-Fax   \n",
       "5                                                                                                                                            Gregory Kudryashov\\n\\n233 Erzsébet tér 19.\\n Suite 282\\n Domoszló\\n Hungary 34796\\n(37) 788-063-Office\\,07700 063 966-Fax   \n",
       "6                                                                                                                                            Gregory Kudryashov\\n\\n233 Erzsébet tér 19.\\n Suite 282\\n Domoszló\\n Hungary 34796\\n(37) 788-063-Office\\,07700 063 966-Fax   \n",
       "7                                                                                                                                                                          Please have the manager call me at 0494 92 82 32 I'd like to join accounts with ms. Marcela   \n",
       "8                                                                                                                                                                          Please have the manager call me at 0494 92 82 32 I'd like to join accounts with ms. Marcela   \n",
       "9                                                                                                                                                                          Please have the manager call me at 0494 92 82 32 I'd like to join accounts with ms. Marcela   \n",
       "10                                                                                                                                                                         Please have the manager call me at 0494 92 82 32 I'd like to join accounts with ms. Marcela   \n",
       "11                                                                                                                                                                                                              I would like to stop receiving messages to 699 956 915   \n",
       "12                                                                                                                                                                                                              I would like to stop receiving messages to 699 956 915   \n",
       "13                                                                                                                                                                                                              I would like to stop receiving messages to 699 956 915   \n",
       "14                                                                                                                                                                                               Date: 2003-08-28 12:13:52\\nName: Sieda Batukayev\\nPhone: (99) 645-791   \n",
       "15                                                                                                                                                                                               Date: 2003-08-28 12:13:52\\nName: Sieda Batukayev\\nPhone: (99) 645-791   \n",
       "16                                                                                                                                                                                               Date: 2003-08-28 12:13:52\\nName: Sieda Batukayev\\nPhone: (99) 645-791   \n",
       "17                Julieta S Almeida\\n\\nStaff development specialist\\n\\nPersonal Info:\\nPhone:\\n467 3395\\n\\nE-mail:\\nJulietaSouzaAlmeida@cuvox.de\\n\\nWebsite:\\nhttps://www.InvestmentInstructor.be/\\n\\nAddress:\\n230 107 Igias Street Suite 503 Armenomonastiro Cyprus.   \n",
       "18                Julieta S Almeida\\n\\nStaff development specialist\\n\\nPersonal Info:\\nPhone:\\n467 3395\\n\\nE-mail:\\nJulietaSouzaAlmeida@cuvox.de\\n\\nWebsite:\\nhttps://www.InvestmentInstructor.be/\\n\\nAddress:\\n230 107 Igias Street Suite 503 Armenomonastiro Cyprus.   \n",
       "19                                                                                                                                                                                                                                 They're not answering at 78 651 450   \n",
       "\n",
       "   token    annotation prediction  \n",
       "0     60  PHONE_NUMBER          O  \n",
       "1     56  PHONE_NUMBER          O  \n",
       "2     85  PHONE_NUMBER          O  \n",
       "3     91  PHONE_NUMBER          O  \n",
       "4     37  PHONE_NUMBER          O  \n",
       "5    788  PHONE_NUMBER          O  \n",
       "6    063  PHONE_NUMBER          O  \n",
       "7   0494  PHONE_NUMBER          O  \n",
       "8     92  PHONE_NUMBER          O  \n",
       "9     82  PHONE_NUMBER          O  \n",
       "10    32  PHONE_NUMBER          O  \n",
       "11   699  PHONE_NUMBER          O  \n",
       "12   956  PHONE_NUMBER          O  \n",
       "13   915  PHONE_NUMBER          O  \n",
       "14    99  PHONE_NUMBER          O  \n",
       "15   645  PHONE_NUMBER          O  \n",
       "16   791  PHONE_NUMBER          O  \n",
       "17   467  PHONE_NUMBER          O  \n",
       "18  3395  PHONE_NUMBER          O  \n",
       "19    78  PHONE_NUMBER          O  "
      ]
     },
     "execution_count": 42,
     "metadata": {},
     "output_type": "execute_result"
    }
   ],
   "source": [
    "fns_df[[\"full_text\", \"token\", \"annotation\", \"prediction\"]].head(20)"
   ]
  }
 ],
 "metadata": {
  "kernelspec": {
   "display_name": "presidio-research",
   "language": "python",
   "name": "presidio_research"
  },
  "language_info": {
   "codemirror_mode": {
    "name": "ipython",
    "version": 3
   },
   "file_extension": ".py",
   "mimetype": "text/x-python",
   "name": "python",
   "nbconvert_exporter": "python",
   "pygments_lexer": "ipython3",
   "version": "3.9.6"
  }
 },
 "nbformat": 4,
 "nbformat_minor": 5
}
