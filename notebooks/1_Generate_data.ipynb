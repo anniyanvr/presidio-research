{
 "cells": [
  {
   "cell_type": "code",
   "execution_count": 1,
   "metadata": {
    "is_executing": true
   },
   "outputs": [],
   "source": [
    "# install presidio via pip if not yet installed\n",
    "\n",
    "#!pip install presidio-analyzer\n",
    "#!pip install presidio-evaluator"
   ]
  },
  {
   "cell_type": "code",
   "execution_count": null,
   "metadata": {
    "is_executing": true,
    "scrolled": true
   },
   "outputs": [],
   "source": [
    "import datetime\n",
    "import pprint\n",
    "from collections import Counter\n",
    "from pathlib import Path\n",
    "from typing import Dict, List\n",
    "\n",
    "import pandas as pd\n",
    "import numpy as np\n",
    "\n",
    "from presidio_evaluator import InputSample\n",
    "from presidio_evaluator.data_generator import PresidioSentenceFaker"
   ]
  },
  {
   "cell_type": "markdown",
   "metadata": {},
   "source": [
    "# Generate fake PII data using the Presidio Sentence Faker"
   ]
  },
  {
   "cell_type": "markdown",
   "metadata": {},
   "source": [
    "The Presidio Sentence Faker enables you to generate a synthetic dataset from sentence templates.\n",
    "Example templates:\n",
    "\n",
    "> I live at {{address}}\n",
    "\n",
    "> You can email me at {{email}}. Thanks, {{first_name}}\n",
    "\n",
    "> What's your last name? It's {{last_name}}\n",
    "\n",
    "> Every time I see you falling I get down on my knees and pray"
   ]
  },
  {
   "cell_type": "markdown",
   "metadata": {},
   "source": [
    "### Simple example\n",
    "This uses the default generator to create 10 samples based on three templates"
   ]
  },
  {
   "cell_type": "code",
   "execution_count": 3,
   "metadata": {
    "is_executing": true
   },
   "outputs": [
    {
     "name": "stdout",
     "output_type": "stream",
     "text": [
      "Using default entity providers\n",
      "Using default entity mapping between the entities in the templates and the ones in the output dataset\n",
      "Using default provider aliases\n"
     ]
    },
    {
     "name": "stderr",
     "output_type": "stream",
     "text": [
      "Sampling: 100%|██████████| 10/10 [00:00<00:00, 4370.89it/s]"
     ]
    },
    {
     "name": "stdout",
     "output_type": "stream",
     "text": [
      "I just moved to {{GPE}} from {{GPE}}\n",
      "[Span(type: GPE, value: Spain, char_span: [45: 50]), Span(type: GPE, value: Valverde de Valdelacasa, char_span: [16: 39])]\n"
     ]
    },
    {
     "name": "stderr",
     "output_type": "stream",
     "text": [
      "\n"
     ]
    }
   ],
   "source": [
    "sentence_templates = [\n",
    "    \"My name is {{name}}\",\n",
    "    \"Please send it to {{address}}\",\n",
    "    \"I just moved to {{city}} from {{country}}\",\n",
    "]\n",
    "\n",
    "\n",
    "sentence_faker = PresidioSentenceFaker(\n",
    "    \"en_US\", lower_case_ratio=0.05, sentence_templates=sentence_templates\n",
    ")\n",
    "fake_sentence_results = sentence_faker.generate_new_fake_sentences(10)\n",
    "\n",
    "# Print the spans of the first sample\n",
    "print(fake_sentence_results[0].masked)\n",
    "print(fake_sentence_results[0].spans)"
   ]
  },
  {
   "cell_type": "markdown",
   "metadata": {},
   "source": [
    "## Generate a full dataset\n",
    "\n",
    "In this example we generate a large dataset with multiple entity types and save it in in JSON and CONLL03 formats.\n",
    "This uses the default sentence templates included in this package."
   ]
  },
  {
   "cell_type": "code",
   "execution_count": 4,
   "metadata": {
    "is_executing": true,
    "scrolled": true
   },
   "outputs": [],
   "source": [
    "number_of_samples = 1500\n",
    "lower_case_ratio = 0.05\n",
    "locale = \"en\"\n",
    "cur_time = datetime.date.today().strftime(\"%B_%d_%Y\")\n",
    "\n",
    "output_file = f\"../data/generated_size_{number_of_samples}_date_{cur_time}.json\"\n",
    "output_conll = f\"../data/generated_size_{number_of_samples}_date_{cur_time}.tsv\""
   ]
  },
  {
   "cell_type": "markdown",
   "metadata": {
    "pycharm": {
     "name": "#%% md\n"
    }
   },
   "source": [
    "The `PresidioSentenceFaker` is based on the Faker library. It loads [FakeNameGenerator](https://www.fakenamegenerator.com/) data by default\n",
    "to extend the set of fake values and creates a `SentenceFaker` \n",
    "which returns a fake person record (with multiple values) instead of one value,\n",
    "allowing dependencies between values belonging to the same fake person\n",
    "(e.g. name = Michael Smith with the email michael.smith@gmail.com).\n",
    "\n",
    "`FakeNameGenerator.com_3000.csv` is included in this package and can be sourced from https://www.fakenamegenerator.com/order.php"
   ]
  },
  {
   "cell_type": "code",
   "execution_count": 5,
   "metadata": {},
   "outputs": [
    {
     "name": "stdout",
     "output_type": "stream",
     "text": [
      "Using default entity providers\n",
      "Using default entity mapping between the entities in the templates and the ones in the output dataset\n",
      "Using default provider aliases\n"
     ]
    }
   ],
   "source": [
    "sentence_faker = PresidioSentenceFaker(\"en_US\", lower_case_ratio=0.05)"
   ]
  },
  {
   "cell_type": "code",
   "execution_count": 6,
   "metadata": {},
   "outputs": [
    {
     "data": {
      "text/html": [
       "<div>\n",
       "<style scoped>\n",
       "    .dataframe tbody tr th:only-of-type {\n",
       "        vertical-align: middle;\n",
       "    }\n",
       "\n",
       "    .dataframe tbody tr th {\n",
       "        vertical-align: top;\n",
       "    }\n",
       "\n",
       "    .dataframe thead th {\n",
       "        text-align: right;\n",
       "    }\n",
       "</style>\n",
       "<table border=\"1\" class=\"dataframe\">\n",
       "  <thead>\n",
       "    <tr style=\"text-align: right;\">\n",
       "      <th></th>\n",
       "      <th>number</th>\n",
       "      <th>gender</th>\n",
       "      <th>nationality</th>\n",
       "      <th>prefix</th>\n",
       "      <th>first_name</th>\n",
       "      <th>middle_initial</th>\n",
       "      <th>last_name</th>\n",
       "      <th>street_name</th>\n",
       "      <th>city</th>\n",
       "      <th>state_abbr</th>\n",
       "      <th>...</th>\n",
       "      <th>company</th>\n",
       "      <th>domain_name</th>\n",
       "      <th>person</th>\n",
       "      <th>name</th>\n",
       "      <th>first_name_female</th>\n",
       "      <th>first_name_male</th>\n",
       "      <th>prefix_female</th>\n",
       "      <th>prefix_male</th>\n",
       "      <th>last_name_female</th>\n",
       "      <th>last_name_male</th>\n",
       "    </tr>\n",
       "  </thead>\n",
       "  <tbody>\n",
       "    <tr>\n",
       "      <th>0</th>\n",
       "      <td>1</td>\n",
       "      <td>female</td>\n",
       "      <td>Czech</td>\n",
       "      <td>Mrs.</td>\n",
       "      <td>Marie</td>\n",
       "      <td>J</td>\n",
       "      <td>Hamanová</td>\n",
       "      <td>P.O. Box 255</td>\n",
       "      <td>Kangerlussuaq</td>\n",
       "      <td>QE</td>\n",
       "      <td>...</td>\n",
       "      <td>Simple Solutions</td>\n",
       "      <td>MarathonDancing.gl</td>\n",
       "      <td>Marie Hamanová</td>\n",
       "      <td>Marie Hamanová</td>\n",
       "      <td>Marie</td>\n",
       "      <td></td>\n",
       "      <td>Mrs.</td>\n",
       "      <td></td>\n",
       "      <td>Hamanová</td>\n",
       "      <td></td>\n",
       "    </tr>\n",
       "    <tr>\n",
       "      <th>1</th>\n",
       "      <td>2</td>\n",
       "      <td>female</td>\n",
       "      <td>French</td>\n",
       "      <td>Ms.</td>\n",
       "      <td>Patricia</td>\n",
       "      <td>G</td>\n",
       "      <td>Desrosiers</td>\n",
       "      <td>Avenida Noruega 42</td>\n",
       "      <td>Vila Real</td>\n",
       "      <td>VR</td>\n",
       "      <td>...</td>\n",
       "      <td>Formula Gray</td>\n",
       "      <td>LostMillions.com.pt</td>\n",
       "      <td>Patricia Desrosiers</td>\n",
       "      <td>Patricia Desrosiers</td>\n",
       "      <td>Patricia</td>\n",
       "      <td></td>\n",
       "      <td>Ms.</td>\n",
       "      <td></td>\n",
       "      <td>Desrosiers</td>\n",
       "      <td></td>\n",
       "    </tr>\n",
       "    <tr>\n",
       "      <th>2</th>\n",
       "      <td>3</td>\n",
       "      <td>female</td>\n",
       "      <td>American</td>\n",
       "      <td>Ms.</td>\n",
       "      <td>Debra</td>\n",
       "      <td>O</td>\n",
       "      <td>Neal</td>\n",
       "      <td>1659 Hoog St</td>\n",
       "      <td>Brakpan</td>\n",
       "      <td>GA</td>\n",
       "      <td>...</td>\n",
       "      <td>Dahlkemper's</td>\n",
       "      <td>MediumTube.co.za</td>\n",
       "      <td>Debra Neal</td>\n",
       "      <td>Debra Neal</td>\n",
       "      <td>Debra</td>\n",
       "      <td></td>\n",
       "      <td>Ms.</td>\n",
       "      <td></td>\n",
       "      <td>Neal</td>\n",
       "      <td></td>\n",
       "    </tr>\n",
       "    <tr>\n",
       "      <th>3</th>\n",
       "      <td>4</td>\n",
       "      <td>male</td>\n",
       "      <td>French</td>\n",
       "      <td>Mr.</td>\n",
       "      <td>Peverell</td>\n",
       "      <td>C</td>\n",
       "      <td>Racine</td>\n",
       "      <td>183 Epimenidou Street</td>\n",
       "      <td>Limassol</td>\n",
       "      <td>LI</td>\n",
       "      <td>...</td>\n",
       "      <td>Quickbiz</td>\n",
       "      <td>ImproveLook.com.cy</td>\n",
       "      <td>Peverell Racine</td>\n",
       "      <td>Peverell Racine</td>\n",
       "      <td></td>\n",
       "      <td>Peverell</td>\n",
       "      <td></td>\n",
       "      <td>Mr.</td>\n",
       "      <td></td>\n",
       "      <td>Racine</td>\n",
       "    </tr>\n",
       "    <tr>\n",
       "      <th>4</th>\n",
       "      <td>5</td>\n",
       "      <td>female</td>\n",
       "      <td>Slovenian</td>\n",
       "      <td>Mrs.</td>\n",
       "      <td>Iolanda</td>\n",
       "      <td>S</td>\n",
       "      <td>Tratnik</td>\n",
       "      <td>Karu põik 61</td>\n",
       "      <td>Pärnu</td>\n",
       "      <td>PR</td>\n",
       "      <td>...</td>\n",
       "      <td>Dubrow's Cafeteria</td>\n",
       "      <td>PostTan.com.ee</td>\n",
       "      <td>Iolanda Tratnik</td>\n",
       "      <td>Iolanda Tratnik</td>\n",
       "      <td>Iolanda</td>\n",
       "      <td></td>\n",
       "      <td>Mrs.</td>\n",
       "      <td></td>\n",
       "      <td>Tratnik</td>\n",
       "      <td></td>\n",
       "    </tr>\n",
       "  </tbody>\n",
       "</table>\n",
       "<p>5 rows × 37 columns</p>\n",
       "</div>"
      ],
      "text/plain": [
       "   number  gender nationality prefix first_name middle_initial   last_name  \\\n",
       "0       1  female       Czech   Mrs.      Marie              J    Hamanová   \n",
       "1       2  female      French    Ms.   Patricia              G  Desrosiers   \n",
       "2       3  female    American    Ms.      Debra              O        Neal   \n",
       "3       4    male      French    Mr.   Peverell              C      Racine   \n",
       "4       5  female   Slovenian   Mrs.    Iolanda              S     Tratnik   \n",
       "\n",
       "             street_name           city state_abbr  ...             company  \\\n",
       "0           P.O. Box 255  Kangerlussuaq         QE  ...    Simple Solutions   \n",
       "1     Avenida Noruega 42      Vila Real         VR  ...        Formula Gray   \n",
       "2           1659 Hoog St        Brakpan         GA  ...        Dahlkemper's   \n",
       "3  183 Epimenidou Street       Limassol         LI  ...            Quickbiz   \n",
       "4           Karu põik 61          Pärnu         PR  ...  Dubrow's Cafeteria   \n",
       "\n",
       "           domain_name               person                 name  \\\n",
       "0   MarathonDancing.gl       Marie Hamanová       Marie Hamanová   \n",
       "1  LostMillions.com.pt  Patricia Desrosiers  Patricia Desrosiers   \n",
       "2     MediumTube.co.za           Debra Neal           Debra Neal   \n",
       "3   ImproveLook.com.cy      Peverell Racine      Peverell Racine   \n",
       "4       PostTan.com.ee      Iolanda Tratnik      Iolanda Tratnik   \n",
       "\n",
       "  first_name_female first_name_male prefix_female prefix_male  \\\n",
       "0             Marie                          Mrs.               \n",
       "1          Patricia                           Ms.               \n",
       "2             Debra                           Ms.               \n",
       "3                          Peverell                       Mr.   \n",
       "4           Iolanda                          Mrs.               \n",
       "\n",
       "   last_name_female last_name_male  \n",
       "0          Hamanová                 \n",
       "1        Desrosiers                 \n",
       "2              Neal                 \n",
       "3                           Racine  \n",
       "4           Tratnik                 \n",
       "\n",
       "[5 rows x 37 columns]"
      ]
     },
     "execution_count": 6,
     "metadata": {},
     "output_type": "execute_result"
    }
   ],
   "source": [
    "pd.DataFrame(sentence_faker._sentence_faker.records).head()"
   ]
  },
  {
   "cell_type": "markdown",
   "metadata": {},
   "source": [
    "`PresidioSentenceFaker` adds additional providers by default, which are not included in the Faker package.\n",
    "These can be found in `presidio_evaluator.data_generator.faker_extensions.providers`\n",
    "\n",
    "It is possible to create providers for additional entity types by extending Faker's `BaseProvider` class, \n",
    "and calling `add_provider` on the `PresidioSentenceFaker` instance.\n",
    "For example:"
   ]
  },
  {
   "cell_type": "code",
   "execution_count": 7,
   "metadata": {},
   "outputs": [],
   "source": [
    "import random\n",
    "from faker.providers import BaseProvider\n",
    "\n",
    "\n",
    "class MarsIdProvider(BaseProvider):\n",
    "    def mars_id(self):\n",
    "        # Generate a random row number between 1 and 50\n",
    "        row = random.randint(1, 50)\n",
    "        # Generate a random letter for the seat location from A-K\n",
    "        location = random.choice(\"ABCDEFGHIJK\")\n",
    "        # Return the seat in the format \"row-letter\" (e.g., \"25A\")\n",
    "        return f\"{row}{location}\"\n",
    "\n",
    "\n",
    "sentence_faker.add_provider(MarsIdProvider)\n",
    "# Now a new `mars_id` entity can be generated if a template has `mars_id` in it."
   ]
  },
  {
   "cell_type": "code",
   "execution_count": 8,
   "metadata": {
    "is_executing": true
   },
   "outputs": [
    {
     "data": {
      "text/plain": [
       "presidio_evaluator.data_generator.faker_extensions.providers.ReligionProvider"
      ]
     },
     "execution_count": 8,
     "metadata": {},
     "output_type": "execute_result"
    }
   ],
   "source": [
    "from presidio_evaluator.data_generator.faker_extensions.providers import *\n",
    "\n",
    "IpAddressProvider  # Both Ipv4 and IPv6 IP addresses\n",
    "NationalityProvider  # Read countries + nationalities from file\n",
    "OrganizationProvider  # Read organization names from file\n",
    "UsDriverLicenseProvider  # Read US driver license numbers from file\n",
    "AgeProvider  # Age values (unavailable on Faker\n",
    "AddressProviderNew  # Extend the default address formats\n",
    "PhoneNumberProviderNew  # Extend the default phone number formats\n",
    "ReligionProvider  # Read religions from file"
   ]
  },
  {
   "cell_type": "markdown",
   "metadata": {
    "pycharm": {
     "name": "#%% md\n"
    }
   },
   "source": [
    "`PresidioSentenceFaker.PROVIDER_ALIASES` can be extended to add additional provider aliases for when templates have\n",
    "a different entity name than what the providers emit."
   ]
  },
  {
   "cell_type": "code",
   "execution_count": 9,
   "metadata": {
    "is_executing": true,
    "pycharm": {
     "name": "#%%\n"
    }
   },
   "outputs": [
    {
     "data": {
      "text/plain": [
       "[('name', 'person'),\n",
       " ('credit_card_number', 'credit_card'),\n",
       " ('date_of_birth', 'birthday')]"
      ]
     },
     "execution_count": 9,
     "metadata": {},
     "output_type": "execute_result"
    }
   ],
   "source": [
    "# Create entity aliases (e.g. if your provider supports \"name\" but templates contain \"person\").\n",
    "provider_aliases = PresidioSentenceFaker.PROVIDER_ALIASES\n",
    "provider_aliases\n",
    "\n",
    "# To customize, call `PresidioSentenceFaker(locale=\"en_US\",...,provider_aliases=provider_aliases)`"
   ]
  },
  {
   "cell_type": "markdown",
   "metadata": {
    "pycharm": {
     "name": "#%% md\n"
    }
   },
   "source": [
    "Generate data"
   ]
  },
  {
   "cell_type": "code",
   "execution_count": 10,
   "metadata": {},
   "outputs": [
    {
     "name": "stderr",
     "output_type": "stream",
     "text": [
      "Sampling: 100%|██████████| 1500/1500 [00:00<00:00, 8316.22it/s]"
     ]
    },
    {
     "name": "stdout",
     "output_type": "stream",
     "text": [
      "Full text: I'll meet you at 323 Postbox 78\n",
      " Apt. 637\n",
      " Slædepatruljen Sirius\n",
      " Greenlander after the concert.\n",
      "Spans: [Span(type: STREET_ADDRESS, value: 323 Postbox 78\n",
      " Apt. 637\n",
      " Slædepatruljen Sirius\n",
      " Greenlander, char_span: [17: 77])]\n",
      "\n"
     ]
    },
    {
     "name": "stderr",
     "output_type": "stream",
     "text": [
      "\n"
     ]
    }
   ],
   "source": [
    "fake_records = sentence_faker.generate_new_fake_sentences(num_samples=number_of_samples)\n",
    "pprint.pprint(fake_records[0])"
   ]
  },
  {
   "cell_type": "markdown",
   "metadata": {},
   "source": [
    "#### Verify randomness of dataset"
   ]
  },
  {
   "cell_type": "code",
   "execution_count": 11,
   "metadata": {
    "is_executing": true,
    "scrolled": true
   },
   "outputs": [
    {
     "name": "stdout",
     "output_type": "stream",
     "text": [
      "Total: 1500\n",
      "Avg # of records per template: 7.142857142857143\n",
      "Median # of records per template: 7.0\n",
      "Std: 2.7513756608669206\n"
     ]
    }
   ],
   "source": [
    "count_per_template_id = Counter([sample.template_id for sample in fake_records])\n",
    "\n",
    "print(f\"Total: {sum(count_per_template_id.values())}\")\n",
    "print(f\"Avg # of records per template: {np.mean(list(count_per_template_id.values()))}\")\n",
    "print(\n",
    "    f\"Median # of records per template: {np.median(list(count_per_template_id.values()))}\"\n",
    ")\n",
    "print(f\"Std: {np.std(list(count_per_template_id.values()))}\")"
   ]
  },
  {
   "cell_type": "markdown",
   "metadata": {
    "pycharm": {
     "name": "#%% md\n"
    }
   },
   "source": [
    "#### Which entities did we generate?"
   ]
  },
  {
   "cell_type": "code",
   "execution_count": 12,
   "metadata": {
    "is_executing": true,
    "pycharm": {
     "name": "#%%\n"
    }
   },
   "outputs": [
    {
     "data": {
      "text/plain": [
       "Counter({'PERSON': 875,\n",
       "         'STREET_ADDRESS': 647,\n",
       "         'GPE': 462,\n",
       "         'ORGANIZATION': 260,\n",
       "         'CREDIT_CARD': 146,\n",
       "         'PHONE_NUMBER': 101,\n",
       "         'DATE_TIME': 96,\n",
       "         'TITLE': 88,\n",
       "         'AGE': 73,\n",
       "         'NRP': 61,\n",
       "         'EMAIL_ADDRESS': 47,\n",
       "         'ZIP_CODE': 39,\n",
       "         'DOMAIN_NAME': 28,\n",
       "         'IBAN_CODE': 22,\n",
       "         'US_SSN': 11,\n",
       "         'IP_ADDRESS': 11,\n",
       "         'US_DRIVER_LICENSE': 11})"
      ]
     },
     "execution_count": 12,
     "metadata": {},
     "output_type": "execute_result"
    }
   ],
   "source": [
    "count_per_entity = Counter()\n",
    "for record in fake_records:\n",
    "    count_per_entity.update(Counter([span.entity_type for span in record.spans]))\n",
    "\n",
    "count_per_entity"
   ]
  },
  {
   "cell_type": "code",
   "execution_count": 13,
   "metadata": {},
   "outputs": [
    {
     "name": "stdout",
     "output_type": "stream",
     "text": [
      "Full text: I'll meet you at 323 Postbox 78\n",
      " Apt. 637\n",
      " Slædepatruljen Sirius\n",
      " Greenlander after the concert.\n",
      "Spans: [Span(type: STREET_ADDRESS, value: 323 Postbox 78\n",
      " Apt. 637\n",
      " Slædepatruljen Sirius\n",
      " Greenlander, char_span: [17: 77])]\n",
      "\n",
      "Full text: The Adomos SA Orchestra was founded in 2014. Since then, it has grown from a volunteer community orchestra to a fully professional orchestra serving Portugal\n",
      "Spans: [Span(type: GPE, value: Portugal, char_span: [149: 157]), Span(type: DATE_TIME, value: 2014, char_span: [39: 43]), Span(type: ORGANIZATION, value: Adomos SA, char_span: [4: 13])]\n",
      "\n",
      "Full text: It's like that since 4/26/1954\n",
      "Spans: [Span(type: DATE_TIME, value: 4/26/1954, char_span: [21: 30])]\n",
      "\n",
      "Full text: One of the most depressing songs on the list. He's injured from the waist down from New Zealand, but Rinoka just has to get laid. Don't go to town, Lisa!\n",
      "Spans: [Span(type: PERSON, value: Lisa, char_span: [148: 152]), Span(type: PERSON, value: Rinoka, char_span: [101: 107]), Span(type: GPE, value: New Zealand, char_span: [84: 95])]\n",
      "\n",
      "Full text: Celebrating its 10th year in Maniitsoq, Marshall, Hernandez and Simpson is a 501(c)3 that invites songwriters from around the world to Tomášhaven to share the universal language of music in collaborations designed to bridge cultures, build friendships and cultivate peace.\n",
      "Spans: [Span(type: GPE, value: Tomášhaven, char_span: [135: 145]), Span(type: ORGANIZATION, value: Marshall, Hernandez and Simpson, char_span: [40: 71]), Span(type: GPE, value: Maniitsoq, char_span: [29: 38])]\n",
      "\n",
      "Full text: I would like to remove my kid Milada from the will. How do I do that?\n",
      "Spans: [Span(type: PERSON, value: Milada, char_span: [30: 36])]\n",
      "\n",
      "Full text: A great song made even greater by a mandolin coda (not by Hugolina Cazares).\n",
      "Spans: [Span(type: PERSON, value: Hugolina Cazares, char_span: [58: 74])]\n",
      "\n",
      "Full text: Who's coming to New Zealand with me?\n",
      "Spans: [Span(type: GPE, value: New Zealand, char_span: [16: 27])]\n",
      "\n",
      "Full text: For my take on Ms. Portič, see Guilty Pleasures: 5 Musicians Of The 70s You're Supposed To Hate (But Secretly Love)\n",
      "Spans: [Span(type: PERSON, value: Portič, char_span: [19: 25]), Span(type: TITLE, value: Ms., char_span: [15: 18])]\n",
      "\n",
      "Full text: Blink-182 pay tribute here to the Switzerland. Producer Jiří Lukášek explained to Fuse TV: \"We all liked the idea of writing a song about our state, where we live and love. To me it's the most beautiful place in the world, this song was us giving credit to how lucky we are to have lived here and grown up here, raising families here, the whole thing.\"\n",
      "Spans: [Span(type: PERSON, value: Jiří Lukášek, char_span: [56: 68]), Span(type: GPE, value: Switzerland, char_span: [34: 45])]\n",
      "\n"
     ]
    }
   ],
   "source": [
    "for record in fake_records[:10]:\n",
    "    print(record)"
   ]
  },
  {
   "cell_type": "markdown",
   "metadata": {
    "pycharm": {
     "name": "#%% md\n"
    }
   },
   "source": [
    "#### Save as json"
   ]
  },
  {
   "cell_type": "code",
   "execution_count": 14,
   "metadata": {
    "is_executing": true,
    "pycharm": {
     "name": "#%%\n"
    }
   },
   "outputs": [],
   "source": [
    "InputSample.to_json(dataset=fake_records, output_file=output_file)"
   ]
  },
  {
   "cell_type": "code",
   "execution_count": 15,
   "metadata": {},
   "outputs": [
    {
     "data": {
      "text/plain": [
       "'../data/generated_size_1500_date_January_08_2025.json'"
      ]
     },
     "execution_count": 15,
     "metadata": {},
     "output_type": "execute_result"
    }
   ],
   "source": [
    "output_file"
   ]
  },
  {
   "cell_type": "markdown",
   "metadata": {
    "pycharm": {
     "name": "#%% md\n"
    }
   },
   "source": [
    "#### Create a CONLL like data frame"
   ]
  },
  {
   "cell_type": "code",
   "execution_count": 16,
   "metadata": {
    "is_executing": true,
    "pycharm": {
     "name": "#%%\n"
    }
   },
   "outputs": [
    {
     "name": "stderr",
     "output_type": "stream",
     "text": [
      "  0%|          | 0/1500 [00:00<?, ?it/s]"
     ]
    },
    {
     "name": "stdout",
     "output_type": "stream",
     "text": [
      "loading model en_core_web_sm\n"
     ]
    },
    {
     "name": "stderr",
     "output_type": "stream",
     "text": [
      "100%|██████████| 1500/1500 [00:04<00:00, 320.23it/s]\n"
     ]
    },
    {
     "data": {
      "text/html": [
       "<div>\n",
       "<style scoped>\n",
       "    .dataframe tbody tr th:only-of-type {\n",
       "        vertical-align: middle;\n",
       "    }\n",
       "\n",
       "    .dataframe tbody tr th {\n",
       "        vertical-align: top;\n",
       "    }\n",
       "\n",
       "    .dataframe thead th {\n",
       "        text-align: right;\n",
       "    }\n",
       "</style>\n",
       "<table border=\"1\" class=\"dataframe\">\n",
       "  <thead>\n",
       "    <tr style=\"text-align: right;\">\n",
       "      <th></th>\n",
       "      <th>text</th>\n",
       "      <th>pos</th>\n",
       "      <th>tag</th>\n",
       "      <th>template_id</th>\n",
       "      <th>label</th>\n",
       "      <th>sentence</th>\n",
       "    </tr>\n",
       "  </thead>\n",
       "  <tbody>\n",
       "    <tr>\n",
       "      <th>0</th>\n",
       "      <td>I</td>\n",
       "      <td>PRON</td>\n",
       "      <td>PRP</td>\n",
       "      <td>46</td>\n",
       "      <td>O</td>\n",
       "      <td>0</td>\n",
       "    </tr>\n",
       "    <tr>\n",
       "      <th>1</th>\n",
       "      <td>'ll</td>\n",
       "      <td>AUX</td>\n",
       "      <td>MD</td>\n",
       "      <td>46</td>\n",
       "      <td>O</td>\n",
       "      <td>0</td>\n",
       "    </tr>\n",
       "    <tr>\n",
       "      <th>2</th>\n",
       "      <td>meet</td>\n",
       "      <td>VERB</td>\n",
       "      <td>VB</td>\n",
       "      <td>46</td>\n",
       "      <td>O</td>\n",
       "      <td>0</td>\n",
       "    </tr>\n",
       "    <tr>\n",
       "      <th>3</th>\n",
       "      <td>you</td>\n",
       "      <td>PRON</td>\n",
       "      <td>PRP</td>\n",
       "      <td>46</td>\n",
       "      <td>O</td>\n",
       "      <td>0</td>\n",
       "    </tr>\n",
       "    <tr>\n",
       "      <th>4</th>\n",
       "      <td>at</td>\n",
       "      <td>ADP</td>\n",
       "      <td>IN</td>\n",
       "      <td>46</td>\n",
       "      <td>O</td>\n",
       "      <td>0</td>\n",
       "    </tr>\n",
       "    <tr>\n",
       "      <th>5</th>\n",
       "      <td>323</td>\n",
       "      <td>NUM</td>\n",
       "      <td>CD</td>\n",
       "      <td>46</td>\n",
       "      <td>B-STREET_ADDRESS</td>\n",
       "      <td>0</td>\n",
       "    </tr>\n",
       "    <tr>\n",
       "      <th>6</th>\n",
       "      <td>Postbox</td>\n",
       "      <td>PROPN</td>\n",
       "      <td>NNP</td>\n",
       "      <td>46</td>\n",
       "      <td>I-STREET_ADDRESS</td>\n",
       "      <td>0</td>\n",
       "    </tr>\n",
       "    <tr>\n",
       "      <th>7</th>\n",
       "      <td>78</td>\n",
       "      <td>NUM</td>\n",
       "      <td>CD</td>\n",
       "      <td>46</td>\n",
       "      <td>I-STREET_ADDRESS</td>\n",
       "      <td>0</td>\n",
       "    </tr>\n",
       "    <tr>\n",
       "      <th>8</th>\n",
       "      <td>\\n</td>\n",
       "      <td>SPACE</td>\n",
       "      <td>_SP</td>\n",
       "      <td>46</td>\n",
       "      <td>I-STREET_ADDRESS</td>\n",
       "      <td>0</td>\n",
       "    </tr>\n",
       "    <tr>\n",
       "      <th>9</th>\n",
       "      <td>Apt</td>\n",
       "      <td>PROPN</td>\n",
       "      <td>NNP</td>\n",
       "      <td>46</td>\n",
       "      <td>I-STREET_ADDRESS</td>\n",
       "      <td>0</td>\n",
       "    </tr>\n",
       "  </tbody>\n",
       "</table>\n",
       "</div>"
      ],
      "text/plain": [
       "      text    pos  tag  template_id             label  sentence\n",
       "0        I   PRON  PRP           46                 O         0\n",
       "1      'll    AUX   MD           46                 O         0\n",
       "2     meet   VERB   VB           46                 O         0\n",
       "3      you   PRON  PRP           46                 O         0\n",
       "4       at    ADP   IN           46                 O         0\n",
       "5      323    NUM   CD           46  B-STREET_ADDRESS         0\n",
       "6  Postbox  PROPN  NNP           46  I-STREET_ADDRESS         0\n",
       "7       78    NUM   CD           46  I-STREET_ADDRESS         0\n",
       "8      \\n   SPACE  _SP           46  I-STREET_ADDRESS         0\n",
       "9      Apt  PROPN  NNP           46  I-STREET_ADDRESS         0"
      ]
     },
     "execution_count": 16,
     "metadata": {},
     "output_type": "execute_result"
    }
   ],
   "source": [
    "conll = InputSample.create_conll_dataset(dataset=fake_records)\n",
    "conll.head(10)"
   ]
  },
  {
   "cell_type": "code",
   "execution_count": 17,
   "metadata": {
    "is_executing": true,
    "pycharm": {
     "name": "#%%\n"
    }
   },
   "outputs": [
    {
     "name": "stdout",
     "output_type": "stream",
     "text": [
      "CoNLL2003 dataset structure output location: ../data/generated_size_1500_date_January_08_2025.tsv\n"
     ]
    }
   ],
   "source": [
    "conll.to_csv(output_conll, sep=\"\\t\")\n",
    "print(f\"CoNLL2003 dataset structure output location: {output_conll}\")"
   ]
  },
  {
   "cell_type": "markdown",
   "metadata": {},
   "source": [
    "### Next steps\n",
    "\n",
    "- Evaluate Presidio using fake data: [Sample](4_Evaluate_Presidio_Analyzer.ipynb)\n",
    "- Split to train/test/validation while ensuring sentences originiating from the same template are all on the same subset: [Sample](3_Split_by_pattern_#.ipynb)\n",
    "- Conduct a small exploratory data analysis on the generated data: [Sample](2_PII_EDA.ipynb)"
   ]
  },
  {
   "cell_type": "markdown",
   "metadata": {},
   "source": [
    "#### Copyright notice:\n",
    "\n",
    "\n",
    "Data generated for evaluation was created using Fake Name Generator.\n",
    "\n",
    "Fake Name Generator identities by the [Fake Name Generator](https://www.fakenamegenerator.com/) \n",
    "are licensed under a [Creative Commons Attribution-Share Alike 3.0 United States License](http://creativecommons.org/licenses/by-sa/3.0/us/). Fake Name Generator and the Fake Name Generator logo are trademarks of Corban Works, LLC."
   ]
  }
 ],
 "metadata": {
  "kernelspec": {
   "display_name": "presidio-research",
   "language": "python",
   "name": "presidio_research"
  },
  "language_info": {
   "codemirror_mode": {
    "name": "ipython",
    "version": 3
   },
   "file_extension": ".py",
   "mimetype": "text/x-python",
   "name": "python",
   "nbconvert_exporter": "python",
   "pygments_lexer": "ipython3",
   "version": "3.9.6"
  }
 },
 "nbformat": 4,
 "nbformat_minor": 4
}
